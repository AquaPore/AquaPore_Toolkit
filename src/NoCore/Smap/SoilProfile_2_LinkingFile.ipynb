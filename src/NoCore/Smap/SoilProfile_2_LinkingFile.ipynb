{
 "cells": [
  {
   "cell_type": "code",
   "execution_count": 51,
   "metadata": {},
   "outputs": [],
   "source": [
    "using CSV\n",
    "using Tables"
   ]
  },
  {
   "cell_type": "code",
   "execution_count": 52,
   "metadata": {},
   "outputs": [
    {
     "name": "stdout",
     "output_type": "stream",
     "text": [
      "0.6\n",
      "0.0\n",
      "0.65\n",
      "0.65\n",
      "0.675\n",
      "0.0\n",
      "0.25\n",
      "0.8\n",
      "0.85\n",
      "0.0\n",
      "0.65\n",
      "0.775\n",
      "0.0\n",
      "0.65\n",
      "0.775\n",
      "0.0\n",
      "0.15\n",
      "0.65\n",
      "0.125\n",
      "0.695\n",
      "0.425\n",
      "0.675\n",
      "0.0\n",
      "0.695\n",
      "0.0\n"
     ]
    }
   ],
   "source": [
    "\n",
    "PathData = [\"Fris_19a.2_SOILPROFILE.csv\",\n",
    "\"Timu_14a.4_SOILPROFILE.csv\",\n",
    "\"Crom_3a.2_SOILPROFILE.csv\",\n",
    "\"Mand_84a.1_SOILPROFILE.csv\",\n",
    "\"Lism_43a.2_SOILPROFILE.csv\",\n",
    "\"Hanga_2b.2_SOILPROFILE.csv\",\n",
    "\"Albi_1a.2_SOILPROFILE.csv\",\n",
    "\"Rang_82a.2_SOILPROFILE.csv\",\n",
    "\"Rang_84a.1_SOILPROFILE.csv\",\n",
    "\"Brunt_4a.2_SOILPROFILE.csv\",\n",
    "\"Raka_45a.1_SOILPROFILE.csv\",\n",
    "\"Fork_11a.2_SOILPROFILE.csv\",\n",
    "\"Barr_67a.2_SOILPROFILE.csv\",\n",
    "\"Hind_65a.2_SOILPROFILE.csv\",\n",
    "\"Moon_1a.2_SOILPROFILE.csv\",\n",
    "\"Fere_44a.2_SOILPROFILE.csv\",\n",
    "\"Oket_7a.1_SOILPROFILE.csv\",\n",
    "\"Ayre_26a.1_SOILPROFILE.csv\",\n",
    "\"Danvk_57a.2_SOILPROFILE.csv\",\n",
    "\"Paer_5a.2_SOILPROFILE.csv\",\n",
    "\"Hind_66a.1_SOILPROFILE.csv\",\n",
    "\"Mand_85a.1_SOILPROFILE.csv\",\n",
    "\"Fanga_25a.2_SOILPROFILE.csv\",\n",
    "\"Lism_44a.2_SOILPROFILE.csv\",\n",
    "\"Waka_71a.2_SOILPROFILE.csv\"]\n",
    "\n",
    "N = length(PathData)\n",
    "\n",
    "Path= \"C:\\\\JOE\\\\MAIN\\\\MODELS\\\\AquaPore_Toolkit\\\\data\\\\INPUT\\\\Data_Hypix\\\\SMAP\\\\SOILPROFILE\\\\\"\n",
    "Rf_Max = fill(0.0, N)\n",
    "for i=1:N\n",
    " \tData₀ = CSV.File(Path * PathData[i], header=true)\n",
    "\tRf_Max[i] = convert(Vector{Float64}, Tables.getcolumn(Data₀, Symbol(\"Rf_Max[%]\")))[1]\n",
    "\tprintln(Rf_Max[i]) \n",
    "\t\n",
    "end\n",
    "\n"
   ]
  }
 ],
 "metadata": {
  "kernelspec": {
   "display_name": "Julia 1.9.1",
   "language": "julia",
   "name": "julia-1.9"
  },
  "language_info": {
   "file_extension": ".jl",
   "mimetype": "application/julia",
   "name": "julia",
   "version": "1.9.1"
  },
  "orig_nbformat": 4
 },
 "nbformat": 4,
 "nbformat_minor": 2
}
