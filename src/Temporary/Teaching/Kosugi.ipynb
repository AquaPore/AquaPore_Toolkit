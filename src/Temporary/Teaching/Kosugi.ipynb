{
 "cells": [
  {
   "cell_type": "code",
   "execution_count": 68,
   "metadata": {},
   "outputs": [],
   "source": [
    "# Kosugi model"
   ]
  },
  {
   "cell_type": "markdown",
   "metadata": {},
   "source": [
    "# KOSUGI MODEL\n",
    "This is Kosugi $\\theta (\\psi)$ & $K (\\psi) $ model  "
   ]
  },
  {
   "cell_type": "code",
   "execution_count": 69,
   "metadata": {},
   "outputs": [
    {
     "name": "stderr",
     "output_type": "stream",
     "text": [
      "WARNING: replacing module cst.\n",
      "WARNING: replacing module hydroRelation.\n",
      "WARNING: could not import Main.tool into hydroRelation\n",
      "WARNING: replacing module wrc.\n",
      "WARNING: replacing module kunsat.\n"
     ]
    }
   ],
   "source": [
    "Path =  \"D:\\\\MAIN\\\\MODELS\\\\AquaPore_Toolkit\\\\src\\\\\"\n",
    "\n",
    "include(Path * \"Cst.jl\")\n",
    "include(Path * \"hydro//HydroRelation.jl\")\n",
    "include(Path * \"hydro//Wrc.jl\")\n",
    "include(Path * \"hydro//Kunsat.jl\")\n",
    "\n",
    "using CairoMakie, ColorSchemes\n",
    "using CSV, Tables, DataFrames, LaTeXStrings\n",
    "import SpecialFunctions: erfc, erfcinv\n",
    "import ..wrc, ..kunsat, ..hydroRelation, ..cst;"
   ]
  },
  {
   "cell_type": "code",
   "execution_count": 70,
   "metadata": {},
   "outputs": [],
   "source": [
    "# Observed data\n",
    "θΨ_LogΨobs = log1p.([0.0, 40.0, 70.0, 100.0, 500.0, 1000.0, 2000.0, 4000.0, 10000.0, 150000.0]) \n",
    "θΨ_θobs_1 = [0.672, 0.612, 0.61, 0.609, 0.588, 0.572, 0.559, 0.554, 0.549, 0.163]\n",
    "θΨ_θobs_2 = [0.733, 0.507, 0.48, 0.463, 0.356, 0.348, 0.34, 0.331, 0.318, 0.036]\n",
    "θΨ_θobs_3 = [0.658, 0.573, 0.567, 0.561, 0.516, 0.501, 0.488, 0.488, 0.487, 0.081]\n",
    "\n",
    "KΨ_LogΨobs = log1p.([10.0, 40.0, 70.0, 100.0])  \n",
    "KΨ_Kobs_1 = [0.00320, 0.00360, 0.00300, 0.00220] \n",
    "KΨ_Kobs_2 = [0.56300, 0.05200, 0.01400, 0.00340]\n",
    "KΨ_Kobs_3 = [0.00470, 0.00440, 0.00480, 0.00360];"
   ]
  },
  {
   "cell_type": "code",
   "execution_count": 71,
   "metadata": {},
   "outputs": [
    {
     "data": {
      "text/plain": [
       "FUNC_σ_2_Ψm (generic function with 1 method)"
      ]
     },
     "metadata": {},
     "output_type": "display_data"
    }
   ],
   "source": [
    "# ~~~~~~~~~~~~~~~~~~~~~~~~~~~~~~~~~~~~~~~~~~~~~~~~~~~~~~~~~~~~~~~~\n",
    "#\t\tFUNCTION : θΨMODEL\n",
    "# ~~~~~~~~~~~~~~~~~~~~~~~~~~~~~~~~~~~~~~~~~~~~~~~~~~~~~~~~~~~~~~~~\n",
    "\tfunction θΨMODEL(Ψ; KosugiModel_θΨ⍰=\"ΨmacMat\", Pσ_Mac=2.0, θr, θs, θsMacMat, σ, Ψm=1000.0, ΨmacMat_2_σMac_ΨmMac=true, ΨmacMat=100)\n",
    "\n",
    "\t\tθsim = zeros(length(Ψ))\n",
    "\n",
    "\t\tfor (iiΨ, iΨ) in enumerate(Ψ)\n",
    "\t\t\tθsim[iiΨ] = wrc.kg.Ψ_2_θ(;Ψ₁=iΨ, θs, θsMacMat, θr, Ψm, σ, ΨmacMat, KosugiModel_θΨ⍰, ΨmacMat_2_σMac_ΨmMac, Pσ_Mac)\n",
    "\t\tend\n",
    "\t\t\n",
    "\treturn θsim\n",
    "\tend  # function: θΨMODEL\n",
    "# ------------------------------------------------------------------\n",
    "\n",
    "\n",
    "# ~~~~~~~~~~~~~~~~~~~~~~~~~~~~~~~~~~~~~~~~~~~~~~~~~~~~~~~~~~~~~~~~\n",
    "#\t\tFUNCTION : KΨMODEL\n",
    "# ~~~~~~~~~~~~~~~~~~~~~~~~~~~~~~~~~~~~~~~~~~~~~~~~~~~~~~~~~~~~~~~~\n",
    "\tfunction KΨMODEL(Ψ; KosugiModel_KΨ⍰=\"ΨmacMat\", KosugiModel_θΨ⍰=\"ΨmacMat\", KosugiModel_σ_2_Tb=false, Ks, Pσ_Mac=2.0, θr, θs, θsMacMat, σ_Max=4.0, σ_Min=0.7, σ, τa=0.5, τaMac=0.5, τb=1.103, τbMac=0.619, τc=1.0, τcMac=2.0, τₚ=3.0, Ψm, ΨmacMat_2_σMac_ΨmMac=true, ΨmacMat)\n",
    "\n",
    "\t\tKsim = zeros(length(Ψ))\n",
    "\n",
    "\t\tfor (iiΨ, iΨ) in enumerate(Ψ)\n",
    "\t\t\tKsim[iiΨ] = kunsat.kg.KUNSAT_θΨSe(;Ψ₁=iΨ, θs, θsMacMat, θr, Ψm, σ, ΨmacMat, Ks, τa, τb, τc, τₚ, τaMac, τbMac, τcMac, σ_Min, σ_Max, KosugiModel_KΨ⍰, KosugiModel_θΨ⍰, KosugiModel_σ_2_Tb, Pσ_Mac, ΨmacMat_2_σMac_ΨmMac)\n",
    "\t\tend\n",
    "\n",
    "\t\tKsMat = kunsat.kg.KUNSAT_θΨSe(;Ψ₁=ΨmacMat, θs, θsMacMat, θr, Ψm, σ, ΨmacMat, Ks, τa, τb, τc, τₚ, τaMac, τbMac, τcMac, σ_Min, σ_Max, KosugiModel_KΨ⍰, KosugiModel_θΨ⍰, KosugiModel_σ_2_Tb, Pσ_Mac, ΨmacMat_2_σMac_ΨmMac)\n",
    "\t\t\n",
    "\treturn Ksim, KsMat\n",
    "\tend  # function: KΨMODEL\n",
    "# ------------------------------------------------------------------\n",
    "\n",
    "\n",
    "\n",
    "# ~~~~~~~~~~~~~~~~~~~~~~~~~~~~~~~~~~~~~~~~~~~~~~~~~~~~~~~~~~~~~~~~\n",
    "#\t\tFUNCTION : DISTRIBUTION\n",
    "# ~~~~~~~~~~~~~~~~~~~~~~~~~~~~~~~~~~~~~~~~~~~~~~~~~~~~~~~~~~~~~~~~\n",
    "function DISTRIBUTION(Ψ; KosugiModel_θΨ⍰=\"ΨmacMat\", Pσ_Mac=2.0, θr, θs, θsMacMat, σ, Ψm=1000.0, ΨmacMat_2_σMac_ΨmMac=true, ΨmacMat=100)\n",
    "\n",
    "\tΨmMac = hydroRelation.FUNC_ΨmacMat_2_ΨmMac(;ΨmacMat)\n",
    "\tσMac  = hydroRelation.FUNC_ΨmacMat_2_σMac(;ΨmacMat)\n",
    "\n",
    "\t∂θ∂Ψ_Mat_Vect = zeros(length(Ψ))\n",
    "\t∂θ∂Ψ_Mac_Vect = zeros(length(Ψ))\n",
    "\n",
    "\tfor (iiΨ, iΨ) in enumerate(Ψ)\n",
    "\n",
    "\t\tΨmod_Mat = exp(log(Ψm) - σ^2)\n",
    "\n",
    "\t\tΨmod_Mac = exp(log(ΨmMac) - σMac^2)\n",
    "\n",
    "\t\tif iΨ > eps(100.0)\n",
    "\t\t\t∂θ∂Ψ_Mat(Ψ₁) = (θsMacMat - θr) * exp( -((log(Ψ₁ / Ψm)) ^ 2.0) / (2.0 * σ^2.0)) / (Ψ₁ * σ * √(π * 2.0))\n",
    "\n",
    "\t\t\t∂θ∂Ψ_Mat_Mod = (θsMacMat - θr) * exp( -((log(Ψmod_Mat / Ψm)) ^ 2.0) / (2.0 * σ^2.0)) / (Ψmod_Mat * σ * √(π * 2.0))\n",
    "\n",
    "\t\t\t∂θ∂Ψ_Mac(Ψ₁) = (θs - θsMacMat) * exp( -((log(Ψ₁ / ΨmMac)) ^ 2.0) / (2.0 * σMac^2.0)) / (Ψ₁ * σMac * √(π * 2.0))\n",
    "\n",
    "\t\t\t∂θ∂Ψ_Mac_Mod = (θs - θsMacMat) * exp( -((log(Ψmod_Mac / ΨmMac)) ^ 2.0) / (2.0 * σMac^2.0)) / (Ψmod_Mac * σMac * √(π * 2.0))\n",
    "\n",
    "\t\t\t∂θ∂Ψ_Mat_Vect[iiΨ] = ∂θ∂Ψ_Mat(iΨ) / ∂θ∂Ψ_Mat(Ψmod_Mat)\n",
    "\n",
    "\t\t\t∂θ∂Ψ_Mac_Vect[iiΨ] = ∂θ∂Ψ_Mac(iΨ) / ( ∂θ∂Ψ_Mac(Ψmod_Mac) + eps())\n",
    "\n",
    "\t\telse\n",
    "\t\t\t∂θ∂Ψ_Mat_Vect[iiΨ] = 0.0 \n",
    "\t\t\t∂θ∂Ψ_Mac_Vect[iiΨ] = 0.0\n",
    "\n",
    "\t\tend # function ∂θ∂Ψ_NORM\n",
    "\n",
    "\tend\n",
    "\t\n",
    "return ∂θ∂Ψ_Mat_Vect, ∂θ∂Ψ_Mac_Vect\n",
    "end  # function: DISTRIBUTION\n",
    "# ------------------------------------------------------------------\n",
    "\n",
    "# ~~~~~~~~~~~~~~~~~~~~~~~~~~~~~~~~~~~~~~~~~~~~~~~~~~~~~~~~~~~~~~~~\n",
    "#\t\tFUNCTION : APPEND_HYDRO\n",
    "# ~~~~~~~~~~~~~~~~~~~~~~~~~~~~~~~~~~~~~~~~~~~~~~~~~~~~~~~~~~~~~~~~\n",
    "\tfunction APPEND_HYDRO(HydroVect)\n",
    "\t\tY = []\n",
    "\t\tfor iHydroVect ∈ HydroVect\n",
    "\t\t\tappend!(Y, iHydroVect)\n",
    "\t\tend\n",
    "\treturn Y\n",
    "\tend  # function: APPEND_HYDRO\n",
    "# ------------------------------------------------------------------\n",
    "\n",
    "\n",
    "# ~~~~~~~~~~~~~~~~~~~~~~~~~~~~~~~~~~~~~~~~~~~~~~~~~~~~~~~~~~~~~~~~\n",
    "#\t\tFUNCTION : FUNC_σ_2_Ψm\n",
    "# ~~~~~~~~~~~~~~~~~~~~~~~~~~~~~~~~~~~~~~~~~~~~~~~~~~~~~~~~~~~~~~~~\n",
    "\tfunction FUNC_σ_2_Ψm(ΨmacMat, σ; Pσ=3.0)\n",
    "\t\t# return ΨmModel =(ΨmacMat ^ 0.75) * exp(σ * Pσ)\n",
    "\n",
    "\t\treturn exp(log(√ΨmacMat * exp(σ * Pσ)) + log(ΨmacMat * exp(σ * Pσ)))\n",
    "\tend  # function: FUNC_σ_2_Ψm\n",
    "# ------------------------------------------------------------------"
   ]
  },
  {
   "cell_type": "code",
   "execution_count": 72,
   "metadata": {},
   "outputs": [
    {
     "name": "stdout",
     "output_type": "stream",
     "text": [
      "FUNC_σ_2_Ψm(50, 0.75; Pσ = 3.0) = 31825.861982779414\n",
      "FUNC_σ_2_Ψm(500, 4.0; Pσ = 3.0) = 2.9615738873312125e14\n"
     ]
    },
    {
     "data": {
      "text/plain": [
       "2.9615738873312125e14"
      ]
     },
     "metadata": {},
     "output_type": "display_data"
    }
   ],
   "source": [
    "@show FUNC_σ_2_Ψm(50, 0.75; Pσ=3.0)\n",
    "@show FUNC_σ_2_Ψm(500, 4.0; Pσ=3.0)"
   ]
  },
  {
   "cell_type": "code",
   "execution_count": 73,
   "metadata": {},
   "outputs": [],
   "source": [
    "#  For every ψ\n",
    "Ψ_Min_Log = log10(0.0001); Ψ_Max_Log = log10(1500_00.0)\n",
    "Ψ = 10.0.^(collect(Ψ_Min_Log:0.0001:Ψ_Max_Log))\n",
    "N_Ψ = length(Ψ)\n",
    "\n",
    "Ψ_Log = Array{Float64}(undef, N_Ψ)\n",
    "for iZ=1:N_Ψ\n",
    "\tΨ_Log[iZ] = log1p(Ψ[iZ])\n",
    "end"
   ]
  },
  {
   "cell_type": "code",
   "execution_count": 74,
   "metadata": {},
   "outputs": [],
   "source": [
    "using GLMakie\n",
    "GLMakie.activate!(inline=false) \n",
    "\n",
    "Linewidth  = 4\n",
    "xlabelSize = 30\n",
    "xticksize  = 10\n",
    "xgridvisible = false\n",
    "Width = 1000\n",
    "Height = 350\n",
    "\n",
    "Fig = Figure()\n",
    "\n",
    "sg = SliderGrid(Fig[2,2],\n",
    "    (label=\"θs\", range=0.25:0.01:0.8, startvalue       = 0.8),\n",
    "    (label=\"θsMacMat\", range=0.75:0.01:1.0, startvalue = 0.8),\n",
    "    (label=\"θr\", range=0.0:0.01:0.25, startvalue       = 0.1),\n",
    "    (label=\"σ\", range=0.75:0.01:3.75, startvalue       = 2.0),\n",
    "    (label=\"Log10_Ψm\", range=1.0:0.1:10.0, startvalue  = 5.0),\n",
    "    (label=\"Log10_ΨmacMat\", range=0.01:0.01:2.0, startvalue = 0.5),\n",
    "    (label=\"Kₛ\", range=1.0:1.0:50.0, startvalue      = 10.0),\n",
    "    width = 1000, tellheight = true )\n",
    "\n",
    "    θs       = sg.sliders[1].value\n",
    "    θsMacMat = sg.sliders[2].value\n",
    "    θr       = sg.sliders[3].value\n",
    "    σ        = sg.sliders[4].value\n",
    "    Ψm       = sg.sliders[5].value\n",
    "    ΨmacMat  = sg.sliders[6].value\n",
    "    Ks       = sg.sliders[7].value\n",
    "    \n",
    "    obs_func = on(σ) do val\n",
    "        val > 0 && Makie.set_close_to!(sg.sliders[5], log10(FUNC_σ_2_Ψm(ΨmacMat[], σ[])))\n",
    "    end\n",
    "    # obs_func = on(θs) do val\n",
    "    #     val < θsMacMat[] && Makie.set_close_to!(sg.sliders[1], θsMacMat[])\n",
    "    # end\n",
    "\n",
    "    # Menu\n",
    "         Menu1 = Menu(Fig[1,2], options = [\"ΨmacMat\", \"Traditional\"], default = \"ΨmacMat\")\n",
    "         Fig[1, 2] = vgrid!(\n",
    "         Label(Fig, \"Model\", width = nothing),\n",
    "         Menu1,\n",
    "         tellheight = false, width = 200)\n",
    "\n",
    "         Model = Observable{Any}([\"\"])\n",
    "         # Model =\"Traditional\"\n",
    "         on(Menu1.selection) do S\n",
    "            Model[]= S \n",
    "         end\n",
    "         notify(Menu1.selection)\n",
    "      \n",
    "      # LIFT DISTRIBUTION\n",
    "         ∂θ∂Ψ_Mat = lift((θs, θsMacMat, θr, σ, Ψm, ΨmacMat, Model) -> DISTRIBUTION(Ψ; θs=θs, θsMacMat=θsMacMat*θs, θr=θr, σ=σ, Ψm=10.0^Ψm, ΨmacMat=10.0^ΨmacMat, KosugiModel_θΨ⍰=Model)[1], θs, θsMacMat, θr, σ, Ψm, ΨmacMat, Model)\n",
    "\n",
    "         ∂θ∂Ψ_Mac = lift((θs, θsMacMat, θr, σ, Ψm, ΨmacMat, Model) -> DISTRIBUTION(Ψ; θs=θs, θsMacMat=θsMacMat*θs, θr=θr, σ=σ, Ψm=10.0^Ψm, ΨmacMat=10.0^ΨmacMat, KosugiModel_θΨ⍰=Model)[2], θs, θsMacMat, θr, σ, Ψm, ΨmacMat, Model)\n",
    "   \n",
    "      # LIFT θ(ψ)\n",
    "        θsim = lift((θs, θsMacMat, θr, σ, Ψm, ΨmacMat, Model) -> θΨMODEL(Ψ; θs=θs, θsMacMat=θsMacMat*θs, θr=θr, σ=σ, Ψm=10.0^Ψm, ΨmacMat=10.0^ΨmacMat, KosugiModel_θΨ⍰=Model), θs, θsMacMat, θr, σ, Ψm, ΨmacMat, Model)\n",
    "\n",
    "        Y_Line_θΨ = lift((θs, θsMacMat, θr) -> APPEND_HYDRO([θs, θsMacMat*θs, θr]), θs, θsMacMat, θr)\n",
    "\n",
    "        X_Line_θΨ = lift((ΨmacMat) -> APPEND_HYDRO([log1p(10.0^ΨmacMat)]), ΨmacMat)\n",
    "\n",
    "    # LIFT K(ψ)\n",
    "        Ksim = lift((θs, θsMacMat, θr, σ, Ψm, ΨmacMat, Ks, Model) -> KΨMODEL(Ψ; θs=θs, θsMacMat=θsMacMat*θs, θr=θr, σ=σ, Ψm=10.0^Ψm, ΨmacMat=10.0^ΨmacMat, Ks=Ks, KosugiModel_KΨ⍰=Model, KosugiModel_θΨ⍰=Model)[1], θs, θsMacMat, θr, σ, Ψm, ΨmacMat, Ks, Model)\n",
    "\n",
    "        KsMat = lift((θs, θsMacMat, θr, σ, Ψm, ΨmacMat, Ks, Model) -> KΨMODEL(Ψ; θs=θs, θsMacMat=θsMacMat*θs, θr=θr, σ=σ, Ψm=10.0^Ψm, ΨmacMat=10.0^ΨmacMat, Ks=Ks, KosugiModel_KΨ⍰=Model, KosugiModel_θΨ⍰=Model)[2], θs, θsMacMat, θr, σ, Ψm, ΨmacMat, Ks, Model)\n",
    "\n",
    "        Y_Line_KsMat = lift((Ks, KsMat) -> APPEND_HYDRO([Ks, KsMat]), Ks, KsMat)\n",
    "\n",
    "\n",
    "    # PLOTTING AX_1: θ(Ψ)\n",
    "        Ax_1 = Axis(Fig[2, 1], width=Width, height=Height, xticklabelrotation = π/4.0, xlabel= L\"$ψ$ [kPa]\", ylabel=L\"$\\theta(\\psi)$ [L³ L⁻³]\",xlabelsize=xlabelSize, ylabelsize=xlabelSize, xticksize=xticksize, xgridvisible=xgridvisible, ygridvisible=xgridvisible)\n",
    "            ylims!(Ax_1, 0.0, 1.0)\n",
    "        \n",
    "            Ψticks = [0, 50, 100, 500, 1000,5000,100_00, 500_00, 1000_00, 1500_00] # mm\n",
    "            Ax_1.xticks = (log1p.(Ψticks), string.(cst.Mm_2_kPa .* Ψticks))\n",
    "            \n",
    "            θticks = [0.0, 0.25, 0.5, 0.75, 1.0] # mm\n",
    "            Ax_1.yticks = (θticks, string.(θticks))\n",
    "        \n",
    "            lines!(Ax_1, Ψ_Log, θsim, linewidth=Linewidth, color=:red2, label=\"θΨ_MacMat\")\n",
    "\n",
    "            hlines!(Ax_1, Y_Line_θΨ; xmin=0.0, color=:blue2, linewidth=Linewidth/2.0, linestyle=:dash)\n",
    "\n",
    "            vlines!(Ax_1, X_Line_θΨ; ymin = 0.0, color=:blue2, linewidth=Linewidth/2.0, linestyle=:dash)\n",
    "\n",
    "            # scatter!(Ax_1, θΨ_LogΨobs, θΨ_θobs_1, marker=:hexagon, markersize=25)\n",
    "\n",
    "            # scatter!(Ax_1, θΨ_LogΨobs, θΨ_θobs_2, marker=:diamond, markersize=25)\n",
    "\n",
    "            scatter!(Ax_1, θΨ_LogΨobs, θΨ_θobs_3, marker=:diamond, markersize=25)\n",
    "\n",
    "    # PLOTTING AX_2: K(Ψ)\n",
    "        Ax_2 = Axis(Fig[3, 1], width=Width, height=Height, xticklabelrotation = π / 4.0, xlabel= L\"$ψ$ [kPa]\", ylabel=L\"$K(\\psi)$ [cm hr ⁻¹]\", xlabelsize=xlabelSize, ylabelsize=xlabelSize, xgridvisible=xgridvisible, ygridvisible=xgridvisible)\n",
    "\n",
    "            Ψticks = [0, 50, 100, 500, 1000,5000,100_00, 500_00, 1000_00, 1500_00] # mm\n",
    "            Ax_2.xticks = (log1p.(Ψticks), string.(cst.Mm_2_kPa .* Ψticks))    \n",
    "\n",
    "            ylims!(Ax_2, 0.0, 30.0)\n",
    "\n",
    "            lines!(Ax_2, Ψ_Log, Ksim, linewidth=Linewidth, color=:red2)\n",
    "\n",
    "            vlines!(Ax_2, X_Line_θΨ; ymin = 0.0, color=:blue2, linewidth=Linewidth/2.0, linestyle=:dash)\n",
    "\n",
    "            hlines!(Ax_2, Y_Line_KsMat; xmin=0.0, color=:blue2, linewidth=Linewidth/2.0, linestyle=:dash)\n",
    "\n",
    "            # scatter!(Ax_2, KΨ_LogΨobs, KΨ_Kobs_1 .* cst.MmS_2_CmH, marker=:hexagon, markersize=25)\n",
    "\n",
    "            # scatter!(Ax_2, KΨ_LogΨobs, KΨ_Kobs_2 .* cst.MmS_2_CmH, marker=:diamond, markersize=25)\n",
    "\n",
    "            scatter!(Ax_2, KΨ_LogΨobs, KΨ_Kobs_1 .* cst.MmS_2_CmH, marker=:diamond, markersize=25)\n",
    "\n",
    "      # PLOTTING AX_3: DISTRIBUTION\n",
    "         Ax_3 = Axis(Fig[1, 1], width=Width, height=Height, xticklabelrotation = π / 4.0, xlabel= L\"$R$ [mm]\", ylabel=\"Prob Dens Function\", xlabelsize=xlabelSize, ylabelsize=xlabelSize, xgridvisible=xgridvisible, ygridvisible=xgridvisible)\n",
    "\n",
    "      \n",
    "         ylims!(Ax_3, 0.0, 1.2)\n",
    "\n",
    "         Ax_3.xticks = (log1p.(Ψticks), \"10^\" .* string.(round.(log10.(cst.Y ./ Ψticks), digits=1)))\n",
    "\n",
    "         lines!(Ax_3, Ψ_Log, ∂θ∂Ψ_Mat, linewidth=Linewidth, color=:Green)\n",
    "         lines!(Ax_3, Ψ_Log, ∂θ∂Ψ_Mac, linewidth=Linewidth, color=:red2)\n",
    "         vlines!(Ax_3, X_Line_θΨ; ymin = 0.0, color=:blue2, linewidth=Linewidth/2.0, linestyle=:dash)\n",
    "\n",
    " Fig"
   ]
  },
  {
   "cell_type": "code",
   "execution_count": 75,
   "metadata": {},
   "outputs": [
    {
     "data": {
      "text/plain": [
       "3.3"
      ]
     },
     "metadata": {},
     "output_type": "display_data"
    }
   ],
   "source": [
    "round(3.3, digits=2)\n"
   ]
  }
 ],
 "metadata": {
  "kernelspec": {
   "display_name": "Julia 1.10.4",
   "language": "julia",
   "name": "julia-1.10"
  },
  "language_info": {
   "file_extension": ".jl",
   "mimetype": "application/julia",
   "name": "julia",
   "version": "1.10.4"
  }
 },
 "nbformat": 4,
 "nbformat_minor": 2
}
