{
 "cells": [
  {
   "cell_type": "code",
   "execution_count": 44,
   "metadata": {},
   "outputs": [
    {
     "data": {
      "text/plain": [
       "6902-element Vector{Any}:\n",
       "  1\n",
       "  1\n",
       "  1\n",
       "  1\n",
       "  1\n",
       "  1\n",
       "  1\n",
       "  1\n",
       "  1\n",
       "  1\n",
       "  ⋮\n",
       " 98\n",
       " 99\n",
       " 99\n",
       " 99\n",
       " 99\n",
       " 99\n",
       " 99\n",
       " 99\n",
       " 99"
      ]
     },
     "metadata": {},
     "output_type": "display_data"
    }
   ],
   "source": [
    "using CSV, DataFrames\n",
    "using DelimitedFiles, Tables\n",
    "Path_Input=raw\"C:\\JOE\\DATA\\SOIL_DATABSE\\GRIZZLY\\GRIZZLY_Orig\\HT.DAT\"\n",
    "Path_Outpt=raw\"D:\\Main\\MODELS\\AquaPore_Toolkit\\data\\INPUT\\Data_SoilWater\\Grizzly\\Grizzly_ThetaH2.csv\"\n",
    "\n",
    "cd(Path_Input)\n",
    "Read_Path= readdir()\n",
    "\n",
    "Id_All = []\n",
    "H_All = []\n",
    "θ_All = []\n",
    "\n",
    "for iData in Read_Path\n",
    "   Data = readdlm(iData)\n",
    "\n",
    "   Id = filter(isdigit,iData)\n",
    "   Id = parse(Int64, Id)\n",
    "\n",
    "   H = Data[:,1]\n",
    "   θ = Data[:,2]\n",
    "\n",
    "   # Determine if monotically increasing\n",
    "\n",
    "   N = length(H)\n",
    "\n",
    "   Unique_Bool = fill(true, N)\n",
    "   for i=2:N\n",
    "      if H[i] ≠ H[i-1]\n",
    "         Unique_Bool[i] = true\n",
    "      else\n",
    "         Unique_Bool[i] = false\n",
    "      end   \n",
    "   end\n",
    "\n",
    "   H = H[Unique_Bool]\n",
    "   θ = θ[Unique_Bool]\n",
    "   Id = fill(Id, length(H))\n",
    "\n",
    "   append!(Id_All, Id)\n",
    "   append!(H_All, H)\n",
    "   append!(θ_All,θ)\n",
    "end\n",
    "\n",
    "Header = [\"Id\",\"H[mm]\",\"Theta[0-1]\"]\n",
    "\n",
    "CSV.write(Path_Outpt, Tables.table([Id_All H_All.*10.0 θ_All]), writeheader=true, header=Header, bom=true)\n",
    "\n",
    "Id_θ = copy(Id_All)\n",
    "\n"
   ]
  },
  {
   "cell_type": "code",
   "execution_count": 47,
   "metadata": {},
   "outputs": [
    {
     "data": {
      "text/plain": [
       "1243-element Vector{Any}:\n",
       " 11\n",
       " 11\n",
       " 11\n",
       " 11\n",
       " 11\n",
       " 11\n",
       " 11\n",
       " 11\n",
       " 11\n",
       " 11\n",
       "  ⋮\n",
       "  9\n",
       "  9\n",
       "  9\n",
       "  9\n",
       "  9\n",
       "  9\n",
       "  9\n",
       "  9\n",
       "  9"
      ]
     },
     "metadata": {},
     "output_type": "display_data"
    }
   ],
   "source": [
    "Path_Input=raw\"D:\\DATA\\DATAraw\\SOIL_DATABSE\\GRIZZLY\\GRIZZLY_Orig\\KT\"\n",
    "Path_Outpt=raw\"D:\\Main\\MODELS\\AquaPore_Toolkit\\data\\INPUT\\Data_SoilWater\\Grizzly\\Grizzly_Kunsatθ2.csv\"\n",
    "\n",
    "cd(Path_Input)\n",
    "Read_Path= readdir()\n",
    "\n",
    "Id_All = []\n",
    "K_All = []\n",
    "θ_All = []\n",
    "\n",
    "for iData in Read_Path\n",
    "   Data = readdlm(iData)\n",
    "\n",
    "   Id = filter(isdigit,iData)\n",
    "   Id = parse(Int64, Id)\n",
    "\n",
    "   K = Data[:,2]\n",
    "   θ = Data[:,1]\n",
    "\n",
    "   # Determine if monotically increasing\n",
    "\n",
    "   N = length(K)\n",
    "\n",
    "   Unique_Bool = fill(true, N)\n",
    "   for i=2:N\n",
    "      if θ[i] ≠ θ[i-1]\n",
    "         Unique_Bool[i] = true\n",
    "      else\n",
    "         Unique_Bool[i] = false\n",
    "      end   \n",
    "   end\n",
    "\n",
    "   K = K[Unique_Bool]\n",
    "   θ = θ[Unique_Bool]\n",
    "   Id = fill(Id, length(K))\n",
    "\n",
    "   append!(Id_All, Id)\n",
    "   append!(K_All, K)\n",
    "   append!(θ_All,θ)\n",
    "end\n",
    "\n",
    "Header = [\"Id\",\"Theta[0-1]\",\"Kunsat[mm_s]\"]\n",
    "\n",
    "CSV.write(Path_Outpt, Tables.table([Id_All θ_All K_All]), writeheader=true, header=Header, bom=true)\n",
    "\n",
    "Id_K =copy(Id_All)"
   ]
  },
  {
   "cell_type": "code",
   "execution_count": 52,
   "metadata": {},
   "outputs": [
    {
     "data": {
      "text/plain": [
       "\"D:\\\\Main\\\\MODELS\\\\AquaPore_Toolkit\\\\data\\\\INPUT\\\\Data_SoilWater\\\\Grizzly\\\\IdGood.csv\""
      ]
     },
     "metadata": {},
     "output_type": "display_data"
    }
   ],
   "source": [
    "IdGood = fill(1, length(Id_θ))\n",
    "i=1\n",
    "for iId in Id_θ\n",
    "   if iId ∈ Id_K\n",
    "      IdGood[i] = 1\n",
    "   else\n",
    "      IdGood[i] = 0\n",
    "   end\n",
    "   i+=1\n",
    "end\n",
    "Header =[\"Id\", \"IdGood\"]\n",
    "Path_Outpt=raw\"D:\\Main\\MODELS\\AquaPore_Toolkit\\data\\INPUT\\Data_SoilWater\\Grizzly\\IdGood.csv\"\n",
    "CSV.write(Path_Outpt, Tables.table([Id_θ IdGood]), writeheader=true, header=Header, bom=true)"
   ]
  },
  {
   "cell_type": "code",
   "execution_count": 53,
   "metadata": {},
   "outputs": [],
   "source": []
  }
 ],
 "metadata": {
  "kernelspec": {
   "display_name": "Julia 1.8.5",
   "language": "julia",
   "name": "julia-1.8"
  },
  "language_info": {
   "file_extension": ".jl",
   "mimetype": "application/julia",
   "name": "julia",
   "version": "1.8.5"
  },
  "orig_nbformat": 4
 },
 "nbformat": 4,
 "nbformat_minor": 2
}
