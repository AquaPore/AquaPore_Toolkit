{
 "cells": [
  {
   "cell_type": "code",
   "execution_count": 8,
   "metadata": {},
   "outputs": [
    {
     "name": "stderr",
     "output_type": "stream",
     "text": [
      "\u001b[32m\u001b[1m  Activating\u001b[22m\u001b[39m project at `C:\\JOE\\MAIN\\MODELS\\AquaPore_Toolkit`\n"
     ]
    }
   ],
   "source": [
    "using Pkg\n",
    "\n",
    "\n",
    "cd(raw\"C:\\JOE\\MAIN\\MODELS\\AquaPore_Toolkit\")\n",
    "\n",
    "if isfile(\"Project.toml\") && isfile(\"Manifest.toml\")\n",
    "    Pkg.activate(\".\")\n",
    "end"
   ]
  },
  {
   "cell_type": "code",
   "execution_count": 11,
   "metadata": {},
   "outputs": [
    {
     "ename": "ArgumentError",
     "evalue": "ArgumentError: Package erfc not found in current path.\n- Run `import Pkg; Pkg.add(\"erfc\")` to install the erfc package.",
     "output_type": "error",
     "traceback": [
      "ArgumentError: Package erfc not found in current path.\n",
      "- Run `import Pkg; Pkg.add(\"erfc\")` to install the erfc package.\n",
      "\n",
      "Stacktrace:\n",
      "  [1] macro expansion\n",
      "    @ .\\loading.jl:1163 [inlined]\n",
      "  [2] macro expansion\n",
      "    @ .\\lock.jl:223 [inlined]\n",
      "  [3] require(into::Module, mod::Symbol)\n",
      "    @ Base .\\loading.jl:1144\n",
      "  [4] eval\n",
      "    @ .\\boot.jl:368 [inlined]\n",
      "  [5] include_string(mapexpr::typeof(REPL.softscope), mod::Module, code::String, filename::String)\n",
      "    @ Base .\\loading.jl:1428\n",
      "  [6] #invokelatest#2\n",
      "    @ .\\essentials.jl:729 [inlined]\n",
      "  [7] invokelatest\n",
      "    @ .\\essentials.jl:726 [inlined]\n",
      "  [8] (::VSCodeServer.var\"#198#199\"{VSCodeServer.NotebookRunCellArguments, String})()\n",
      "    @ VSCodeServer c:\\Users\\PollaccoJ\\.vscode\\extensions\\julialang.language-julia-1.38.2\\scripts\\packages\\VSCodeServer\\src\\serve_notebook.jl:19\n",
      "  [9] withpath(f::VSCodeServer.var\"#198#199\"{VSCodeServer.NotebookRunCellArguments, String}, path::String)\n",
      "    @ VSCodeServer c:\\Users\\PollaccoJ\\.vscode\\extensions\\julialang.language-julia-1.38.2\\scripts\\packages\\VSCodeServer\\src\\repl.jl:249\n",
      " [10] notebook_runcell_request(conn::VSCodeServer.JSONRPC.JSONRPCEndpoint{Base.PipeEndpoint, Base.PipeEndpoint}, params::VSCodeServer.NotebookRunCellArguments)\n",
      "    @ VSCodeServer c:\\Users\\PollaccoJ\\.vscode\\extensions\\julialang.language-julia-1.38.2\\scripts\\packages\\VSCodeServer\\src\\serve_notebook.jl:13\n",
      " [11] dispatch_msg(x::VSCodeServer.JSONRPC.JSONRPCEndpoint{Base.PipeEndpoint, Base.PipeEndpoint}, dispatcher::VSCodeServer.JSONRPC.MsgDispatcher, msg::Dict{String, Any})\n",
      "    @ VSCodeServer.JSONRPC c:\\Users\\PollaccoJ\\.vscode\\extensions\\julialang.language-julia-1.38.2\\scripts\\packages\\JSONRPC\\src\\typed.jl:67\n",
      " [12] serve_notebook(pipename::String, outputchannel_logger::Base.CoreLogging.SimpleLogger; crashreporting_pipename::String)\n",
      "    @ VSCodeServer c:\\Users\\PollaccoJ\\.vscode\\extensions\\julialang.language-julia-1.38.2\\scripts\\packages\\VSCodeServer\\src\\serve_notebook.jl:139\n",
      " [13] top-level scope\n",
      "    @ c:\\Users\\PollaccoJ\\.vscode\\extensions\\julialang.language-julia-1.38.2\\scripts\\notebook\\notebook.jl:32"
     ]
    }
   ],
   "source": [
    "using erfc\n",
    "\n",
    "function KG(Ψ; θs, θr, Ψm, σ)\n",
    "\tθ_Mat = 0.5 * (θs - θr) * erfc((log(Ψ / Ψm)) / (σ * √2.0)) + θr\n",
    "return θ_Mat\n",
    "end\n",
    "Ψ₀ = [0.0, 500.0, 1000.0, 2000.0,  4000.0,  10000.0,  150000.0]\n",
    "\n",
    "θ =fill(0.0,length(Ψ₀))\n",
    "\n",
    "RockFragment=0.0\n",
    "\n",
    "for iZ=1: length(Ψ₀)\n",
    "\tθ[iZ] = KG(Ψ₀[iZ], θs=0.1/(1-RockFragment), θr=0.0/(1-RockFragment), Ψm=10000., σ=3.7)\n",
    "end\n",
    "println(Ψ₀)\n",
    "println(θ)\n"
   ]
  }
 ],
 "metadata": {
  "kernelspec": {
   "display_name": "Julia 1.8.5",
   "language": "julia",
   "name": "julia-1.8"
  },
  "language_info": {
   "file_extension": ".jl",
   "mimetype": "application/julia",
   "name": "julia",
   "version": "1.8.5"
  },
  "orig_nbformat": 4
 },
 "nbformat": 4,
 "nbformat_minor": 2
}
