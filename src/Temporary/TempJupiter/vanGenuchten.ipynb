{
 "cells": [
  {
   "cell_type": "code",
   "execution_count": 1,
   "metadata": {},
   "outputs": [
    {
     "name": "stdout",
     "output_type": "stream",
     "text": [
      "0.14105263157894737"
     ]
    },
    {
     "name": "stdout",
     "output_type": "stream",
     "text": [
      "\n",
      "[0.0, 500.0, 1000.0, 2000.0, 4000.0, 10000.0, 150000.0]\n",
      "[0.134, 0.03688066074246852, 0.01916748190729221, 0.016450852219898733, 0.016063868648859638, 0.016004820683192787, 0.016000002325581717]\n"
     ]
    }
   ],
   "source": [
    "\n",
    "\n",
    "\n",
    "function VG(Ψ; θs, θr, Ψvg, N, Km=1.0)\n",
    "\tM = 1.0 -  Km / N\n",
    "\tSe = (1.0 + (Ψ / Ψvg)^ N ) ^ (-M)\n",
    "\treturn θ = Se * (θs - θr) + θr\n",
    "end\n",
    "Ψ₀ = [0.0, 500.0, 1000.0, 2000.0,  4000.0,  10000.0,  150000.0 ]\n",
    "Rf=0.83\n",
    "\n",
    "println(0.134/0.95)\n",
    "\n",
    "θ =fill(0.0,length(Ψ₀))\n",
    "\n",
    "for iZ=1: length(Ψ₀)\n",
    "\tθ[iZ] = VG(Ψ₀[iZ], θs=0.134, θr=0.016, Ψvg=10*inv(0.036), N=3.82, Km=1)\n",
    "end\n",
    "println(Ψ₀)\n",
    "println(θ)\n"
   ]
  }
 ],
 "metadata": {
  "kernelspec": {
   "display_name": "Julia 1.9.0",
   "language": "julia",
   "name": "julia-1.9"
  },
  "language_info": {
   "file_extension": ".jl",
   "mimetype": "application/julia",
   "name": "julia",
   "version": "1.9.0"
  },
  "orig_nbformat": 4
 },
 "nbformat": 4,
 "nbformat_minor": 2
}
