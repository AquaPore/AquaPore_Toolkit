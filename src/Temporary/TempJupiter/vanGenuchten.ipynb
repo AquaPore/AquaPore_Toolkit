{
 "cells": [
  {
   "cell_type": "code",
   "execution_count": 48,
   "metadata": {},
   "outputs": [
    {
     "name": "stdout",
     "output_type": "stream",
     "text": [
      "0.8297213622291021\n",
      "[0.0, 500.0, 1000.0, 2000.0, 3300.0, 4000.0, 10000.0, 150000.0"
     ]
    },
    {
     "name": "stdout",
     "output_type": "stream",
     "text": [
      "]\n",
      "[0.7882352941176469, 0.21694506319099124, 0.1127498935723071, 0.09676971894058077, 0.0947639343196967, 0.09449334499329198, 0.09414600401878108, 0.09411766073871597]\n"
     ]
    }
   ],
   "source": [
    "\n",
    "\n",
    "\n",
    "function VG(Ψ; θs, θr, Ψvg, N, Km=1.0)\n",
    "\tM = 1.0 -  Km / N\n",
    "\tSe = (1.0 + (Ψ / Ψvg)^ N ) ^ (-M)\n",
    "\treturn θ = Se * (θs - θr) + θr\n",
    "end\n",
    "Ψ₀ = [0.0, 500.0, 1000.0, 2000.0,  4000.0,  10000.0,  150000.0 ]\n",
    "Rf=0.83\n",
    "\n",
    "println(0.134/(1-Rf)/0.95)\n",
    "\n",
    "θ =fill(0.0,length(Ψ₀))\n",
    "\n",
    "for iZ=1: length(Ψ₀)\n",
    "\tθ[iZ] = VG(Ψ₀[iZ], θs=0.134/(1-Rf), θr=0.016/(1-Rf), Ψvg=10*inv(0.036), N=3.82, Km=1)\n",
    "end\n",
    "println(Ψ₀)\n",
    "println(θ)\n"
   ]
  }
 ],
 "metadata": {
  "kernelspec": {
   "display_name": "Julia 1.8.5",
   "language": "julia",
   "name": "julia-1.8"
  },
  "language_info": {
   "file_extension": ".jl",
   "mimetype": "application/julia",
   "name": "julia",
   "version": "1.8.5"
  },
  "orig_nbformat": 4
 },
 "nbformat": 4,
 "nbformat_minor": 2
}
