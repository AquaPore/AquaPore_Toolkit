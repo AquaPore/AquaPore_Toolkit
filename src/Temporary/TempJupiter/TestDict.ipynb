{
 "cells": [
  {
   "cell_type": "code",
   "execution_count": 25,
   "metadata": {},
   "outputs": [
    {
     "name": "stdout",
     "output_type": "stream",
     "text": [
      "Free\n",
      "Impermeable\n",
      "WaterTable\n",
      "Impermeable\n"
     ]
    }
   ],
   "source": [
    "   Smap_Boundary = (\"FreeDrainage\",\"LowImpRock\",\"PermSoil_Fluid\",\"HighImpRock\")\n",
    "   Hypix_Boundary = (\"Free\",\"Impermeable\",\"WaterTable\",\"Impermeable\")\n",
    "\n",
    "\tBoundary_Smap2Hypix_Dict = Dict(\"\"=>\"\")\n",
    "\n",
    "\tfor i=1:length(Smap_Boundary)\n",
    "\t\tBoundary_Smap2Hypix_Dict[Smap_Boundary[i]] = Hypix_Boundary[i]\n",
    "\tend\n",
    "\n",
    "\t\tfor i=1:length(Smap_Boundary)\n",
    "\t\t\t\tprintln(Boundary_Smap2Hypix_Dict[Smap_Boundary[i]])\n",
    "\t\tend\n",
    "\n",
    "\t\t\n",
    "\t\t\n",
    "\t\t\n",
    "\t\t"
   ]
  },
  {
   "cell_type": "code",
   "execution_count": 26,
   "metadata": {},
   "outputs": [
    {
     "data": {
      "text/plain": [
       "BOUNDARY_BOTTOM (generic function with 1 method)"
      ]
     },
     "metadata": {},
     "output_type": "display_data"
    }
   ],
   "source": [
    "function BOUNDARY_BOTTOM(Path)\n",
    "         # Read data\n",
    "            Boundary_Smap2Hypix_Dict = Dict(\"\"=>\"\")\n",
    "\n",
    "            Smap_Boundary = (\"FreeDrainage\",\"LowImpRock\",\"PermSoil_Fluid\",\"HighImpRock\")\n",
    "            Hypix_Boundary = (\"Free\",\"Impermeable\",\"WaterTable\",\"Impermeable\")\n",
    "\n",
    "            for i=1:length*(Smap_Boundary)\n",
    "\t\t\t\t\t Boundary_Smap2Hypix_Dict[Smap_Boundary[i]] = Hypix_Boundary[i]\n",
    "\t\t\t\tend\n",
    "\n",
    "            Data = CSV.read(Path, DataFrame, header=true)\n",
    "            BoundarySmap = convert(Vector{String}, Data.\"Boundary\")\n",
    "            N_BoundarySmap     = length(BoundarySmap)\n",
    "\n",
    "            Hypix_BottomBoundary = fill(\"\", N_BoundarySmap)\n",
    "            for i = 1:N_BoundarySmap\n",
    "               Hypix_BottomBoundary[i] = Boundary_Smap2Hypix_Dict[BoundarySmap[i]]\n",
    "            end\n",
    "         \n",
    "      return\n",
    "      end  # function: BOUNDARY_BOTTOM"
   ]
  },
  {
   "cell_type": "code",
   "execution_count": 27,
   "metadata": {},
   "outputs": [],
   "source": []
  },
  {
   "cell_type": "code",
   "execution_count": 28,
   "metadata": {},
   "outputs": [
    {
     "ename": "UndefVarError",
     "evalue": "UndefVarError: `ill` not defined",
     "output_type": "error",
     "traceback": [
      "UndefVarError: `ill` not defined\n",
      "\n",
      "Stacktrace:\n",
      " [1] top-level scope\n",
      "   @ c:\\JOE\\MAIN\\MODELS\\AquaPore_Toolkit\\src\\Temporary\\TempJupiter\\TestDict.ipynb:1"
     ]
    }
   ],
   "source": [
    "ill(\"\", N_BoundarySmap)\n",
    "            for i = 1:N_BoundarySmap\n",
    "               Hypix_BottomBoundary[i] = Boundary_Smap2Hypix_Dict[BoundarySmap[i]]\n",
    "            end\n",
    "         \n",
    "      return\n",
    "      end  # function: BOUNDARY_BOTTOM"
   ]
  }
 ],
 "metadata": {
  "kernelspec": {
   "display_name": "Julia 1.9.0",
   "language": "julia",
   "name": "julia-1.9"
  },
  "language_info": {
   "file_extension": ".jl",
   "mimetype": "application/julia",
   "name": "julia",
   "version": "1.9.0"
  },
  "orig_nbformat": 4
 },
 "nbformat": 4,
 "nbformat_minor": 2
}
