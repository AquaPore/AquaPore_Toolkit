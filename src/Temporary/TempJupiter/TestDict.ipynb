{
 "cells": [
  {
   "cell_type": "code",
   "execution_count": 155,
   "metadata": {},
   "outputs": [
    {
     "name": "stderr",
     "output_type": "stream",
     "text": [
      "\u001b[32m\u001b[1m  Activating\u001b[22m\u001b[39m project at `C:\\JOE\\MAIN\\MODELS\\AquaPore_Toolkit`\n"
     ]
    }
   ],
   "source": [
    "\tusing Pkg\n",
    "\n",
    "cd(raw\"C:\\JOE\\MAIN\\MODELS\\AquaPore_Toolkit\")\n",
    "\n",
    "if isfile(\"Project.toml\") && isfile(\"Manifest.toml\")\n",
    "    Pkg.activate(\".\")\n",
    "end\n"
   ]
  },
  {
   "cell_type": "code",
   "execution_count": 156,
   "metadata": {},
   "outputs": [],
   "source": [
    "\n",
    "\tusing CSV, DataFrames"
   ]
  },
  {
   "cell_type": "code",
   "execution_count": 157,
   "metadata": {},
   "outputs": [
    {
     "name": "stdout",
     "output_type": "stream",
     "text": [
      "Impermeable\n"
     ]
    },
    {
     "data": {
      "text/plain": [
       "Dict{String, String} with 4889 entries:\n",
       "  \"Selw_100a.1\"  => \"Free\"\n",
       "  \"Selw_101a.1\"  => \"Free\"\n",
       "  \"Ngak_8a.1\"    => \"Free\"\n",
       "  \"Balm_21a.1\"   => \"Free\"\n",
       "  \"Orono_196a.1\" => \"Free\"\n",
       "  \"Gorg_32a.1\"   => \"Free\"\n",
       "  \"Tacas_2b.1\"   => \"Free\"\n",
       "  \"N_252_2a.1\"   => \"Free\"\n",
       "  \"Waka_76b.1\"   => \"Free\"\n",
       "  \"Hast_15a.2\"   => \"Free\"\n",
       "  \"Waim_43a.1\"   => \"Free\"\n",
       "  \"Timu_14b.3\"   => \"Free\"\n",
       "  \"Cash_1a.1\"    => \"Free\"\n",
       "  \"Eyre_30a.1\"   => \"Free\"\n",
       "  \"Auchr_10a.1\"  => \"Free\"\n",
       "  \"Waim_40a.2\"   => \"Free\"\n",
       "  \"Wynd_4a.1\"    => \"Free\"\n",
       "  \"Utuh_32a.1\"   => \"Free\"\n",
       "  \"Turan_9a.1\"   => \"Free\"\n",
       "  ⋮              => ⋮"
      ]
     },
     "metadata": {},
     "output_type": "display_data"
    }
   ],
   "source": [
    "\t\n",
    "\t\t\tfunction BOUNDARY_BOTTOM(Path)\n",
    "\n",
    "\t\t\t\t# Read data\n",
    "\t\t\t\t\tData           = CSV.read(Path, DataFrame, header=true)\n",
    "\t\t\t\t\tBoundarySmap   = convert(Vector{String}, Data.\"Boundary\")\n",
    "\t\t\t\t\tSoilname \t\t= convert(Vector{String}, Data.\"Soilname\")\n",
    "\t\t\t\t\t\n",
    "\t\t\t\t\tN_BoundarySmap = length(BoundarySmap)\n",
    "\n",
    "\t\t\t\t# Dictionary of boundary\n",
    "\t\t\t\t\tDict_Boundary_Smap2Hypix = Dict{String, String}()\n",
    "\n",
    "\t\t\t\t\tTerminology_SmapBoundary = (\"FreeDrainage\",\"LowImpRock\",\"PermSoil_Fluid\",\"HighImpRock\")\n",
    "\t\t\t\t\tTerminology_HypixBoundary = (\"Free\",\"Impermeable\",\"WaterTable\",\"Impermeable\")\n",
    "\n",
    "\t\t\t\t\tfor i=1:length(Terminology_SmapBoundary)\n",
    "\t\t\t\t\t\tDict_Boundary_Smap2Hypix[Terminology_SmapBoundary[i]] = Terminology_HypixBoundary[i]\n",
    "\t\t\t\t\tend\n",
    "\n",
    "\t\t\t\t# Dictionary of names-> Hypix\n",
    "\t\t\t\t\tDict_SoilNames_2_HypixBottomBoundary = Dict{String, String}()\n",
    "\n",
    "\t\t\t\t# Converting Smap boundary -> Hypix \n",
    "\t\t\t\t\tHypix_BottomBoundary = fill(\"\", N_BoundarySmap)\n",
    "\t\t\t\t\tfor i = 1:N_BoundarySmap\n",
    "\t\t\t\t\t\tHypix_BottomBoundary[i] = Dict_Boundary_Smap2Hypix[BoundarySmap[i]]\n",
    "\n",
    "\t\t\t\t\t\tDict_SoilNames_2_HypixBottomBoundary[Soilname[i]] = Hypix_BottomBoundary[i] \n",
    "\t\t\t\t\tend\n",
    "\t\t\t\n",
    "\t\t\tprintln(Dict_SoilNames_2_HypixBottomBoundary[\"Ardl_10a.1\"])\n",
    "\t\t\t\t\n",
    "\t\t\treturn Dict_SoilNames_2_HypixBottomBoundary\n",
    "\t\t\tend  # function: BOUNDARY_BOTTOM\n",
    "\t\t# ------------------------------------------------------------------ \n",
    "\tPath=raw\"C:\\JOE\\MAIN\\MODELS\\AquaPore_Toolkit\\data\\INPUT\\Data_SoilWater\\SmapHydro\\SmapHydro_SoilProfile.csv\"\n",
    "\t\t Dict_SoilNames_2_HypixBottomBoundary = BOUNDARY_BOTTOM(Path)\n",
    "\n",
    "\t\t"
   ]
  },
  {
   "cell_type": "code",
   "execution_count": 158,
   "metadata": {},
   "outputs": [],
   "source": []
  }
 ],
 "metadata": {
  "kernelspec": {
   "display_name": "Julia 1.9.0",
   "language": "julia",
   "name": "julia-1.9"
  },
  "language_info": {
   "file_extension": ".jl",
   "mimetype": "application/julia",
   "name": "julia",
   "version": "1.9.0"
  },
  "orig_nbformat": 4
 },
 "nbformat": 4,
 "nbformat_minor": 2
}
