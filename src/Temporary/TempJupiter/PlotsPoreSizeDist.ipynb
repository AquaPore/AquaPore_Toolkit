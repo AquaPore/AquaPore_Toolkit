{
 "cells": [
  {
   "cell_type": "code",
   "execution_count": 1,
   "metadata": {
    "notebookRunGroups": {
     "groupValue": ""
    }
   },
   "outputs": [
    {
     "data": {
      "text/plain": [
       "Main.cst"
      ]
     },
     "metadata": {},
     "output_type": "display_data"
    }
   ],
   "source": [
    "\tusing CairoMakie, ColorSchemes\n",
    "\timport SpecialFunctions: erfc, erfcinv\n",
    "\n",
    "\n",
    "\tinclude(\"D:\\\\MAIN\\\\MODELS\\\\AquaPore_Toolkit\\\\src\\\\Cst.jl\")"
   ]
  },
  {
   "cell_type": "code",
   "execution_count": null,
   "metadata": {},
   "outputs": [],
   "source": []
  },
  {
   "cell_type": "code",
   "execution_count": 2,
   "metadata": {},
   "outputs": [
    {
     "data": {
      "text/plain": [
       "∂θ∂ΨMODEL (generic function with 1 method)"
      ]
     },
     "metadata": {},
     "output_type": "display_data"
    }
   ],
   "source": [
    "\t\t# ~~~~~~~~~~~~~~~~~~~~~~~~~~~~~~~~~~~~~~~~~~~~~~~~~~~~~~~~~~~~~~~~\n",
    "\t\t#\t\tFUNCTION : ∂θ∂Ψ\n",
    "\t\t# ~~~~~~~~~~~~~~~~~~~~~~~~~~~~~~~~~~~~~~~~~~~~~~~~~~~~~~~~~~~~~~~~\n",
    "\t\t\tfunction ∂θ∂ΨMODEL(Ψ₁, θs, θr, Ψm, σ, θsMacMat, ΨmMac, σmac)\n",
    "\n",
    "\t\t\tΨmod_Mat = exp(log(Ψm) - σ^2)\n",
    "\n",
    "\t\t\tΨmod_Mac = exp(log(ΨmMac) - σmac^2)\n",
    "\n",
    "\t\t\t\t# Ψ₁ = max(eps(10.0), Ψ₁)\n",
    "\t\t\t\n",
    "\t\t\t\t\t# If Ψ₁ is positive than ∂θ∂Ψ_Mat should be positive\n",
    "\t\t\t\t\t∂θ∂Ψ_Mat = (θsMacMat - θr) * exp( -((log(Ψ₁ / Ψm)) ^ 2.0) / (2.0 * σ^2.0)) / (Ψ₁ * σ * √(π * 2.0))\n",
    "\n",
    "\t\t\t\t\t∂θ∂Ψ_Mat_Mod = (θsMacMat - θr) * exp( -((log(Ψmod_Mat / Ψm)) ^ 2.0) / (2.0 * σ^2.0)) / (Ψmod_Mat * σ * √(π * 2.0))\n",
    "\n",
    "\t\t\t\t\t∂θ∂Ψ_Mac = (θs - θsMacMat) * exp( -((log(Ψ₁ / ΨmMac)) ^ 2.0) / (2.0 * σmac^2.0)) / (Ψ₁ * σmac * √(π * 2.0))\n",
    "\n",
    "\t\t\t\t\t∂θ∂Ψ_Mac_Mod = (θs - θsMacMat) * exp( -((log(Ψmod_Mac / ΨmMac)) ^ 2.0) / (2.0 * σmac^2.0)) / (Ψmod_Mac * σmac * √(π * 2.0))\n",
    "\n",
    "\t\t\t\t\n",
    "\t\t\t\t\treturn (∂θ∂Ψ_Mat / ∂θ∂Ψ_Mat_Mod + ∂θ∂Ψ_Mac / ∂θ∂Ψ_Mac_Mod) * 0.5\n",
    "\n",
    "\t\t\tend # function ∂θ∂Ψ\n",
    "\t\t#-------------------------------------------------------------------"
   ]
  },
  {
   "cell_type": "code",
   "execution_count": 3,
   "metadata": {},
   "outputs": [
    {
     "data": {
      "text/plain": [
       "Ψ_2_θDualMODEL (generic function with 1 method)"
      ]
     },
     "metadata": {},
     "output_type": "display_data"
    }
   ],
   "source": [
    "\t\t# ~~~~~~~~~~~~~~~~~~~~~~~~~~~~~~~~~~~~~~~~~~~~~~~~~~~~~~~~~~~~~~~~\n",
    "\t\t#\t\tFUNCTION : Ψ_2_θ\n",
    "\t\t# ~~~~~~~~~~~~~~~~~~~~~~~~~~~~~~~~~~~~~~~~~~~~~~~~~~~~~~~~~~~~~~~~\n",
    "\t\t\tfunction Ψ_2_θDualMODEL(Ψ₁, θs, θr, Ψm, σ, θsMacMat, ΨmMac, σmac)\n",
    "\n",
    "\t\t\t\tθ_Mat = 0.5 * (θsMacMat - θr) * erfc((log( Ψ₁ / Ψm)) / (σ * √2.0)) + θr\n",
    "\n",
    "\t\t\t\tθ_Mac = 0.5 * (θs - θsMacMat) * erfc((log(Ψ₁ / ΨmMac)) / (σmac * √2.0))\n",
    "\t\t\treturn θ_Mac + θ_Mat\n",
    "\t\t\tend # function Ψ_2_θ\n",
    "\t\t#-----------------------------------------------------------------"
   ]
  },
  {
   "cell_type": "code",
   "execution_count": 4,
   "metadata": {},
   "outputs": [
    {
     "data": {
      "text/plain": [
       "Ψ_2_KUNSAT_MODEL (generic function with 1 method)"
      ]
     },
     "metadata": {},
     "output_type": "display_data"
    }
   ],
   "source": [
    "\t\t# ~~~~~~~~~~~~~~~~~~~~~~~~~~~~~~~~~~~~~~~~~~~~~~~~~~~~~~~~~~~~~~~~\n",
    "\t\t#\t\tFUNCTION : KUNSAT_θΨSe\n",
    "\t\t# ~~~~~~~~~~~~~~~~~~~~~~~~~~~~~~~~~~~~~~~~~~~~~~~~~~~~~~~~~~~~~~~~\n",
    "\t\t\tfunction Ψ_2_KUNSAT_MODEL(Ψ₁, θs, θr, Ψm, σ, θsMacMat, ΨmMac, σmac, Ks)\n",
    "\n",
    "\t\t\t\tθ = Ψ_2_θDualMODEL(Ψ₁, θs, θr, Ψm, σ, θsMacMat, ΨmMac, σmac)\n",
    "\n",
    "\t\t\t\tSe = (θ - θr) / (θs - θr)\n",
    "\n",
    "\t\t\t\tKsMat = Ks * min(max((θsMacMat - θr) / (θs - θr), 0.0), 1.0)\t\t\t\n",
    "\t\t\t\tKunsat_Mat =  KsMat * √Se * (0.5 * erfc(((log(Ψ₁ / Ψm)) / σ + σ) / √2.0)) ^ 2.0\n",
    "\n",
    "\t\t\t\tKsMac = max(Ks - KsMat, 0.0)\n",
    "\t\t\t\tKunsat_Mac =  KsMac * √Se * (0.5 * erfc(((log(Ψ₁ / ΨmMac)) / σmac + σmac) / √2.0)) ^ 2.0\n",
    "\n",
    "\t\t\treturn Kunsat_Mat + Kunsat_Mac\n",
    "\t\t\tend # function KUNSAT_θΨSe\n",
    "\t\t#-------------------------------------------------------------------"
   ]
  },
  {
   "cell_type": "code",
   "execution_count": 5,
   "metadata": {},
   "outputs": [
    {
     "data": {
      "text/plain": [
       "0.008"
      ]
     },
     "metadata": {},
     "output_type": "display_data"
    }
   ],
   "source": [
    "Pσ = 4.0\n",
    "ΨmacMat = 100.0\n",
    "ΨmMac = √ΨmacMat\n",
    "σmac = log(ΨmacMat) / (2.0 * 3)\n",
    "θs = 0.5\n",
    "θr = 0\n",
    "σ = 1.5\n",
    "Ψm = (√ΨmacMat + ΨmacMat) * 0.5 * exp(σ * Pσ)\n",
    "θsMacMat = θs * 0.75\n",
    "Ks = 0.008\n"
   ]
  },
  {
   "cell_type": "code",
   "execution_count": 18,
   "metadata": {},
   "outputs": [],
   "source": [
    "Ψ = 10.0.^(collect(0:0.001:6))\n",
    "N = length(Ψ)\n",
    "∂θ∂Ψ_1 = fill(0.0::Float64 , N)\n",
    "∂θ∂Ψ_2 = fill(0.0::Float64 , N)\n",
    "\n",
    "Ψ_2_θDual_1= fill(0.0::Float64 , N)\n",
    "Ψ_2_θDual_2= fill(0.0::Float64 , N)\n",
    "\n",
    "Ψ_2_KUNSAT_1 = fill(0.0::Float64 , N)\n",
    "Ψ_2_KUNSAT_2 = fill(0.0::Float64 , N)  \n",
    "\n",
    "for iΨ=1:N\n",
    "\t∂θ∂Ψ_1[iΨ] = ∂θ∂ΨMODEL(Ψ[iΨ], θs, θr, ΨmacMat * exp(σ * Pσ), σ, θsMacMat, ΨmMac, σmac)\n",
    "\t∂θ∂Ψ_2[iΨ] = ∂θ∂ΨMODEL(Ψ[iΨ], θs, θr, √ΨmacMat * exp(σ * Pσ), σ, θsMacMat, ΨmMac, σmac)\n",
    "\n",
    "\tΨ_2_θDual_1[iΨ] = Ψ_2_θDualMODEL(Ψ[iΨ], θs, θr, ΨmacMat * exp(σ * Pσ), σ, θsMacMat, ΨmMac, σmac)\n",
    "\tΨ_2_θDual_2[iΨ] = Ψ_2_θDualMODEL(Ψ[iΨ], θs, θr, √ΨmacMat * exp(σ * Pσ), σ, θsMacMat, ΨmMac, σmac)\n",
    "\n",
    "\tΨ_2_KUNSAT_1[iΨ] = Ψ_2_KUNSAT_MODEL(Ψ[iΨ], θs, θr, ΨmacMat * exp(σ * Pσ), σ, θsMacMat, ΨmMac, σmac, Ks)\n",
    "\n",
    "\tΨ_2_KUNSAT_2[iΨ] = Ψ_2_KUNSAT_MODEL(Ψ[iΨ], θs, θr, √ΨmacMat * exp(σ * Pσ), σ, θsMacMat, ΨmMac, σmac, Ks)\n",
    "\t\n",
    "end"
   ]
  },
  {
   "cell_type": "code",
   "execution_count": 23,
   "metadata": {},
   "outputs": [],
   "source": [
    "\n",
    "Fig = Figure(resolution = (2500, 1000),  font=\"Sans\", fontsize=50)\n",
    "Linewidth = 4\n",
    "\n",
    "Axis1 = Axis(Fig[1,1], title=\"∂θ∂Ψ\", xlabel=\"log R [mm]\", ylabel=\"∂θ∂Ψ\", xscale=Makie.log)\n",
    "\tlines!(Axis1, Ψ , ∂θ∂Ψ_1,  color=:green, linewidth=Linewidth)\n",
    "\tlines!(Axis1, Ψ , ∂θ∂Ψ_2, color=:blue, linewidth=Linewidth)\n",
    "\tAxis1.xticks = (log.(cst.Mm_2_kPa .* Ψ), string.( floor.(cst.Mm_2_kPa .*  log.(Ψ), digits=1)))\n",
    "\t# xlims!(Axis1, log(cst.Mm_2_kPa * Ψ_θΨobs_Min), log1p.(cst.Mm_2_kPa * Ψ_θΨobs_Max ))\n",
    "\t# ylims!( Axis1, 0.0, max(hydro.Φ[iZ], maximum(θ_θΨobs[iZ,1:N_θΨobs[iZ]])) )\n",
    "\n",
    "\n",
    "Axis2 = Axis(Fig[2,1], title=\"θ(Ψ)\", xlabel=\"Ψ [kPa]\", ylabel=\"θ(Ψ)\", xscale=Makie.log)\n",
    "\tlines!(Axis2, Ψ , Ψ_2_θDual_1, color=:green, linewidth=Linewidth)\n",
    "\tlines!(Axis2, Ψ , Ψ_2_θDual_2, color=:blue, linewidth=Linewidth)\n",
    "\tAxis2.xticks = (log.(cst.Mm_2_kPa .* Ψ), string.( floor.(cst.Mm_2_kPa .*  log.(Ψ), digits=1)))\n",
    "\n",
    "Axis3 = Axis(Fig[3,1], title=\"K(Ψ)\", xlabel=\"Ψ [kPa]\", ylabel=\"K(Ψ)\", xscale=Makie.log)\n",
    "lines!(Axis3, Ψ , Ψ_2_KUNSAT_1, color=:green, linewidth=Linewidth)\n",
    "lines!(Axis3, Ψ , Ψ_2_KUNSAT_2, color=:blue, linewidth=Linewidth)\n",
    "Axis3.xticks = (log.(cst.Mm_2_kPa .* Ψ), string.( floor.(cst.Mm_2_kPa .*  log.(Ψ), digits=1)))\n",
    "\n",
    "trim!(Fig.layout)\n",
    "Leg.orientation = :horizontal\n",
    "Leg.tellheight = true\n",
    "\n",
    "display(Fig)"
   ]
  }
 ],
 "metadata": {
  "kernelspec": {
   "display_name": "Julia 1.9.2",
   "language": "julia",
   "name": "julia-1.9"
  },
  "language_info": {
   "file_extension": ".jl",
   "mimetype": "application/julia",
   "name": "julia",
   "version": "1.9.2"
  },
  "orig_nbformat": 4
 },
 "nbformat": 4,
 "nbformat_minor": 2
}
