{
 "cells": [
  {
   "cell_type": "code",
   "execution_count": 3,
   "metadata": {},
   "outputs": [
    {
     "name": "stderr",
     "output_type": "stream",
     "text": [
      "WARNING: using GLMakie.campixel! in module Main conflicts with an existing identifier.\n"
     ]
    },
    {
     "ename": "UndefVarError",
     "evalue": "UndefVarError: `slider` not defined",
     "output_type": "error",
     "traceback": [
      "UndefVarError: `slider` not defined\n",
      "\n",
      "Stacktrace:\n",
      " [1] top-level scope\n",
      "   @ d:\\MAIN\\MODELS\\AquaPore_Toolkit\\src\\Temporary\\TempJupiter\\Sliders.ipynb:3"
     ]
    }
   ],
   "source": [
    "using GLMakie\n",
    "\n",
    "s1 = slider(LinRange(0.01, 1, 100), raw = true, camera = campixel!, start = 0.3)\n",
    "s2 = slider(LinRange(-2pi, 2pi, 100), raw = true, camera = campixel!)\n",
    "data = lift(s2[end][:value]) do v\n",
    "    map(LinRange(0, 2pi, 100)) do x\n",
    "        4f0 .* Point2f0(sin(x) + (sin(x * v) .* 0.1), cos(x) + (cos(x * v) .* 0.1))\n",
    "    end\n",
    "end\n",
    "p = scatter(data, markersize = s1[end][:value])\n",
    "\n",
    "final = hbox(p, vbox(s1, s2), parent = Scene(resolution = (500, 500)))\n",
    "\n",
    "# Do not execute beyond this point!\n",
    "\n",
    "RecordEvents(final, \"output\")"
   ]
  }
 ],
 "metadata": {
  "kernelspec": {
   "display_name": "Julia 1.9.2",
   "language": "julia",
   "name": "julia-1.9"
  },
  "language_info": {
   "file_extension": ".jl",
   "mimetype": "application/julia",
   "name": "julia",
   "version": "1.9.2"
  },
  "orig_nbformat": 4
 },
 "nbformat": 4,
 "nbformat_minor": 2
}
