{
 "cells": [
  {
   "cell_type": "markdown",
   "metadata": {},
   "source": [
    "# _______________________ START: READING KsGroup _______________________ \n",
    "\n"
   ]
  },
  {
   "cell_type": "code",
   "execution_count": 1,
   "metadata": {},
   "outputs": [
    {
     "data": {
      "text/html": [
       "<div><div style = \"float: left;\"><span>205×18 DataFrame</span></div><div style = \"float: right;\"><span style = \"font-style: italic;\">180 rows omitted</span></div><div style = \"clear: both;\"></div></div><div class = \"data-frame\" style = \"overflow-x: scroll;\"><table class = \"data-frame\" style = \"margin-bottom: 6px;\"><thead><tr class = \"header\"><th class = \"rowNumber\" style = \"font-weight: bold; text-align: right;\">Row</th><th style = \"text-align: left;\">Id</th><th style = \"text-align: left;\">tp</th><th style = \"text-align: left;\">wr0.1kpa</th><th style = \"text-align: left;\">wr0.4kpa</th><th style = \"text-align: left;\">wr0.7kpa</th><th style = \"text-align: left;\">wr1.0kpa</th><th style = \"text-align: left;\">wr5kpa</th><th style = \"text-align: left;\">wr10kpa</th><th style = \"text-align: left;\">Column9</th><th style = \"text-align: left;\">ksat</th><th style = \"text-align: left;\">k10</th><th style = \"text-align: left;\">k40</th><th style = \"text-align: left;\">k70</th><th style = \"text-align: left;\">k100</th><th style = \"text-align: left;\">Column15</th><th style = \"text-align: left;\">clay_est</th><th style = \"text-align: left;\">silt_est</th><th style = \"text-align: left;\">sand_est</th></tr><tr class = \"subheader headerLastRow\"><th class = \"rowNumber\" style = \"font-weight: bold; text-align: right;\"></th><th title = \"Int64\" style = \"text-align: left;\">Int64</th><th title = \"Int64\" style = \"text-align: left;\">Int64</th><th title = \"Int64\" style = \"text-align: left;\">Int64</th><th title = \"Int64\" style = \"text-align: left;\">Int64</th><th title = \"Int64\" style = \"text-align: left;\">Int64</th><th title = \"Int64\" style = \"text-align: left;\">Int64</th><th title = \"Int64\" style = \"text-align: left;\">Int64</th><th title = \"Int64\" style = \"text-align: left;\">Int64</th><th title = \"Missing\" style = \"text-align: left;\">Missing</th><th title = \"Float64\" style = \"text-align: left;\">Float64</th><th title = \"Float64\" style = \"text-align: left;\">Float64</th><th title = \"Float64\" style = \"text-align: left;\">Float64</th><th title = \"Float64\" style = \"text-align: left;\">Float64</th><th title = \"Union{Missing, Float64}\" style = \"text-align: left;\">Float64?</th><th title = \"Missing\" style = \"text-align: left;\">Missing</th><th title = \"Float64\" style = \"text-align: left;\">Float64</th><th title = \"Float64\" style = \"text-align: left;\">Float64</th><th title = \"Float64\" style = \"text-align: left;\">Float64</th></tr></thead><tbody><tr><td class = \"rowNumber\" style = \"font-weight: bold; text-align: right;\">1</td><td style = \"text-align: right;\">300</td><td style = \"text-align: right;\">62</td><td style = \"text-align: right;\">57</td><td style = \"text-align: right;\">55</td><td style = \"text-align: right;\">55</td><td style = \"text-align: right;\">53</td><td style = \"text-align: right;\">48</td><td style = \"text-align: right;\">46</td><td style = \"font-style: italic; text-align: right;\">missing</td><td style = \"text-align: right;\">624.0</td><td style = \"text-align: right;\">104.0</td><td style = \"text-align: right;\">22.6</td><td style = \"text-align: right;\">6.1</td><td style = \"text-align: right;\">1.8</td><td style = \"font-style: italic; text-align: right;\">missing</td><td style = \"text-align: right;\">0.3</td><td style = \"text-align: right;\">0.3</td><td style = \"text-align: right;\">0.4</td></tr><tr><td class = \"rowNumber\" style = \"font-weight: bold; text-align: right;\">2</td><td style = \"text-align: right;\">301</td><td style = \"text-align: right;\">64</td><td style = \"text-align: right;\">58</td><td style = \"text-align: right;\">53</td><td style = \"text-align: right;\">51</td><td style = \"text-align: right;\">50</td><td style = \"text-align: right;\">40</td><td style = \"text-align: right;\">39</td><td style = \"font-style: italic; text-align: right;\">missing</td><td style = \"text-align: right;\">785.8</td><td style = \"text-align: right;\">235.7</td><td style = \"text-align: right;\">42.9</td><td style = \"text-align: right;\">12.2</td><td style = \"text-align: right;\">1.9</td><td style = \"font-style: italic; text-align: right;\">missing</td><td style = \"text-align: right;\">0.3</td><td style = \"text-align: right;\">0.3</td><td style = \"text-align: right;\">0.4</td></tr><tr><td class = \"rowNumber\" style = \"font-weight: bold; text-align: right;\">3</td><td style = \"text-align: right;\">302</td><td style = \"text-align: right;\">60</td><td style = \"text-align: right;\">54</td><td style = \"text-align: right;\">52</td><td style = \"text-align: right;\">52</td><td style = \"text-align: right;\">51</td><td style = \"text-align: right;\">46</td><td style = \"text-align: right;\">44</td><td style = \"font-style: italic; text-align: right;\">missing</td><td style = \"text-align: right;\">577.8</td><td style = \"text-align: right;\">73.7</td><td style = \"text-align: right;\">23.3</td><td style = \"text-align: right;\">7.2</td><td style = \"text-align: right;\">2.0</td><td style = \"font-style: italic; text-align: right;\">missing</td><td style = \"text-align: right;\">0.3</td><td style = \"text-align: right;\">0.3</td><td style = \"text-align: right;\">0.4</td></tr><tr><td class = \"rowNumber\" style = \"font-weight: bold; text-align: right;\">4</td><td style = \"text-align: right;\">303</td><td style = \"text-align: right;\">59</td><td style = \"text-align: right;\">56</td><td style = \"text-align: right;\">55</td><td style = \"text-align: right;\">55</td><td style = \"text-align: right;\">55</td><td style = \"text-align: right;\">53</td><td style = \"text-align: right;\">52</td><td style = \"font-style: italic; text-align: right;\">missing</td><td style = \"text-align: right;\">55.2</td><td style = \"text-align: right;\">18.9</td><td style = \"text-align: right;\">7.1</td><td style = \"text-align: right;\">3.6</td><td style = \"text-align: right;\">2.9</td><td style = \"font-style: italic; text-align: right;\">missing</td><td style = \"text-align: right;\">0.3</td><td style = \"text-align: right;\">0.3</td><td style = \"text-align: right;\">0.4</td></tr><tr><td class = \"rowNumber\" style = \"font-weight: bold; text-align: right;\">5</td><td style = \"text-align: right;\">304</td><td style = \"text-align: right;\">60</td><td style = \"text-align: right;\">51</td><td style = \"text-align: right;\">50</td><td style = \"text-align: right;\">49</td><td style = \"text-align: right;\">47</td><td style = \"text-align: right;\">36</td><td style = \"text-align: right;\">33</td><td style = \"font-style: italic; text-align: right;\">missing</td><td style = \"text-align: right;\">1074.7</td><td style = \"text-align: right;\">53.4</td><td style = \"text-align: right;\">2.3</td><td style = \"text-align: right;\">1.4</td><td style = \"text-align: right;\">0.3</td><td style = \"font-style: italic; text-align: right;\">missing</td><td style = \"text-align: right;\">0.3</td><td style = \"text-align: right;\">0.3</td><td style = \"text-align: right;\">0.4</td></tr><tr><td class = \"rowNumber\" style = \"font-weight: bold; text-align: right;\">6</td><td style = \"text-align: right;\">305</td><td style = \"text-align: right;\">60</td><td style = \"text-align: right;\">53</td><td style = \"text-align: right;\">52</td><td style = \"text-align: right;\">51</td><td style = \"text-align: right;\">51</td><td style = \"text-align: right;\">50</td><td style = \"text-align: right;\">49</td><td style = \"font-style: italic; text-align: right;\">missing</td><td style = \"text-align: right;\">404.5</td><td style = \"text-align: right;\">43.1</td><td style = \"text-align: right;\">0.5</td><td style = \"text-align: right;\">0.4</td><td style = \"text-align: right;\">0.3</td><td style = \"font-style: italic; text-align: right;\">missing</td><td style = \"text-align: right;\">0.3</td><td style = \"text-align: right;\">0.3</td><td style = \"text-align: right;\">0.4</td></tr><tr><td class = \"rowNumber\" style = \"font-weight: bold; text-align: right;\">7</td><td style = \"text-align: right;\">306</td><td style = \"text-align: right;\">58</td><td style = \"text-align: right;\">53</td><td style = \"text-align: right;\">52</td><td style = \"text-align: right;\">51</td><td style = \"text-align: right;\">51</td><td style = \"text-align: right;\">48</td><td style = \"text-align: right;\">45</td><td style = \"font-style: italic; text-align: right;\">missing</td><td style = \"text-align: right;\">369.8</td><td style = \"text-align: right;\">66.0</td><td style = \"text-align: right;\">23.2</td><td style = \"text-align: right;\">10.5</td><td style = \"text-align: right;\">4.8</td><td style = \"font-style: italic; text-align: right;\">missing</td><td style = \"text-align: right;\">0.3</td><td style = \"text-align: right;\">0.3</td><td style = \"text-align: right;\">0.4</td></tr><tr><td class = \"rowNumber\" style = \"font-weight: bold; text-align: right;\">8</td><td style = \"text-align: right;\">307</td><td style = \"text-align: right;\">57</td><td style = \"text-align: right;\">56</td><td style = \"text-align: right;\">55</td><td style = \"text-align: right;\">55</td><td style = \"text-align: right;\">55</td><td style = \"text-align: right;\">55</td><td style = \"text-align: right;\">53</td><td style = \"font-style: italic; text-align: right;\">missing</td><td style = \"text-align: right;\">485.3</td><td style = \"text-align: right;\">1.9</td><td style = \"text-align: right;\">0.5</td><td style = \"text-align: right;\">0.2</td><td style = \"text-align: right;\">0.2</td><td style = \"font-style: italic; text-align: right;\">missing</td><td style = \"text-align: right;\">0.3</td><td style = \"text-align: right;\">0.3</td><td style = \"text-align: right;\">0.4</td></tr><tr><td class = \"rowNumber\" style = \"font-weight: bold; text-align: right;\">9</td><td style = \"text-align: right;\">308</td><td style = \"text-align: right;\">57</td><td style = \"text-align: right;\">54</td><td style = \"text-align: right;\">53</td><td style = \"text-align: right;\">52</td><td style = \"text-align: right;\">51</td><td style = \"text-align: right;\">48</td><td style = \"text-align: right;\">47</td><td style = \"font-style: italic; text-align: right;\">missing</td><td style = \"text-align: right;\">288.9</td><td style = \"text-align: right;\">67.7</td><td style = \"text-align: right;\">13.5</td><td style = \"text-align: right;\">3.0</td><td style = \"text-align: right;\">1.4</td><td style = \"font-style: italic; text-align: right;\">missing</td><td style = \"text-align: right;\">0.3</td><td style = \"text-align: right;\">0.3</td><td style = \"text-align: right;\">0.4</td></tr><tr><td class = \"rowNumber\" style = \"font-weight: bold; text-align: right;\">10</td><td style = \"text-align: right;\">309</td><td style = \"text-align: right;\">57</td><td style = \"text-align: right;\">51</td><td style = \"text-align: right;\">50</td><td style = \"text-align: right;\">49</td><td style = \"text-align: right;\">49</td><td style = \"text-align: right;\">46</td><td style = \"text-align: right;\">43</td><td style = \"font-style: italic; text-align: right;\">missing</td><td style = \"text-align: right;\">1092.0</td><td style = \"text-align: right;\">135.3</td><td style = \"text-align: right;\">21.4</td><td style = \"text-align: right;\">12.6</td><td style = \"text-align: right;\">7.2</td><td style = \"font-style: italic; text-align: right;\">missing</td><td style = \"text-align: right;\">0.3</td><td style = \"text-align: right;\">0.3</td><td style = \"text-align: right;\">0.4</td></tr><tr><td class = \"rowNumber\" style = \"font-weight: bold; text-align: right;\">11</td><td style = \"text-align: right;\">310</td><td style = \"text-align: right;\">57</td><td style = \"text-align: right;\">53</td><td style = \"text-align: right;\">51</td><td style = \"text-align: right;\">51</td><td style = \"text-align: right;\">50</td><td style = \"text-align: right;\">45</td><td style = \"text-align: right;\">43</td><td style = \"font-style: italic; text-align: right;\">missing</td><td style = \"text-align: right;\">208.0</td><td style = \"text-align: right;\">7.3</td><td style = \"text-align: right;\">4.1</td><td style = \"text-align: right;\">3.4</td><td style = \"text-align: right;\">2.1</td><td style = \"font-style: italic; text-align: right;\">missing</td><td style = \"text-align: right;\">0.3</td><td style = \"text-align: right;\">0.3</td><td style = \"text-align: right;\">0.4</td></tr><tr><td class = \"rowNumber\" style = \"font-weight: bold; text-align: right;\">12</td><td style = \"text-align: right;\">311</td><td style = \"text-align: right;\">57</td><td style = \"text-align: right;\">50</td><td style = \"text-align: right;\">49</td><td style = \"text-align: right;\">48</td><td style = \"text-align: right;\">48</td><td style = \"text-align: right;\">44</td><td style = \"text-align: right;\">42</td><td style = \"font-style: italic; text-align: right;\">missing</td><td style = \"text-align: right;\">1109.4</td><td style = \"text-align: right;\">54.1</td><td style = \"text-align: right;\">6.2</td><td style = \"text-align: right;\">2.3</td><td style = \"text-align: right;\">0.9</td><td style = \"font-style: italic; text-align: right;\">missing</td><td style = \"text-align: right;\">0.3</td><td style = \"text-align: right;\">0.3</td><td style = \"text-align: right;\">0.4</td></tr><tr><td class = \"rowNumber\" style = \"font-weight: bold; text-align: right;\">13</td><td style = \"text-align: right;\">312</td><td style = \"text-align: right;\">57</td><td style = \"text-align: right;\">52</td><td style = \"text-align: right;\">50</td><td style = \"text-align: right;\">49</td><td style = \"text-align: right;\">48</td><td style = \"text-align: right;\">40</td><td style = \"text-align: right;\">38</td><td style = \"font-style: italic; text-align: right;\">missing</td><td style = \"text-align: right;\">323.6</td><td style = \"text-align: right;\">93.6</td><td style = \"text-align: right;\">54.1</td><td style = \"text-align: right;\">22.9</td><td style = \"text-align: right;\">8.1</td><td style = \"font-style: italic; text-align: right;\">missing</td><td style = \"text-align: right;\">0.3</td><td style = \"text-align: right;\">0.3</td><td style = \"text-align: right;\">0.4</td></tr><tr><td style = \"text-align: right;\">&vellip;</td><td style = \"text-align: right;\">&vellip;</td><td style = \"text-align: right;\">&vellip;</td><td style = \"text-align: right;\">&vellip;</td><td style = \"text-align: right;\">&vellip;</td><td style = \"text-align: right;\">&vellip;</td><td style = \"text-align: right;\">&vellip;</td><td style = \"text-align: right;\">&vellip;</td><td style = \"text-align: right;\">&vellip;</td><td style = \"text-align: right;\">&vellip;</td><td style = \"text-align: right;\">&vellip;</td><td style = \"text-align: right;\">&vellip;</td><td style = \"text-align: right;\">&vellip;</td><td style = \"text-align: right;\">&vellip;</td><td style = \"text-align: right;\">&vellip;</td><td style = \"text-align: right;\">&vellip;</td><td style = \"text-align: right;\">&vellip;</td><td style = \"text-align: right;\">&vellip;</td><td style = \"text-align: right;\">&vellip;</td></tr><tr><td class = \"rowNumber\" style = \"font-weight: bold; text-align: right;\">194</td><td style = \"text-align: right;\">493</td><td style = \"text-align: right;\">46</td><td style = \"text-align: right;\">39</td><td style = \"text-align: right;\">39</td><td style = \"text-align: right;\">39</td><td style = \"text-align: right;\">38</td><td style = \"text-align: right;\">34</td><td style = \"text-align: right;\">32</td><td style = \"font-style: italic; text-align: right;\">missing</td><td style = \"text-align: right;\">50.3</td><td style = \"text-align: right;\">12.1</td><td style = \"text-align: right;\">5.0</td><td style = \"text-align: right;\">3.0</td><td style = \"text-align: right;\">1.4</td><td style = \"font-style: italic; text-align: right;\">missing</td><td style = \"text-align: right;\">0.3</td><td style = \"text-align: right;\">0.3</td><td style = \"text-align: right;\">0.4</td></tr><tr><td class = \"rowNumber\" style = \"font-weight: bold; text-align: right;\">195</td><td style = \"text-align: right;\">494</td><td style = \"text-align: right;\">45</td><td style = \"text-align: right;\">37</td><td style = \"text-align: right;\">37</td><td style = \"text-align: right;\">37</td><td style = \"text-align: right;\">37</td><td style = \"text-align: right;\">30</td><td style = \"text-align: right;\">26</td><td style = \"font-style: italic; text-align: right;\">missing</td><td style = \"text-align: right;\">85.5</td><td style = \"text-align: right;\">35.0</td><td style = \"text-align: right;\">18.0</td><td style = \"text-align: right;\">6.4</td><td style = \"text-align: right;\">1.8</td><td style = \"font-style: italic; text-align: right;\">missing</td><td style = \"text-align: right;\">0.3</td><td style = \"text-align: right;\">0.3</td><td style = \"text-align: right;\">0.4</td></tr><tr><td class = \"rowNumber\" style = \"font-weight: bold; text-align: right;\">196</td><td style = \"text-align: right;\">495</td><td style = \"text-align: right;\">46</td><td style = \"text-align: right;\">39</td><td style = \"text-align: right;\">39</td><td style = \"text-align: right;\">39</td><td style = \"text-align: right;\">38</td><td style = \"text-align: right;\">32</td><td style = \"text-align: right;\">30</td><td style = \"font-style: italic; text-align: right;\">missing</td><td style = \"text-align: right;\">56.4</td><td style = \"text-align: right;\">25.5</td><td style = \"text-align: right;\">16.1</td><td style = \"text-align: right;\">6.8</td><td style = \"text-align: right;\">1.7</td><td style = \"font-style: italic; text-align: right;\">missing</td><td style = \"text-align: right;\">0.3</td><td style = \"text-align: right;\">0.3</td><td style = \"text-align: right;\">0.4</td></tr><tr><td class = \"rowNumber\" style = \"font-weight: bold; text-align: right;\">197</td><td style = \"text-align: right;\">496</td><td style = \"text-align: right;\">43</td><td style = \"text-align: right;\">38</td><td style = \"text-align: right;\">38</td><td style = \"text-align: right;\">38</td><td style = \"text-align: right;\">37</td><td style = \"text-align: right;\">31</td><td style = \"text-align: right;\">29</td><td style = \"font-style: italic; text-align: right;\">missing</td><td style = \"text-align: right;\">74.0</td><td style = \"text-align: right;\">37.8</td><td style = \"text-align: right;\">30.4</td><td style = \"text-align: right;\">11.7</td><td style = \"text-align: right;\">5.4</td><td style = \"font-style: italic; text-align: right;\">missing</td><td style = \"text-align: right;\">0.3</td><td style = \"text-align: right;\">0.3</td><td style = \"text-align: right;\">0.4</td></tr><tr><td class = \"rowNumber\" style = \"font-weight: bold; text-align: right;\">198</td><td style = \"text-align: right;\">497</td><td style = \"text-align: right;\">44</td><td style = \"text-align: right;\">39</td><td style = \"text-align: right;\">39</td><td style = \"text-align: right;\">39</td><td style = \"text-align: right;\">39</td><td style = \"text-align: right;\">37</td><td style = \"text-align: right;\">36</td><td style = \"font-style: italic; text-align: right;\">missing</td><td style = \"text-align: right;\">6.8</td><td style = \"text-align: right;\">2.6</td><td style = \"text-align: right;\">2.4</td><td style = \"text-align: right;\">1.7</td><td style = \"text-align: right;\">1.4</td><td style = \"font-style: italic; text-align: right;\">missing</td><td style = \"text-align: right;\">0.3</td><td style = \"text-align: right;\">0.3</td><td style = \"text-align: right;\">0.4</td></tr><tr><td class = \"rowNumber\" style = \"font-weight: bold; text-align: right;\">199</td><td style = \"text-align: right;\">498</td><td style = \"text-align: right;\">46</td><td style = \"text-align: right;\">41</td><td style = \"text-align: right;\">40</td><td style = \"text-align: right;\">39</td><td style = \"text-align: right;\">38</td><td style = \"text-align: right;\">35</td><td style = \"text-align: right;\">34</td><td style = \"font-style: italic; text-align: right;\">missing</td><td style = \"text-align: right;\">566.2</td><td style = \"text-align: right;\">90.2</td><td style = \"text-align: right;\">17.2</td><td style = \"text-align: right;\">4.5</td><td style = \"text-align: right;\">1.0</td><td style = \"font-style: italic; text-align: right;\">missing</td><td style = \"text-align: right;\">0.3</td><td style = \"text-align: right;\">0.3</td><td style = \"text-align: right;\">0.4</td></tr><tr><td class = \"rowNumber\" style = \"font-weight: bold; text-align: right;\">200</td><td style = \"text-align: right;\">499</td><td style = \"text-align: right;\">48</td><td style = \"text-align: right;\">41</td><td style = \"text-align: right;\">40</td><td style = \"text-align: right;\">39</td><td style = \"text-align: right;\">39</td><td style = \"text-align: right;\">35</td><td style = \"text-align: right;\">34</td><td style = \"font-style: italic; text-align: right;\">missing</td><td style = \"text-align: right;\">416.0</td><td style = \"text-align: right;\">35.0</td><td style = \"text-align: right;\">4.2</td><td style = \"text-align: right;\">1.1</td><td style = \"text-align: right;\">0.4</td><td style = \"font-style: italic; text-align: right;\">missing</td><td style = \"text-align: right;\">0.3</td><td style = \"text-align: right;\">0.3</td><td style = \"text-align: right;\">0.4</td></tr><tr><td class = \"rowNumber\" style = \"font-weight: bold; text-align: right;\">201</td><td style = \"text-align: right;\">500</td><td style = \"text-align: right;\">49</td><td style = \"text-align: right;\">41</td><td style = \"text-align: right;\">39</td><td style = \"text-align: right;\">38</td><td style = \"text-align: right;\">38</td><td style = \"text-align: right;\">32</td><td style = \"text-align: right;\">31</td><td style = \"font-style: italic; text-align: right;\">missing</td><td style = \"text-align: right;\">693.3</td><td style = \"text-align: right;\">75.2</td><td style = \"text-align: right;\">12.6</td><td style = \"text-align: right;\">2.8</td><td style = \"text-align: right;\">1.0</td><td style = \"font-style: italic; text-align: right;\">missing</td><td style = \"text-align: right;\">0.3</td><td style = \"text-align: right;\">0.3</td><td style = \"text-align: right;\">0.4</td></tr><tr><td class = \"rowNumber\" style = \"font-weight: bold; text-align: right;\">202</td><td style = \"text-align: right;\">501</td><td style = \"text-align: right;\">54</td><td style = \"text-align: right;\">47</td><td style = \"text-align: right;\">46</td><td style = \"text-align: right;\">46</td><td style = \"text-align: right;\">45</td><td style = \"text-align: right;\">39</td><td style = \"text-align: right;\">37</td><td style = \"font-style: italic; text-align: right;\">missing</td><td style = \"text-align: right;\">1848.9</td><td style = \"text-align: right;\">225.5</td><td style = \"text-align: right;\">64.6</td><td style = \"text-align: right;\">18.3</td><td style = \"text-align: right;\">3.2</td><td style = \"font-style: italic; text-align: right;\">missing</td><td style = \"text-align: right;\">0.3</td><td style = \"text-align: right;\">0.3</td><td style = \"text-align: right;\">0.4</td></tr><tr><td class = \"rowNumber\" style = \"font-weight: bold; text-align: right;\">203</td><td style = \"text-align: right;\">502</td><td style = \"text-align: right;\">53</td><td style = \"text-align: right;\">47</td><td style = \"text-align: right;\">46</td><td style = \"text-align: right;\">45</td><td style = \"text-align: right;\">44</td><td style = \"text-align: right;\">36</td><td style = \"text-align: right;\">34</td><td style = \"font-style: italic; text-align: right;\">missing</td><td style = \"text-align: right;\">924.5</td><td style = \"text-align: right;\">191.7</td><td style = \"text-align: right;\">92.5</td><td style = \"text-align: right;\">44.4</td><td style = \"text-align: right;\">12.9</td><td style = \"font-style: italic; text-align: right;\">missing</td><td style = \"text-align: right;\">0.3</td><td style = \"text-align: right;\">0.3</td><td style = \"text-align: right;\">0.4</td></tr><tr><td class = \"rowNumber\" style = \"font-weight: bold; text-align: right;\">204</td><td style = \"text-align: right;\">503</td><td style = \"text-align: right;\">51</td><td style = \"text-align: right;\">46</td><td style = \"text-align: right;\">45</td><td style = \"text-align: right;\">45</td><td style = \"text-align: right;\">44</td><td style = \"text-align: right;\">37</td><td style = \"text-align: right;\">35</td><td style = \"font-style: italic; text-align: right;\">missing</td><td style = \"text-align: right;\">369.8</td><td style = \"text-align: right;\">107.5</td><td style = \"text-align: right;\">69.0</td><td style = \"text-align: right;\">26.8</td><td style = \"text-align: right;\">12.4</td><td style = \"font-style: italic; text-align: right;\">missing</td><td style = \"text-align: right;\">0.3</td><td style = \"text-align: right;\">0.3</td><td style = \"text-align: right;\">0.4</td></tr><tr><td class = \"rowNumber\" style = \"font-weight: bold; text-align: right;\">205</td><td style = \"text-align: right;\">504</td><td style = \"text-align: right;\">53</td><td style = \"text-align: right;\">50</td><td style = \"text-align: right;\">49</td><td style = \"text-align: right;\">49</td><td style = \"text-align: right;\">49</td><td style = \"text-align: right;\">43</td><td style = \"text-align: right;\">42</td><td style = \"font-style: italic; text-align: right;\">missing</td><td style = \"text-align: right;\">80.9</td><td style = \"text-align: right;\">54.6</td><td style = \"text-align: right;\">43.2</td><td style = \"text-align: right;\">21.0</td><td style = \"text-align: right;\">5.1</td><td style = \"font-style: italic; text-align: right;\">missing</td><td style = \"text-align: right;\">0.3</td><td style = \"text-align: right;\">0.3</td><td style = \"text-align: right;\">0.4</td></tr></tbody></table></div>"
      ],
      "text/latex": [
       "\\begin{tabular}{r|cccccccccc}\n",
       "\t& Id & tp & wr0.1kpa & wr0.4kpa & wr0.7kpa & wr1.0kpa & wr5kpa & wr10kpa & Column9 & \\\\\n",
       "\t\\hline\n",
       "\t& Int64 & Int64 & Int64 & Int64 & Int64 & Int64 & Int64 & Int64 & Missing & \\\\\n",
       "\t\\hline\n",
       "\t1 & 300 & 62 & 57 & 55 & 55 & 53 & 48 & 46 & \\emph{missing} & $\\dots$ \\\\\n",
       "\t2 & 301 & 64 & 58 & 53 & 51 & 50 & 40 & 39 & \\emph{missing} & $\\dots$ \\\\\n",
       "\t3 & 302 & 60 & 54 & 52 & 52 & 51 & 46 & 44 & \\emph{missing} & $\\dots$ \\\\\n",
       "\t4 & 303 & 59 & 56 & 55 & 55 & 55 & 53 & 52 & \\emph{missing} & $\\dots$ \\\\\n",
       "\t5 & 304 & 60 & 51 & 50 & 49 & 47 & 36 & 33 & \\emph{missing} & $\\dots$ \\\\\n",
       "\t6 & 305 & 60 & 53 & 52 & 51 & 51 & 50 & 49 & \\emph{missing} & $\\dots$ \\\\\n",
       "\t7 & 306 & 58 & 53 & 52 & 51 & 51 & 48 & 45 & \\emph{missing} & $\\dots$ \\\\\n",
       "\t8 & 307 & 57 & 56 & 55 & 55 & 55 & 55 & 53 & \\emph{missing} & $\\dots$ \\\\\n",
       "\t9 & 308 & 57 & 54 & 53 & 52 & 51 & 48 & 47 & \\emph{missing} & $\\dots$ \\\\\n",
       "\t10 & 309 & 57 & 51 & 50 & 49 & 49 & 46 & 43 & \\emph{missing} & $\\dots$ \\\\\n",
       "\t11 & 310 & 57 & 53 & 51 & 51 & 50 & 45 & 43 & \\emph{missing} & $\\dots$ \\\\\n",
       "\t12 & 311 & 57 & 50 & 49 & 48 & 48 & 44 & 42 & \\emph{missing} & $\\dots$ \\\\\n",
       "\t13 & 312 & 57 & 52 & 50 & 49 & 48 & 40 & 38 & \\emph{missing} & $\\dots$ \\\\\n",
       "\t14 & 313 & 57 & 49 & 48 & 47 & 47 & 41 & 38 & \\emph{missing} & $\\dots$ \\\\\n",
       "\t15 & 314 & 57 & 50 & 46 & 46 & 45 & 42 & 40 & \\emph{missing} & $\\dots$ \\\\\n",
       "\t16 & 315 & 57 & 51 & 50 & 50 & 49 & 46 & 44 & \\emph{missing} & $\\dots$ \\\\\n",
       "\t17 & 316 & 56 & 51 & 49 & 49 & 48 & 44 & 42 & \\emph{missing} & $\\dots$ \\\\\n",
       "\t18 & 317 & 56 & 52 & 51 & 51 & 51 & 48 & 46 & \\emph{missing} & $\\dots$ \\\\\n",
       "\t19 & 318 & 57 & 47 & 45 & 44 & 43 & 37 & 35 & \\emph{missing} & $\\dots$ \\\\\n",
       "\t20 & 319 & 57 & 50 & 48 & 46 & 44 & 39 & 35 & \\emph{missing} & $\\dots$ \\\\\n",
       "\t21 & 320 & 56 & 51 & 50 & 50 & 49 & 44 & 42 & \\emph{missing} & $\\dots$ \\\\\n",
       "\t22 & 321 & 56 & 49 & 48 & 47 & 47 & 39 & 36 & \\emph{missing} & $\\dots$ \\\\\n",
       "\t23 & 322 & 55 & 51 & 50 & 49 & 49 & 46 & 43 & \\emph{missing} & $\\dots$ \\\\\n",
       "\t24 & 323 & 56 & 51 & 50 & 49 & 49 & 46 & 44 & \\emph{missing} & $\\dots$ \\\\\n",
       "\t$\\dots$ & $\\dots$ & $\\dots$ & $\\dots$ & $\\dots$ & $\\dots$ & $\\dots$ & $\\dots$ & $\\dots$ & $\\dots$ &  \\\\\n",
       "\\end{tabular}\n"
      ],
      "text/plain": [
       "\u001b[1m205×18 DataFrame\u001b[0m\n",
       "\u001b[1m Row \u001b[0m│\u001b[1m Id    \u001b[0m\u001b[1m tp    \u001b[0m\u001b[1m wr0.1kpa \u001b[0m\u001b[1m wr0.4kpa \u001b[0m\u001b[1m wr0.7kpa \u001b[0m\u001b[1m wr1.0kpa \u001b[0m\u001b[1m wr5kpa \u001b[0m\u001b[1m wr10kpa \u001b[0m\u001b[1m \u001b[0m ⋯\n",
       "     │\u001b[90m Int64 \u001b[0m\u001b[90m Int64 \u001b[0m\u001b[90m Int64    \u001b[0m\u001b[90m Int64    \u001b[0m\u001b[90m Int64    \u001b[0m\u001b[90m Int64    \u001b[0m\u001b[90m Int64  \u001b[0m\u001b[90m Int64   \u001b[0m\u001b[90m \u001b[0m ⋯\n",
       "─────┼──────────────────────────────────────────────────────────────────────────\n",
       "   1 │   300     62        57        55        55        53      48       46 \u001b[90m \u001b[0m ⋯\n",
       "   2 │   301     64        58        53        51        50      40       39 \u001b[90m \u001b[0m\n",
       "   3 │   302     60        54        52        52        51      46       44 \u001b[90m \u001b[0m\n",
       "   4 │   303     59        56        55        55        55      53       52 \u001b[90m \u001b[0m\n",
       "   5 │   304     60        51        50        49        47      36       33 \u001b[90m \u001b[0m ⋯\n",
       "   6 │   305     60        53        52        51        51      50       49 \u001b[90m \u001b[0m\n",
       "   7 │   306     58        53        52        51        51      48       45 \u001b[90m \u001b[0m\n",
       "   8 │   307     57        56        55        55        55      55       53 \u001b[90m \u001b[0m\n",
       "  ⋮  │   ⋮      ⋮       ⋮         ⋮         ⋮         ⋮        ⋮        ⋮      ⋱\n",
       " 199 │   498     46        41        40        39        38      35       34 \u001b[90m \u001b[0m ⋯\n",
       " 200 │   499     48        41        40        39        39      35       34 \u001b[90m \u001b[0m\n",
       " 201 │   500     49        41        39        38        38      32       31 \u001b[90m \u001b[0m\n",
       " 202 │   501     54        47        46        46        45      39       37 \u001b[90m \u001b[0m\n",
       " 203 │   502     53        47        46        45        44      36       34 \u001b[90m \u001b[0m ⋯\n",
       " 204 │   503     51        46        45        45        44      37       35 \u001b[90m \u001b[0m\n",
       " 205 │   504     53        50        49        49        49      43       42 \u001b[90m \u001b[0m\n",
       "\u001b[36m                                                 10 columns and 190 rows omitted\u001b[0m"
      ]
     },
     "metadata": {},
     "output_type": "display_data"
    }
   ],
   "source": [
    "using CSV, Tables, DataFrames\n",
    "Path_Input = raw\"D:\\TEMP\\PlantFoodData.csv\"\n",
    "\n",
    "Data = CSV.read(Path_Input, DataFrame;  missingstring=[\"NA\", \"NAN\", \"\"], ignoreemptyrows=true)\n",
    "# select=Name_Select,\n"
   ]
  },
  {
   "cell_type": "code",
   "execution_count": 2,
   "metadata": {},
   "outputs": [
    {
     "name": "stdout",
     "output_type": "stream",
     "text": [
      "[\"Id\", \"tp\", \"wr0.1kpa\", \"wr0.4kpa\", \"wr0.7kpa\", \"wr1.0kpa\", \"wr5kpa\", \"wr10kpa\", \"Column9\", \"ksat\", \"k10\", \"k40\", \"k70\", \"k100\", \"Column15\", \"clay_est\", \"silt_est\", \"sand_est\"]"
     ]
    }
   ],
   "source": [
    "Data_Names = show(names(Data))\n"
   ]
  },
  {
   "cell_type": "code",
   "execution_count": 3,
   "metadata": {},
   "outputs": [],
   "source": [
    "\n",
    "# dropmissing(Data, :ksat)\n",
    "Data[!, \"ksat_True\"]   = .!((ismissing.(Data.ksat)))\n",
    "Data[!, \"k10_True\"]  = .!((ismissing.(Data.k10)))\n",
    "Data[!, \"K40_True\" ] = .!((ismissing.(Data.k40)))\n",
    "Data[!, \"K70_True\" ] = .!((ismissing.(Data.k70)))\n",
    "Data[!, \"K100_True\"] = .!((ismissing.(Data.k100)))\n",
    "\n",
    "# Data[!,\"wr0kpa_True\"]      = .!((ismissing.(Data.tp)))\n",
    "Data[! ,\"wr0.1kpa_True\"]   = .!((ismissing.(Data.\"wr0.1kpa\")))\n",
    "# Data[! ,\"wr0.2kpa_True\"]   = .!((ismissing.(Data.\"wr0.2kpa\")))\n",
    "Data[! ,\"wr0.4kpa_True\"]   = .!((ismissing.(Data.\"wr0.4kpa\")))\n",
    "Data[! ,\"wr0.7kpa_True\"]   = .!((ismissing.(Data.\"wr0.7kpa\")))\n",
    "Data[! , \"wr1.0kpa_True\"]  = .!((ismissing.(Data.\"wr1.0kpa\")))\n",
    "# Data[! , \"wr2.0kpa_True\"]  = .!((ismissing.(Data.\"wr2.0kpa\")))\n",
    "# Data[! , \"wr2.5kpa_True\"]  = .!((ismissing.(Data.\"wr2.5kpa\")))\n",
    "Data[! , \"wr5kpa_True\"]    = .!((ismissing.(Data.\"wr5kpa\")))\n",
    "Data[! , \"wr10kpa_True\"]   = .!((ismissing.(Data.\"wr10kpa\")))\n",
    "# Data[! , \"wr20kpa_True\"]   = .!((ismissing.(Data.\"wr20kpa\")))\n",
    "# Data[! , \"wr40kpa_True\"]   = .!((ismissing.(Data.\"wr40kpa\")))\n",
    "# Data[! , \"wr100kpa_True\"]  = .!((ismissing.(Data.\"wr100kpa\")))\n",
    "# Data[!  ,\"wr300kpa_True\"]  = .!((ismissing.(Data.\"wr300kpa\")))\n",
    "# Data[!  ,\"wr1500kpa_True\"] = .!((ismissing.(Data.\"wr1500kpa\")))\n",
    "\n",
    "# Data[!  ,\"clay_True\"] = .!((ismissing.(Data.\"clay_est\")))\n",
    "\n",
    "Data[!, \"K_N\"] = Data.ksat_True .+ Data.k10_True .+ Data.K40_True .+ Data.K70_True .+ Data.K100_True\n",
    "\n",
    "Data[!,\"Wr_N\"] = Data.\"wr0.1kpa_True\" .+  Data.\"wr0.4kpa_True\".+ Data.\"wr0.7kpa_True\" .+ Data.\"wr1.0kpa_True\" .+  Data.\"wr5kpa_True\" .+  Data.\"wr10kpa_True\";\n"
   ]
  },
  {
   "cell_type": "markdown",
   "metadata": {},
   "source": [
    "## Select soils"
   ]
  },
  {
   "cell_type": "code",
   "execution_count": 4,
   "metadata": {},
   "outputs": [
    {
     "name": "stdout",
     "output_type": "stream",
     "text": [
      "[\"Id\", \"tp\", \"wr0.1kpa\", \"wr0.4kpa\", \"wr0.7kpa\", \"wr1.0kpa\", \"wr5kpa\", \"wr10kpa\", \"Column9\", \"ksat\", \"k10\", \"k40\", \"k70\", \"k100\", \"Column15\", \"clay_est\", \"silt_est\", \"sand_est\", \"ksat_True\", \"k10_True\", \"K40_True\", \"K70_True\", \"K100_True\", \"wr0.1kpa_True\", \"wr0.4kpa_True\", \"wr0.7kpa_True\", \"wr1.0kpa_True\", \"wr5kpa_True\", \"wr10kpa_True\", \"K_N\", \"Wr_N\"]"
     ]
    }
   ],
   "source": [
    "Data_Names = show(names(Data))\n"
   ]
  },
  {
   "cell_type": "code",
   "execution_count": 5,
   "metadata": {},
   "outputs": [
    {
     "name": "stdout",
     "output_type": "stream",
     "text": [
      "205\n"
     ]
    }
   ],
   "source": [
    "# 464 data: Data.Wr_N .≥ 4 .&& Data.wr0kpa_True .== 1 .&& Data.wr1500kpa_True .== 1\n",
    "# 147 data: Data.Wr_N .≥ 4 .&& Data.wr0kpa_True .== 1 .&& Data.wr1500kpa_True .== 1 .&& Data.K_N .≥ 1\n",
    "# 93 data: Data.Wr_N .≥ 4 .&& Data.wr0kpa_True .== 1 .&& Data.wr1500kpa_True .== 1 .&& Data.K_N .≥ 2\n",
    "# 8 data: Data.Wr_N .≥ 4 .&& Data.wr0kpa_True .== 1 .&& Data.wr1500kpa_True .== 1 .&& Data.K_N .≥ 3\n",
    "\n",
    "RowSelector_1 = Data.Wr_N .≥ 4 .&& Data.K_N .≥ 2\n",
    "\n",
    "Data_Names = names(Data)\n",
    "\n",
    "println(sum(RowSelector_1))\n"
   ]
  },
  {
   "cell_type": "markdown",
   "metadata": {},
   "source": [
    "## Writting to AquaPore-ToolKit"
   ]
  },
  {
   "cell_type": "code",
   "execution_count": 6,
   "metadata": {},
   "outputs": [
    {
     "data": {
      "text/plain": [
       "205×5 Matrix{Bool}:\n",
       " 1  1  1  1  1\n",
       " 1  1  1  1  1\n",
       " 1  1  1  1  1\n",
       " 1  1  1  1  1\n",
       " 1  1  1  1  1\n",
       " 1  1  1  1  1\n",
       " 1  1  1  1  1\n",
       " 1  1  1  1  1\n",
       " 1  1  1  1  1\n",
       " 1  1  1  1  1\n",
       " ⋮           \n",
       " 1  1  1  1  1\n",
       " 1  1  1  1  1\n",
       " 1  1  1  1  1\n",
       " 1  1  1  1  1\n",
       " 1  1  1  1  1\n",
       " 1  1  1  1  1\n",
       " 1  1  1  1  1\n",
       " 1  1  1  1  1\n",
       " 1  1  1  1  1"
      ]
     },
     "metadata": {},
     "output_type": "display_data"
    }
   ],
   "source": [
    "# --- The θ(Ψ) function --- \n",
    "Ψ_Ψθ = [0.1, 0.4, 0.7, 1.0, 5.0, 10.0] .* 100.0\n",
    "\n",
    "Data_Ψθ = Matrix(Data[RowSelector_1, [\"wr0.1kpa\", \"wr0.4kpa\", \"wr0.7kpa\", \"wr1.0kpa\",  \"wr5kpa\", \"wr10kpa\"]])\n",
    "\n",
    "Data_Ψθ_True = Matrix(Data[RowSelector_1, [ \"wr0.1kpa_True\", \"wr0.4kpa_True\", \"wr0.7kpa_True\", \"wr1.0kpa_True\",\"wr5kpa_True\", \"wr10kpa_True\"]])\n",
    "\n",
    "# --- The K(Ψ) function --- \n",
    "Ψ_ΨK = [0.0, 10.0, 40.0, 70.0, 100.0] .* 100.0\n",
    "\n",
    "Data_KΨ = Matrix(Data[RowSelector_1, [\"ksat\", \"k10\", \"k40\", \"k70\", \"k100\"]])\n",
    "Data_KΨ_True = Matrix(Data[RowSelector_1, [\"ksat_True\", \"k10_True\", \"K40_True\", \"K70_True\", \"K100_True\"]]);\n",
    "\n"
   ]
  },
  {
   "cell_type": "markdown",
   "metadata": {},
   "source": [
    "### Running data"
   ]
  },
  {
   "cell_type": "code",
   "execution_count": 7,
   "metadata": {},
   "outputs": [
    {
     "data": {
      "text/plain": [
       "\"D:\\\\TEMP\\\\OUTPUT\\\\KsGroup_ThetaH.csv\""
      ]
     },
     "metadata": {},
     "output_type": "display_data"
    }
   ],
   "source": [
    "# Writting θ(ψ)\n",
    "N_Row, N_Column = size(Data_Ψθ)\n",
    "\n",
    "Ψdata = []\n",
    "θdata = []\n",
    "Id = []\n",
    "Count = 300\n",
    "for iZ = 1: N_Row\n",
    "\tfor (iΨ, iiΨ) in enumerate(Ψ_Ψθ)\n",
    "\t\tif Data_Ψθ_True[iZ, iΨ]\n",
    "\t\t\tappend!(Ψdata, iiΨ)\n",
    "\t\t\tappend!(θdata, Data_Ψθ[iZ, iΨ]/100.0)\n",
    "\t\t\tappend!(Id, Count)\t\t\n",
    "\t\tend  # if\n",
    "\tend\n",
    "\tCount += 1\n",
    "end\n",
    "\n",
    "Path_Output = raw\"D:\\TEMP\\OUTPUT\\KsGroup_ThetaH.csv\"\n",
    "Header = [\"Id\",\"H[mm]\",\"Theta[0-1]\"]\n",
    "\n",
    "CSV.write(Path_Output, Tables.table([Id Ψdata θdata]), writeheader=true, header=Header, bom=true)\n"
   ]
  },
  {
   "cell_type": "code",
   "execution_count": 8,
   "metadata": {},
   "outputs": [
    {
     "data": {
      "text/plain": [
       "\"D:\\\\TEMP\\\\OUTPUT\\\\KsGroup_KunsatH.csv\""
      ]
     },
     "metadata": {},
     "output_type": "display_data"
    }
   ],
   "source": [
    "# Writting K(ψ)\n",
    "N_Row, N_Column = size(Data_KΨ)\n",
    "\n",
    "Ψdata = []\n",
    "Kdata = []\n",
    "Id = []\n",
    "Count = 300\n",
    "for iZ = 1: N_Row\n",
    "\tfor (iΨ, iiΨ) in enumerate(Ψ_ΨK)\n",
    "\t\tif Data_KΨ_True[iZ, iΨ]\n",
    "\t\t\tappend!(Ψdata, iiΨ)\n",
    "\t\t\tappend!(Kdata, Data_KΨ[iZ, iΨ] / (60.0 * 60.0)) # convert mm/hour -> mm/second\n",
    "\t\t\tappend!(Id, Count)\t\t\n",
    "\t\tend  # if\n",
    "\tend\n",
    "\tCount += 1\n",
    "end\n",
    "\n",
    "Path_Output = raw\"D:\\TEMP\\OUTPUT\\KsGroup_KunsatH.csv\"\n",
    "Header = [\"Id\" ,\"H[mm]\" , \"Kunsat[mm_s]\"]\n",
    "\n",
    "CSV.write(Path_Output, Tables.table([Id Ψdata Kdata]), writeheader=true, header=Header, bom=true)\n"
   ]
  },
  {
   "cell_type": "code",
   "execution_count": 9,
   "metadata": {},
   "outputs": [
    {
     "data": {
      "text/plain": [
       "\"D:\\\\MAIN\\\\PROJETCS\\\\Ks_Grouping\\\\DATA\\\\OUTPUT\\\\KsGroup_IdSelect.csv\""
      ]
     },
     "metadata": {},
     "output_type": "display_data"
    }
   ],
   "source": [
    "# Writting id\n",
    "Id = []\n",
    "Select = ones(Int64, N_Row)\n",
    "for iZ = 1: N_Row\n",
    "\tappend!(Id, iZ)\t\t\n",
    "end\n",
    "\n",
    "Path_Output = raw\"D:\\MAIN\\PROJETCS\\Ks_Grouping\\DATA\\OUTPUT\\KsGroup_IdSelect.csv\"\n",
    "Header = [\"Id\" ,\"Select_1\"]\n",
    "\n",
    "CSV.write(Path_Output, Tables.table([Id Select]), writeheader=true, header=Header, bom=true)\n"
   ]
  },
  {
   "cell_type": "code",
   "execution_count": 10,
   "metadata": {},
   "outputs": [
    {
     "data": {
      "text/plain": [
       "\"D:\\\\MAIN\\\\PROJETCS\\\\Ks_Grouping\\\\DATA\\\\OUTPUT\\\\KsGroup_TotalPorosity.csv\""
      ]
     },
     "metadata": {},
     "output_type": "display_data"
    }
   ],
   "source": [
    "# Writting TotalPorosity\n",
    "Id = []\n",
    "TotalPorosity = Matrix(Data[RowSelector_1, [\"tp\"]])\n",
    "\n",
    "RockFragment = zeros(Int64, N_Row)\n",
    "for iZ = 1: N_Row\n",
    "\tappend!(Id, iZ)\t\n",
    "end\n",
    "\n",
    "Path_Output = raw\"D:\\MAIN\\PROJETCS\\Ks_Grouping\\DATA\\OUTPUT\\KsGroup_TotalPorosity.csv\"\n",
    "Header = [\"Id\", \"TotalPorosity[0-1]\", \"RockFragment[0-1]\"]\n",
    "\n",
    "CSV.write(Path_Output, Tables.table([Id TotalPorosity RockFragment]), writeheader=true, header=Header, bom=true)\n"
   ]
  },
  {
   "cell_type": "code",
   "execution_count": 11,
   "metadata": {},
   "outputs": [
    {
     "ename": "ArgumentError",
     "evalue": "ArgumentError: column name :siteid not found in the data frame",
     "output_type": "error",
     "traceback": [
      "ArgumentError: column name :siteid not found in the data frame\n",
      "\n",
      "Stacktrace:\n",
      " [1] lookupname\n",
      "   @ C:\\Users\\PollaccoJ\\.julia\\packages\\DataFrames\\kcA9R\\src\\other\\index.jl:431 [inlined]\n",
      " [2] getindex\n",
      "   @ C:\\Users\\PollaccoJ\\.julia\\packages\\DataFrames\\kcA9R\\src\\other\\index.jl:440 [inlined]\n",
      " [3] getindex\n",
      "   @ C:\\Users\\PollaccoJ\\.julia\\packages\\DataFrames\\kcA9R\\src\\other\\index.jl:441 [inlined]\n",
      " [4] (::DataFrames.var\"#35#36\"{DataFrames.Index})(i::String)\n",
      "   @ DataFrames .\\none:0\n",
      " [5] iterate\n",
      "   @ .\\generator.jl:48 [inlined]\n",
      " [6] collect(itr::Base.Generator{Vector{String}, DataFrames.var\"#35#36\"{DataFrames.Index}})\n",
      "   @ Base .\\array.jl:780\n",
      " [7] getindex\n",
      "   @ C:\\Users\\PollaccoJ\\.julia\\packages\\DataFrames\\kcA9R\\src\\other\\index.jl:446 [inlined]\n",
      " [8] getindex(df::DataFrame, row_inds::BitVector, col_inds::Vector{String})\n",
      "   @ DataFrames C:\\Users\\PollaccoJ\\.julia\\packages\\DataFrames\\kcA9R\\src\\dataframe\\dataframe.jl:584\n",
      " [9] top-level scope\n",
      "   @ d:\\MAIN\\MODELS\\AquaPore_Toolkit\\src\\Temporary\\TempJupiter\\jl_notebook_cell_df34fa98e69747e1a8f8a730347b8e2f_X20sZmlsZQ==.jl:2"
     ]
    }
   ],
   "source": [
    "# Writting MetaData\n",
    "DataSelect = [\"siteid\", \"nsd_id\", \"dataset\", \"x_nztm\", \"y_nztm\", \"rdate\", \"soilorder\", \"horizonnumber\",  \"fh\",  \"carbon\", \"sand_est\", \"fhcompact\", \"fh.y\", \"RockClassFines\", \"RockClassGroup\", \"drainage\", \"topsoil\", \"organic\", \"texture\", \"pedsize\", \"strength\", \"tephra\", \"stoniness\", \"disjointclusters\", \"thiscluster\", \"w1\", \"w2\", \"sampledepth\", \"samplethickness\", \"horizonthickness\", \"region_ascii\", \"region_macron\", \"simple_soilorder\"]\n",
    "\n",
    "\n",
    "Data_Select1 = Data[RowSelector_1, DataSelect];\n",
    "\n",
    "Path_Output = raw\"D:\\MAIN\\PROJETCS\\Ks_Grouping\\DATA\\OUTPUT\\KsGroup_MetaData.csv\"\n",
    "CSV.write(Path_Output, Data_Select1)\n"
   ]
  },
  {
   "cell_type": "code",
   "execution_count": 13,
   "metadata": {},
   "outputs": [
    {
     "data": {
      "text/plain": [
       "\"D:\\\\TEMP\\\\OUTPUT\\\\KsGroup_Psd.csv\""
      ]
     },
     "metadata": {},
     "output_type": "display_data"
    }
   ],
   "source": [
    "# Writting PSD\n",
    "Clay = Matrix(Data[RowSelector_1, [\"clay_est\"]])\n",
    "Silt = Matrix(Data[RowSelector_1, [\"silt_est\"]])\n",
    "Sand = Matrix(Data[RowSelector_1, [\"sand_est\"]])\n",
    "\n",
    "Id = []\n",
    "Diameter = []\n",
    "Cumul_Psd = []\n",
    "Count = 300\n",
    "for iZ = 1: N_Row\n",
    "\n",
    "\tappend!(Diameter, 0.002)\n",
    "\tappend!(Cumul_Psd, Clay[iZ])\n",
    "\tappend!(Id, Count)\n",
    "\t\n",
    "\t\n",
    "\tappend!(Diameter, 0.06)\n",
    "\tappend!(Cumul_Psd, Clay[iZ] + Silt[iZ])\n",
    "\tappend!(Id, Count)\n",
    "\n",
    "\tappend!(Diameter, 2.0)\n",
    "\tappend!(Cumul_Psd, 1.0)\n",
    "\tappend!(Id, Count)\n",
    "\n",
    "\tCount += 1\n",
    "end\n",
    "\n",
    "Path_Output = raw\"D:\\TEMP\\OUTPUT\\KsGroup_Psd.csv\"\n",
    "Header = [\"Id\", \"Diameter[mm]\", \"Cumul_Psd\"]\n",
    "\n",
    "CSV.write(Path_Output, Tables.table([Id Diameter Cumul_Psd]), writeheader=true, header=Header, bom=true)\n"
   ]
  }
 ],
 "metadata": {
  "kernelspec": {
   "display_name": "Julia 1.11.1",
   "language": "julia",
   "name": "julia-1.11"
  },
  "language_info": {
   "file_extension": ".jl",
   "mimetype": "application/julia",
   "name": "julia",
   "version": "1.11.1"
  }
 },
 "nbformat": 4,
 "nbformat_minor": 2
}
