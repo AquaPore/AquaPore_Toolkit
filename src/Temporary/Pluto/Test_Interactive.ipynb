{
 "cells": [
  {
   "cell_type": "code",
   "execution_count": 5,
   "metadata": {},
   "outputs": [
    {
     "data": {
      "text/plain": [
       "START (generic function with 1 method)"
      ]
     },
     "metadata": {},
     "output_type": "display_data"
    }
   ],
   "source": [
    "using GLMakie\n",
    "\n",
    "function START()\n",
    "\n",
    "fig = Figure()\n",
    "\n",
    "ax = Axis(fig[1, 1])\n",
    "\n",
    "sg = SliderGrid(\n",
    "    fig[2, 1],\n",
    "    (label = \"θs\", range = 0:0.1:1, format = \"{:.1f}  \", startvalue = 0.5),\n",
    "    (label = \"θsMacMat\", range = 0:0.1:1, format = \"{:.1f}  \", startvalue = 0.5),\n",
    "    (label = \"θr\", range = 0:0.1:0.25, format = \"{:.1f}\", startvalue = 0.2),\n",
    "    (label = \"ΨmacMat \", range = 0:5:200, format = \"{:.1f}  \", startvalue = 100),\n",
    "    (label = \"Log Ψmat \", range = 0:0.5:10, format = \"{:.1f}  \", startvalue = 5),\n",
    "    (label = \"σ \", range = 0.7:0.1:4, format = \"{:.1f}  \", startvalue = 15.9),\n",
    "    width = 350,\n",
    "    tellheight = false)\n",
    "\n",
    "sliderobservables = [s.value for s in sg.sliders]\n",
    "bars = lift(sliderobservables...) do slvalues...\n",
    "    [slvalues...]\n",
    "end\n",
    "println(bars)\n",
    "\n",
    "barplot!(ax, bars, color = [:yellow, :orange, :red, :green, :blue, :yellow])\n",
    "ylims!(ax, 0, 30)\n",
    "\n",
    "display(fig)\n",
    "\n",
    "\n",
    "end\n"
   ]
  },
  {
   "cell_type": "code",
   "execution_count": 6,
   "metadata": {},
   "outputs": [
    {
     "name": "stdout",
     "output_type": "stream",
     "text": [
      "Observable([0.5, 0.5, 0.2, 100.0, 5.0, 4.0])\n"
     ]
    },
    {
     "data": {
      "text/plain": [
       "GLMakie.Screen(...)"
      ]
     },
     "metadata": {},
     "output_type": "display_data"
    }
   ],
   "source": [
    "\n",
    "START()"
   ]
  }
 ],
 "metadata": {
  "kernelspec": {
   "display_name": "Julia 1.10.3",
   "language": "julia",
   "name": "julia-1.10"
  },
  "language_info": {
   "file_extension": ".jl",
   "mimetype": "application/julia",
   "name": "julia",
   "version": "1.10.3"
  }
 },
 "nbformat": 4,
 "nbformat_minor": 2
}
