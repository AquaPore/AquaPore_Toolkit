{
 "cells": [
  {
   "cell_type": "markdown",
   "metadata": {},
   "source": [
    "# GEOSPATIAL DATA SCIENCES WITH JULIA"
   ]
  },
  {
   "cell_type": "markdown",
   "metadata": {},
   "source": [
    "## Modules used in this course"
   ]
  },
  {
   "cell_type": "code",
   "execution_count": 30,
   "metadata": {},
   "outputs": [],
   "source": [
    "using DataFrames \n",
    "using GeoStats\n",
    "using GeoIO\n",
    "import CairoMakie as Mke\n",
    "using PairPlots"
   ]
  },
  {
   "cell_type": "code",
   "execution_count": 1,
   "metadata": {},
   "outputs": [
    {
     "data": {
      "text/plain": [
       "\"D:\\\\MAIN\\\\MODELS\\\\SPATIAL\\\\geospatial-data-science-with-julia\\\\\""
      ]
     },
     "metadata": {},
     "output_type": "display_data"
    }
   ],
   "source": [
    "Paths = \"D:\\\\MAIN\\\\MODELS\\\\SPATIAL\\\\geospatial-data-science-with-julia\\\\\""
   ]
  },
  {
   "cell_type": "code",
   "execution_count": 32,
   "metadata": {},
   "outputs": [
    {
     "data": {
      "text/plain": [
       "2-element Vector{String}:\n",
       " \"Mary\"\n",
       " \"Paul\""
      ]
     },
     "metadata": {},
     "output_type": "display_data"
    }
   ],
   "source": [
    "\"\"\"Example of data and abstracting data by using tupples\"\"\"\n",
    "\n",
    "coltable = (\n",
    "  NAME=[\"John\", \"Mary\", \"Paul\", \"Anne\", \"Kate\"],\n",
    "  AGE=[34, 12, 23, 39, 28],\n",
    "  HEIGHT=[1.78, 1.56, 1.70, 1.80, 1.72],\n",
    "  GENDER=[\"male\", \"female\", \"male\", \"female\", \"female\"]\n",
    ")\n",
    "\n",
    "coltable.NAME[2:3]"
   ]
  },
  {
   "cell_type": "code",
   "execution_count": 33,
   "metadata": {},
   "outputs": [
    {
     "data": {
      "text/html": [
       "<div><div style = \"float: left;\"><span>5×4 DataFrame</span></div><div style = \"clear: both;\"></div></div><div class = \"data-frame\" style = \"overflow-x: scroll;\"><table class = \"data-frame\" style = \"margin-bottom: 6px;\"><thead><tr class = \"header\"><th class = \"rowNumber\" style = \"font-weight: bold; text-align: right;\">Row</th><th style = \"text-align: left;\">NAME</th><th style = \"text-align: left;\">AGE</th><th style = \"text-align: left;\">HEIGHT</th><th style = \"text-align: left;\">GENDER</th></tr><tr class = \"subheader headerLastRow\"><th class = \"rowNumber\" style = \"font-weight: bold; text-align: right;\"></th><th title = \"String\" style = \"text-align: left;\">String</th><th title = \"Int64\" style = \"text-align: left;\">Int64</th><th title = \"Float64\" style = \"text-align: left;\">Float64</th><th title = \"String\" style = \"text-align: left;\">String</th></tr></thead><tbody><tr><td class = \"rowNumber\" style = \"font-weight: bold; text-align: right;\">1</td><td style = \"text-align: left;\">John</td><td style = \"text-align: right;\">34</td><td style = \"text-align: right;\">1.78</td><td style = \"text-align: left;\">male</td></tr><tr><td class = \"rowNumber\" style = \"font-weight: bold; text-align: right;\">2</td><td style = \"text-align: left;\">Mary</td><td style = \"text-align: right;\">12</td><td style = \"text-align: right;\">1.56</td><td style = \"text-align: left;\">female</td></tr><tr><td class = \"rowNumber\" style = \"font-weight: bold; text-align: right;\">3</td><td style = \"text-align: left;\">Paul</td><td style = \"text-align: right;\">23</td><td style = \"text-align: right;\">1.7</td><td style = \"text-align: left;\">male</td></tr><tr><td class = \"rowNumber\" style = \"font-weight: bold; text-align: right;\">4</td><td style = \"text-align: left;\">Anne</td><td style = \"text-align: right;\">39</td><td style = \"text-align: right;\">1.8</td><td style = \"text-align: left;\">female</td></tr><tr><td class = \"rowNumber\" style = \"font-weight: bold; text-align: right;\">5</td><td style = \"text-align: left;\">Kate</td><td style = \"text-align: right;\">28</td><td style = \"text-align: right;\">1.72</td><td style = \"text-align: left;\">female</td></tr></tbody></table></div>"
      ],
      "text/latex": [
       "\\begin{tabular}{r|cccc}\n",
       "\t& NAME & AGE & HEIGHT & GENDER\\\\\n",
       "\t\\hline\n",
       "\t& String & Int64 & Float64 & String\\\\\n",
       "\t\\hline\n",
       "\t1 & John & 34 & 1.78 & male \\\\\n",
       "\t2 & Mary & 12 & 1.56 & female \\\\\n",
       "\t3 & Paul & 23 & 1.7 & male \\\\\n",
       "\t4 & Anne & 39 & 1.8 & female \\\\\n",
       "\t5 & Kate & 28 & 1.72 & female \\\\\n",
       "\\end{tabular}\n"
      ],
      "text/plain": [
       "\u001b[1m5×4 DataFrame\u001b[0m\n",
       "\u001b[1m Row \u001b[0m│\u001b[1m NAME   \u001b[0m\u001b[1m AGE   \u001b[0m\u001b[1m HEIGHT  \u001b[0m\u001b[1m GENDER \u001b[0m\n",
       "     │\u001b[90m String \u001b[0m\u001b[90m Int64 \u001b[0m\u001b[90m Float64 \u001b[0m\u001b[90m String \u001b[0m\n",
       "─────┼────────────────────────────────\n",
       "   1 │ John       34     1.78  male\n",
       "   2 │ Mary       12     1.56  female\n",
       "   3 │ Paul       23     1.7   male\n",
       "   4 │ Anne       39     1.8   female\n",
       "   5 │ Kate       28     1.72  female"
      ]
     },
     "metadata": {},
     "output_type": "display_data"
    }
   ],
   "source": [
    "\"\"\" Better way of abstracting data via dataframe\"\"\"\n",
    "\n",
    "df = DataFrame(\n",
    "  NAME=[\"John\", \"Mary\", \"Paul\", \"Anne\", \"Kate\"],\n",
    "  AGE=[34, 12, 23, 39, 28],\n",
    "  HEIGHT=[1.78, 1.56, 1.70, 1.80, 1.72],\n",
    "  GENDER=[\"male\", \"female\", \"male\", \"female\", \"female\"]\n",
    ")"
   ]
  },
  {
   "cell_type": "code",
   "execution_count": 34,
   "metadata": {},
   "outputs": [
    {
     "data": {
      "text/html": [
       "<div><div style = \"float: left;\"><span>3×2 DataFrame</span></div><div style = \"clear: both;\"></div></div><div class = \"data-frame\" style = \"overflow-x: scroll;\"><table class = \"data-frame\" style = \"margin-bottom: 6px;\"><thead><tr class = \"header\"><th class = \"rowNumber\" style = \"font-weight: bold; text-align: right;\">Row</th><th style = \"text-align: left;\">NAME</th><th style = \"text-align: left;\">AGE</th></tr><tr class = \"subheader headerLastRow\"><th class = \"rowNumber\" style = \"font-weight: bold; text-align: right;\"></th><th title = \"String\" style = \"text-align: left;\">String</th><th title = \"Int64\" style = \"text-align: left;\">Int64</th></tr></thead><tbody><tr><td class = \"rowNumber\" style = \"font-weight: bold; text-align: right;\">1</td><td style = \"text-align: left;\">John</td><td style = \"text-align: right;\">34</td></tr><tr><td class = \"rowNumber\" style = \"font-weight: bold; text-align: right;\">2</td><td style = \"text-align: left;\">Mary</td><td style = \"text-align: right;\">12</td></tr><tr><td class = \"rowNumber\" style = \"font-weight: bold; text-align: right;\">3</td><td style = \"text-align: left;\">Paul</td><td style = \"text-align: right;\">23</td></tr></tbody></table></div>"
      ],
      "text/latex": [
       "\\begin{tabular}{r|cc}\n",
       "\t& NAME & AGE\\\\\n",
       "\t\\hline\n",
       "\t& String & Int64\\\\\n",
       "\t\\hline\n",
       "\t1 & John & 34 \\\\\n",
       "\t2 & Mary & 12 \\\\\n",
       "\t3 & Paul & 23 \\\\\n",
       "\\end{tabular}\n"
      ],
      "text/plain": [
       "\u001b[1m3×2 DataFrame\u001b[0m\n",
       "\u001b[1m Row \u001b[0m│\u001b[1m NAME   \u001b[0m\u001b[1m AGE   \u001b[0m\n",
       "     │\u001b[90m String \u001b[0m\u001b[90m Int64 \u001b[0m\n",
       "─────┼───────────────\n",
       "   1 │ John       34\n",
       "   2 │ Mary       12\n",
       "   3 │ Paul       23"
      ]
     },
     "metadata": {},
     "output_type": "display_data"
    }
   ],
   "source": [
    "\"\"\" Abstracting data of interest\"\"\"\n",
    "\n",
    "df[1:3,[\"NAME\",\"AGE\"]]\n",
    "\n"
   ]
  },
  {
   "cell_type": "code",
   "execution_count": 35,
   "metadata": {},
   "outputs": [
    {
     "data": {
      "text/plain": [
       "3-element Vector{String}:\n",
       " \"John\"\n",
       " \"Mary\"\n",
       " \"Paul\""
      ]
     },
     "metadata": {},
     "output_type": "display_data"
    }
   ],
   "source": [
    "\"\"\"Other ways of abstracting data\"\"\"\n",
    "\n",
    "df.NAME[1:3]"
   ]
  },
  {
   "cell_type": "markdown",
   "metadata": {},
   "source": [
    "# Geometries"
   ]
  },
  {
   "cell_type": "code",
   "execution_count": 36,
   "metadata": {},
   "outputs": [
    {
     "data": {
      "text/plain": [
       "4-element Vector{Geometry{2, Float64}}:\n",
       " Point(1.0, 2.0)\n",
       " Segment((0.0, 2.0), (1.0, 3.0))\n",
       " Triangle((0.0, 0.0), (1.0, 0.0), (1.0, 1.0))\n",
       " Ball(center: (2.0, 2.0), radius: 1.0)"
      ]
     },
     "metadata": {},
     "output_type": "display_data"
    }
   ],
   "source": [
    "\"\"\" GEOMETRIES \"\"\"\n",
    "\n",
    "p = GeoStats.Point(1, 2)\n",
    "s = GeoStats.Segment((0, 2), (1, 3))\n",
    "t = GeoStats.Triangle((0, 0), (1, 0), (1, 1))\n",
    "b = GeoStats.Ball((2, 2), 1)\n",
    "geoms = [p, s, t, b]"
   ]
  },
  {
   "cell_type": "code",
   "execution_count": 37,
   "metadata": {},
   "outputs": [
    {
     "data": {
      "text/plain": [
       "4 GeometrySet{2,Float64}\n",
       "├─ Point(1.0, 2.0)\n",
       "├─ Segment((0.0, 2.0), (1.0, 3.0))\n",
       "├─ Triangle((0.0, 0.0), (1.0, 0.0), (1.0, 1.0))\n",
       "└─ Ball(center: (2.0, 2.0), radius: 1.0)"
      ]
     },
     "metadata": {},
     "output_type": "display_data"
    }
   ],
   "source": [
    "\"\"\" Because these geometries are unaware of each other, we place them into a GeometrySet, informally known in computational geometry as the“soup of geometries” data structure \"\"\"\n",
    "\n",
    "gset = GeoStats.GeometrySet(geoms)"
   ]
  },
  {
   "cell_type": "code",
   "execution_count": 38,
   "metadata": {},
   "outputs": [
    {
     "data": {
      "text/plain": [
       "(1.4142135623730951, 0.5, 3.141592653589793)"
      ]
     },
     "metadata": {},
     "output_type": "display_data"
    }
   ],
   "source": [
    "\"\"\" Performing some mathematics \"\"\"\n",
    "\n",
    "GeoStats.length(s), GeoStats.area(t), GeoStats.area(b)\n"
   ]
  },
  {
   "cell_type": "markdown",
   "metadata": {},
   "source": [
    "### One of the main limitations of GIS software today is the lack of explicit representation of **topology**.\n",
    "\n",
    "\n",
    "\t\n"
   ]
  },
  {
   "cell_type": "code",
   "execution_count": 39,
   "metadata": {},
   "outputs": [
    {
     "data": {
      "text/plain": [
       "Quadrangle{2,Float64}\n",
       "├─ Point(9.0, 9.0)\n",
       "├─ Point(10.0, 9.0)\n",
       "├─ Point(10.0, 10.0)\n",
       "└─ Point(9.0, 10.0)"
      ]
     },
     "metadata": {},
     "output_type": "display_data"
    }
   ],
   "source": [
    "grid = GeoStats.CartesianGrid(10, 10)\n",
    "grid[100]"
   ]
  },
  {
   "cell_type": "code",
   "execution_count": 40,
   "metadata": {},
   "outputs": [
    {
     "data": {
      "text/plain": [
       "4 SimpleMesh{2,Float64}\n",
       "  6 vertices\n",
       "  ├─ Point(0.0, 0.0)\n",
       "  ├─ Point(1.0, 0.0)\n",
       "  ├─ Point(0.0, 1.0)\n",
       "  ├─ Point(1.0, 1.0)\n",
       "  ├─ Point(0.25, 0.5)\n",
       "  └─ Point(0.75, 0.5)\n",
       "  4 elements\n",
       "  ├─ Quadrangle(1, 2, 6, 5)\n",
       "  ├─ Triangle(2, 4, 6)\n",
       "  ├─ Quadrangle(4, 3, 5, 6)\n",
       "  └─ Triangle(3, 1, 15)"
      ]
     },
     "metadata": {},
     "output_type": "display_data"
    }
   ],
   "source": [
    "# global vector of 2D points\n",
    "points = [(0.0, 0.0), (1.0, 0.0), (0.0, 1.0), (1.0, 1.0), (0.25, 0.5), (0.75, 0.5)]\n",
    "\n",
    "# connect the points into N-gons\n",
    "connec = GeoStats.connect.([(1, 2, 6, 5), (2, 4, 6), (4, 3, 5, 6), (3, 1, 15)])\n",
    "\n",
    "# 2D mesh made of N-gon elements\n",
    "mesh = GeoStats.SimpleMesh(points, connec)\n"
   ]
  },
  {
   "cell_type": "code",
   "execution_count": 41,
   "metadata": {},
   "outputs": [
    {
     "data": {
      "text/plain": [
       "Triangle{2,Float64}\n",
       "├─ Point(0.0, 0.0)\n",
       "├─ Point(1.0, 0.0)\n",
       "└─ Point(1.0, 1.0)"
      ]
     },
     "metadata": {},
     "output_type": "display_data"
    }
   ],
   "source": [
    "# Connecting differet shapes & points\n",
    "\n",
    "c = GeoStats.connect((1, 2, 3))\n",
    "GeoStats.materialize(c, [Point(0, 0), Point(1, 0), Point(1, 1)])"
   ]
  },
  {
   "cell_type": "code",
   "execution_count": 42,
   "metadata": {},
   "outputs": [
    {
     "data": {
      "text/plain": [
       "Quadrangle{2,Float64}\n",
       "├─ Point(0.0, 0.0)\n",
       "├─ Point(1.0, 0.0)\n",
       "├─ Point(0.75, 0.5)\n",
       "└─ Point(0.25, 0.5)"
      ]
     },
     "metadata": {},
     "output_type": "display_data"
    }
   ],
   "source": [
    "mesh[1]\n"
   ]
  },
  {
   "cell_type": "code",
   "execution_count": 43,
   "metadata": {},
   "outputs": [
    {
     "data": {
      "text/html": [
       "<table>\n",
       "  <caption style = \"text-align: left;\">4×5 GeoTable over 2×2 CartesianGrid{2,Float64}</caption>\n",
       "  <thead>\n",
       "    <tr class = \"header\">\n",
       "      <th style = \"text-align: center;\">NAME</th>\n",
       "      <th style = \"text-align: center;\">AGE</th>\n",
       "      <th style = \"text-align: center;\">HEIGHT</th>\n",
       "      <th style = \"text-align: center;\">GENDER</th>\n",
       "      <th style = \"text-align: center;\">geometry</th>\n",
       "    </tr>\n",
       "    <tr class = \"subheader\">\n",
       "      <th style = \"text-align: center;\">Categorical</th>\n",
       "      <th style = \"text-align: center;\">Continuous</th>\n",
       "      <th style = \"text-align: center;\">Continuous</th>\n",
       "      <th style = \"text-align: center;\">Categorical</th>\n",
       "      <th style = \"text-align: center;\">Quadrangle</th>\n",
       "    </tr>\n",
       "    <tr class = \"subheader headerLastRow\">\n",
       "      <th style = \"text-align: center;\">[NoUnits]</th>\n",
       "      <th style = \"text-align: center;\">[yr]</th>\n",
       "      <th style = \"text-align: center;\">[m]</th>\n",
       "      <th style = \"text-align: center;\">[NoUnits]</th>\n",
       "      <th style = \"text-align: center;\"></th>\n",
       "    </tr>\n",
       "  </thead>\n",
       "  <tbody>\n",
       "    <tr>\n",
       "      <td style = \"text-align: center;\">John</td>\n",
       "      <td style = \"text-align: center;\">34.0 yr</td>\n",
       "      <td style = \"text-align: center;\">1.78 m</td>\n",
       "      <td style = \"text-align: center;\">male</td>\n",
       "      <td style = \"text-align: center;\">Quadrangle((0.0, 0.0), ..., (0.0, 1.0))</td>\n",
       "    </tr>\n",
       "    <tr>\n",
       "      <td style = \"text-align: center;\">Mary</td>\n",
       "      <td style = \"text-align: center;\">12.0 yr</td>\n",
       "      <td style = \"text-align: center;\">1.56 m</td>\n",
       "      <td style = \"text-align: center;\">female</td>\n",
       "      <td style = \"text-align: center;\">Quadrangle((1.0, 0.0), ..., (1.0, 1.0))</td>\n",
       "    </tr>\n",
       "    <tr>\n",
       "      <td style = \"text-align: center;\">Paul</td>\n",
       "      <td style = \"text-align: center;\">23.0 yr</td>\n",
       "      <td style = \"text-align: center;\">1.7 m</td>\n",
       "      <td style = \"text-align: center;\">male</td>\n",
       "      <td style = \"text-align: center;\">Quadrangle((0.0, 1.0), ..., (0.0, 2.0))</td>\n",
       "    </tr>\n",
       "    <tr>\n",
       "      <td style = \"text-align: center;\">Anne</td>\n",
       "      <td style = \"text-align: center;\">39.0 yr</td>\n",
       "      <td style = \"text-align: center;\">1.8 m</td>\n",
       "      <td style = \"text-align: center;\">female</td>\n",
       "      <td style = \"text-align: center;\">Quadrangle((1.0, 1.0), ..., (1.0, 2.0))</td>\n",
       "    </tr>\n",
       "  </tbody>\n",
       "</table>\n"
      ],
      "text/plain": [
       "\u001b[1m4×5 GeoTable over 2×2 CartesianGrid{2,Float64}\u001b[0m\n",
       "┌─────────────┬────────────┬────────────┬─────────────┬─────────────────────────\n",
       "│\u001b[35;1m    NAME     \u001b[0m│\u001b[35;1m    AGE     \u001b[0m│\u001b[35;1m   HEIGHT   \u001b[0m│\u001b[35;1m   GENDER    \u001b[0m│\u001b[38;2;0;128;128;1m                geometr\u001b[0m ⋯\n",
       "│\u001b[90m Categorical \u001b[0m│\u001b[90m Continuous \u001b[0m│\u001b[90m Continuous \u001b[0m│\u001b[90m Categorical \u001b[0m│\u001b[90m               Quadrang\u001b[0m ⋯\n",
       "│\u001b[90m  [NoUnits]  \u001b[0m│\u001b[90m    [yr]    \u001b[0m│\u001b[90m    [m]     \u001b[0m│\u001b[90m  [NoUnits]  \u001b[0m│\u001b[90m                       \u001b[0m ⋯\n",
       "├─────────────┼────────────┼────────────┼─────────────┼─────────────────────────\n",
       "│    John     │  34.0 yr   │   1.78 m   │    male     │ Quadrangle((0.0, 0.0), ⋯\n",
       "│    Mary     │  12.0 yr   │   1.56 m   │   female    │ Quadrangle((1.0, 0.0), ⋯\n",
       "│    Paul     │  23.0 yr   │   1.7 m    │    male     │ Quadrangle((0.0, 1.0), ⋯\n",
       "│    Anne     │  39.0 yr   │   1.8 m    │   female    │ Quadrangle((1.0, 1.0), ⋯\n",
       "└─────────────┴────────────┴────────────┴─────────────┴─────────────────────────\n",
       "\u001b[36m                                                                1 column omitted\u001b[0m"
      ]
     },
     "metadata": {},
     "output_type": "display_data"
    }
   ],
   "source": [
    "# Creating a geospatial data with dataframe with units\n",
    "\n",
    "df = DataFrame(\n",
    "  NAME=[\"John\", \"Mary\", \"Paul\", \"Anne\"],\n",
    "  AGE=[34.0, 12.0, 23.0, 39.0]u\"yr\",\n",
    "  HEIGHT=[1.78, 1.56, 1.70, 1.80]u\"m\",\n",
    "  GENDER=[\"male\", \"female\", \"male\", \"female\"]\n",
    ")\n",
    "\n",
    "#Grid size\n",
    "grid = GeoStats.CartesianGrid(2, 2)\n",
    "geotable = GeoStats.georef(df, grid)"
   ]
  },
  {
   "cell_type": "code",
   "execution_count": 44,
   "metadata": {},
   "outputs": [
    {
     "data": {
      "text/plain": [
       "4-element Vector{Quadrangle{2, Float64}}:\n",
       " Quadrangle((0.0, 0.0), ..., (0.0, 1.0))\n",
       " Quadrangle((1.0, 0.0), ..., (1.0, 1.0))\n",
       " Quadrangle((0.0, 1.0), ..., (0.0, 2.0))\n",
       " Quadrangle((1.0, 1.0), ..., (1.0, 2.0))"
      ]
     },
     "metadata": {},
     "output_type": "display_data"
    }
   ],
   "source": [
    "geotable.AGE[2:3]\n",
    "\n",
    "# Determening names\n",
    "DataFrames.names(geotable)\n",
    "\n",
    "# The geometry\n",
    "geotable.geometry[1:4]"
   ]
  },
  {
   "cell_type": "code",
   "execution_count": 45,
   "metadata": {},
   "outputs": [
    {
     "data": {
      "text/html": [
       "<table>\n",
       "  <caption style = \"text-align: left;\">1×5 GeoTable over 1 view(::CartesianGrid{2,Float64}, [1])</caption>\n",
       "  <thead>\n",
       "    <tr class = \"header\">\n",
       "      <th style = \"text-align: center;\">NAME</th>\n",
       "      <th style = \"text-align: center;\">AGE</th>\n",
       "      <th style = \"text-align: center;\">HEIGHT</th>\n",
       "      <th style = \"text-align: center;\">GENDER</th>\n",
       "      <th style = \"text-align: center;\">geometry</th>\n",
       "    </tr>\n",
       "    <tr class = \"subheader\">\n",
       "      <th style = \"text-align: center;\">Categorical</th>\n",
       "      <th style = \"text-align: center;\">Continuous</th>\n",
       "      <th style = \"text-align: center;\">Continuous</th>\n",
       "      <th style = \"text-align: center;\">Categorical</th>\n",
       "      <th style = \"text-align: center;\">Quadrangle</th>\n",
       "    </tr>\n",
       "    <tr class = \"subheader headerLastRow\">\n",
       "      <th style = \"text-align: center;\">[NoUnits]</th>\n",
       "      <th style = \"text-align: center;\">[yr]</th>\n",
       "      <th style = \"text-align: center;\">[m]</th>\n",
       "      <th style = \"text-align: center;\">[NoUnits]</th>\n",
       "      <th style = \"text-align: center;\"></th>\n",
       "    </tr>\n",
       "  </thead>\n",
       "  <tbody>\n",
       "    <tr>\n",
       "      <td style = \"text-align: center;\">John</td>\n",
       "      <td style = \"text-align: center;\">34.0 yr</td>\n",
       "      <td style = \"text-align: center;\">1.78 m</td>\n",
       "      <td style = \"text-align: center;\">male</td>\n",
       "      <td style = \"text-align: center;\">Quadrangle((0.0, 0.0), ..., (0.0, 1.0))</td>\n",
       "    </tr>\n",
       "  </tbody>\n",
       "</table>\n"
      ],
      "text/plain": [
       "\u001b[1m1×5 GeoTable over 1 view(::CartesianGrid{2,Float64}, [1])\u001b[0m\n",
       "┌─────────────┬────────────┬────────────┬─────────────┬─────────────────────────\n",
       "│\u001b[35;1m    NAME     \u001b[0m│\u001b[35;1m    AGE     \u001b[0m│\u001b[35;1m   HEIGHT   \u001b[0m│\u001b[35;1m   GENDER    \u001b[0m│\u001b[38;2;0;128;128;1m                geometr\u001b[0m ⋯\n",
       "│\u001b[90m Categorical \u001b[0m│\u001b[90m Continuous \u001b[0m│\u001b[90m Continuous \u001b[0m│\u001b[90m Categorical \u001b[0m│\u001b[90m               Quadrang\u001b[0m ⋯\n",
       "│\u001b[90m  [NoUnits]  \u001b[0m│\u001b[90m    [yr]    \u001b[0m│\u001b[90m    [m]     \u001b[0m│\u001b[90m  [NoUnits]  \u001b[0m│\u001b[90m                       \u001b[0m ⋯\n",
       "├─────────────┼────────────┼────────────┼─────────────┼─────────────────────────\n",
       "│    John     │  34.0 yr   │   1.78 m   │    male     │ Quadrangle((0.0, 0.0), ⋯\n",
       "└─────────────┴────────────┴────────────┴─────────────┴─────────────────────────\n",
       "\u001b[36m                                                                1 column omitted\u001b[0m"
      ]
     },
     "metadata": {},
     "output_type": "display_data"
    }
   ],
   "source": [
    "geotable[GeoStats.Segment((0, 0), (1, 0)), :]"
   ]
  },
  {
   "cell_type": "code",
   "execution_count": 46,
   "metadata": {},
   "outputs": [
    {
     "data": {
      "text/html": [
       "<table>\n",
       "  <caption style = \"text-align: left;\">100×4 GeoTable over 10×10 CartesianGrid{2,Float64}</caption>\n",
       "  <thead>\n",
       "    <tr class = \"header\">\n",
       "      <th style = \"text-align: center;\">R</th>\n",
       "      <th style = \"text-align: center;\">G</th>\n",
       "      <th style = \"text-align: center;\">B</th>\n",
       "      <th style = \"text-align: center;\">geometry</th>\n",
       "    </tr>\n",
       "    <tr class = \"subheader\">\n",
       "      <th style = \"text-align: center;\">Continuous</th>\n",
       "      <th style = \"text-align: center;\">Continuous</th>\n",
       "      <th style = \"text-align: center;\">Continuous</th>\n",
       "      <th style = \"text-align: center;\">Quadrangle</th>\n",
       "    </tr>\n",
       "    <tr class = \"subheader headerLastRow\">\n",
       "      <th style = \"text-align: center;\">[NoUnits]</th>\n",
       "      <th style = \"text-align: center;\">[NoUnits]</th>\n",
       "      <th style = \"text-align: center;\">[NoUnits]</th>\n",
       "      <th style = \"text-align: center;\"></th>\n",
       "    </tr>\n",
       "  </thead>\n",
       "  <tbody>\n",
       "    <tr>\n",
       "      <td style = \"text-align: center;\">0.278871</td>\n",
       "      <td style = \"text-align: center;\">0.317152</td>\n",
       "      <td style = \"text-align: center;\">0.936084</td>\n",
       "      <td style = \"text-align: center;\">Quadrangle((0.0, 0.0), ..., (0.0, 1.0))</td>\n",
       "    </tr>\n",
       "    <tr>\n",
       "      <td style = \"text-align: center;\">0.943539</td>\n",
       "      <td style = \"text-align: center;\">0.488189</td>\n",
       "      <td style = \"text-align: center;\">0.983204</td>\n",
       "      <td style = \"text-align: center;\">Quadrangle((1.0, 0.0), ..., (1.0, 1.0))</td>\n",
       "    </tr>\n",
       "    <tr>\n",
       "      <td style = \"text-align: center;\">0.802478</td>\n",
       "      <td style = \"text-align: center;\">0.987638</td>\n",
       "      <td style = \"text-align: center;\">0.523457</td>\n",
       "      <td style = \"text-align: center;\">Quadrangle((2.0, 0.0), ..., (2.0, 1.0))</td>\n",
       "    </tr>\n",
       "    <tr>\n",
       "      <td style = \"text-align: center;\">0.92139</td>\n",
       "      <td style = \"text-align: center;\">0.600542</td>\n",
       "      <td style = \"text-align: center;\">0.335026</td>\n",
       "      <td style = \"text-align: center;\">Quadrangle((3.0, 0.0), ..., (3.0, 1.0))</td>\n",
       "    </tr>\n",
       "    <tr>\n",
       "      <td style = \"text-align: center;\">0.681827</td>\n",
       "      <td style = \"text-align: center;\">0.584584</td>\n",
       "      <td style = \"text-align: center;\">0.306862</td>\n",
       "      <td style = \"text-align: center;\">Quadrangle((4.0, 0.0), ..., (4.0, 1.0))</td>\n",
       "    </tr>\n",
       "    <tr>\n",
       "      <td style = \"text-align: center;\">0.454518</td>\n",
       "      <td style = \"text-align: center;\">0.316822</td>\n",
       "      <td style = \"text-align: center;\">0.128493</td>\n",
       "      <td style = \"text-align: center;\">Quadrangle((5.0, 0.0), ..., (5.0, 1.0))</td>\n",
       "    </tr>\n",
       "    <tr>\n",
       "      <td style = \"text-align: center;\">0.64281</td>\n",
       "      <td style = \"text-align: center;\">0.798822</td>\n",
       "      <td style = \"text-align: center;\">0.1397</td>\n",
       "      <td style = \"text-align: center;\">Quadrangle((6.0, 0.0), ..., (6.0, 1.0))</td>\n",
       "    </tr>\n",
       "    <tr>\n",
       "      <td style = \"text-align: center;\">0.975295</td>\n",
       "      <td style = \"text-align: center;\">0.838444</td>\n",
       "      <td style = \"text-align: center;\">0.67438</td>\n",
       "      <td style = \"text-align: center;\">Quadrangle((7.0, 0.0), ..., (7.0, 1.0))</td>\n",
       "    </tr>\n",
       "    <tr>\n",
       "      <td style = \"text-align: center;\">0.354564</td>\n",
       "      <td style = \"text-align: center;\">0.706011</td>\n",
       "      <td style = \"text-align: center;\">0.135293</td>\n",
       "      <td style = \"text-align: center;\">Quadrangle((8.0, 0.0), ..., (8.0, 1.0))</td>\n",
       "    </tr>\n",
       "    <tr>\n",
       "      <td style = \"text-align: center;\">0.0951066</td>\n",
       "      <td style = \"text-align: center;\">0.275548</td>\n",
       "      <td style = \"text-align: center;\">0.0527861</td>\n",
       "      <td style = \"text-align: center;\">Quadrangle((9.0, 0.0), ..., (9.0, 1.0))</td>\n",
       "    </tr>\n",
       "    <tr>\n",
       "      <td style = \"text-align: right;\">&vellip;</td>\n",
       "      <td style = \"text-align: right;\">&vellip;</td>\n",
       "      <td style = \"text-align: right;\">&vellip;</td>\n",
       "      <td style = \"text-align: right;\">&vellip;</td>\n",
       "    </tr>\n",
       "  </tbody>\n",
       "</table>\n"
      ],
      "text/plain": [
       "\u001b[1m100×4 GeoTable over 10×10 CartesianGrid{2,Float64}\u001b[0m\n",
       "┌────────────┬────────────┬────────────┬────────────────────────────────────────\n",
       "│\u001b[35;1m     R      \u001b[0m│\u001b[35;1m     G      \u001b[0m│\u001b[35;1m     B      \u001b[0m│\u001b[38;2;0;128;128;1m                geometry              \u001b[0m ⋯\n",
       "│\u001b[90m Continuous \u001b[0m│\u001b[90m Continuous \u001b[0m│\u001b[90m Continuous \u001b[0m│\u001b[90m               Quadrangle             \u001b[0m ⋯\n",
       "│\u001b[90m [NoUnits]  \u001b[0m│\u001b[90m [NoUnits]  \u001b[0m│\u001b[90m [NoUnits]  \u001b[0m│\u001b[90m                                      \u001b[0m ⋯\n",
       "├────────────┼────────────┼────────────┼────────────────────────────────────────\n",
       "│  0.278871  │  0.317152  │  0.936084  │ Quadrangle((0.0, 0.0), ..., (0.0, 1.0 ⋯\n",
       "│  0.943539  │  0.488189  │  0.983204  │ Quadrangle((1.0, 0.0), ..., (1.0, 1.0 ⋯\n",
       "│  0.802478  │  0.987638  │  0.523457  │ Quadrangle((2.0, 0.0), ..., (2.0, 1.0 ⋯\n",
       "│  0.92139   │  0.600542  │  0.335026  │ Quadrangle((3.0, 0.0), ..., (3.0, 1.0 ⋯\n",
       "│  0.681827  │  0.584584  │  0.306862  │ Quadrangle((4.0, 0.0), ..., (4.0, 1.0 ⋯\n",
       "│  0.454518  │  0.316822  │  0.128493  │ Quadrangle((5.0, 0.0), ..., (5.0, 1.0 ⋯\n",
       "│  0.64281   │  0.798822  │   0.1397   │ Quadrangle((6.0, 0.0), ..., (6.0, 1.0 ⋯\n",
       "│  0.975295  │  0.838444  │  0.67438   │ Quadrangle((7.0, 0.0), ..., (7.0, 1.0 ⋯\n",
       "│  0.354564  │  0.706011  │  0.135293  │ Quadrangle((8.0, 0.0), ..., (8.0, 1.0 ⋯\n",
       "│ 0.0951066  │  0.275548  │ 0.0527861  │ Quadrangle((9.0, 0.0), ..., (9.0, 1.0 ⋯\n",
       "│  0.513779  │  0.151594  │  0.223044  │ Quadrangle((0.0, 1.0), ..., (0.0, 2.0 ⋯\n",
       "│  0.597235  │  0.483727  │  0.510508  │ Quadrangle((1.0, 1.0), ..., (1.0, 2.0 ⋯\n",
       "│  0.440146  │  0.431427  │  0.261961  │ Quadrangle((2.0, 1.0), ..., (2.0, 2.0 ⋯\n",
       "│  0.197804  │  0.763736  │ 0.0207369  │ Quadrangle((3.0, 1.0), ..., (3.0, 2.0 ⋯\n",
       "│     ⋮      │     ⋮      │     ⋮      │                    ⋮                  ⋱\n",
       "└────────────┴────────────┴────────────┴────────────────────────────────────────\n",
       "\u001b[36m                                                    1 column and 86 rows omitted\u001b[0m"
      ]
     },
     "metadata": {},
     "output_type": "display_data"
    }
   ],
   "source": [
    "# Easy way with dataframework\n",
    "df= DataFrame(\n",
    "\tR=rand(100),\n",
    "\tG=rand(100),\n",
    "\tB=rand(100))\n",
    "\n",
    "#Grid size\n",
    "grid = GeoStats.CartesianGrid(10, 10)\n",
    "geotable = GeoStats.georef(df, grid)"
   ]
  },
  {
   "cell_type": "code",
   "execution_count": 47,
   "metadata": {},
   "outputs": [
    {
     "data": {
      "text/html": [
       "<table>\n",
       "  <caption style = \"text-align: left;\">100×4 GeoTable over 10×10 CartesianGrid{2,Float64}</caption>\n",
       "  <thead>\n",
       "    <tr class = \"header\">\n",
       "      <th style = \"text-align: center;\">R</th>\n",
       "      <th style = \"text-align: center;\">G</th>\n",
       "      <th style = \"text-align: center;\">B</th>\n",
       "      <th style = \"text-align: center;\">geometry</th>\n",
       "    </tr>\n",
       "    <tr class = \"subheader\">\n",
       "      <th style = \"text-align: center;\">Continuous</th>\n",
       "      <th style = \"text-align: center;\">Continuous</th>\n",
       "      <th style = \"text-align: center;\">Continuous</th>\n",
       "      <th style = \"text-align: center;\">Quadrangle</th>\n",
       "    </tr>\n",
       "    <tr class = \"subheader headerLastRow\">\n",
       "      <th style = \"text-align: center;\">[NoUnits]</th>\n",
       "      <th style = \"text-align: center;\">[NoUnits]</th>\n",
       "      <th style = \"text-align: center;\">[NoUnits]</th>\n",
       "      <th style = \"text-align: center;\"></th>\n",
       "    </tr>\n",
       "  </thead>\n",
       "  <tbody>\n",
       "    <tr>\n",
       "      <td style = \"text-align: center;\">0.907739</td>\n",
       "      <td style = \"text-align: center;\">0.403089</td>\n",
       "      <td style = \"text-align: center;\">0.403671</td>\n",
       "      <td style = \"text-align: center;\">Quadrangle((0.0, 0.0), ..., (0.0, 1.0))</td>\n",
       "    </tr>\n",
       "    <tr>\n",
       "      <td style = \"text-align: center;\">0.962704</td>\n",
       "      <td style = \"text-align: center;\">0.879745</td>\n",
       "      <td style = \"text-align: center;\">0.139931</td>\n",
       "      <td style = \"text-align: center;\">Quadrangle((1.0, 0.0), ..., (1.0, 1.0))</td>\n",
       "    </tr>\n",
       "    <tr>\n",
       "      <td style = \"text-align: center;\">0.990085</td>\n",
       "      <td style = \"text-align: center;\">0.00220962</td>\n",
       "      <td style = \"text-align: center;\">0.460329</td>\n",
       "      <td style = \"text-align: center;\">Quadrangle((2.0, 0.0), ..., (2.0, 1.0))</td>\n",
       "    </tr>\n",
       "    <tr>\n",
       "      <td style = \"text-align: center;\">0.162561</td>\n",
       "      <td style = \"text-align: center;\">0.937889</td>\n",
       "      <td style = \"text-align: center;\">0.841577</td>\n",
       "      <td style = \"text-align: center;\">Quadrangle((3.0, 0.0), ..., (3.0, 1.0))</td>\n",
       "    </tr>\n",
       "    <tr>\n",
       "      <td style = \"text-align: center;\">0.386337</td>\n",
       "      <td style = \"text-align: center;\">0.932241</td>\n",
       "      <td style = \"text-align: center;\">0.62069</td>\n",
       "      <td style = \"text-align: center;\">Quadrangle((4.0, 0.0), ..., (4.0, 1.0))</td>\n",
       "    </tr>\n",
       "    <tr>\n",
       "      <td style = \"text-align: center;\">0.321217</td>\n",
       "      <td style = \"text-align: center;\">0.94052</td>\n",
       "      <td style = \"text-align: center;\">0.572313</td>\n",
       "      <td style = \"text-align: center;\">Quadrangle((5.0, 0.0), ..., (5.0, 1.0))</td>\n",
       "    </tr>\n",
       "    <tr>\n",
       "      <td style = \"text-align: center;\">0.476482</td>\n",
       "      <td style = \"text-align: center;\">0.460262</td>\n",
       "      <td style = \"text-align: center;\">0.793736</td>\n",
       "      <td style = \"text-align: center;\">Quadrangle((6.0, 0.0), ..., (6.0, 1.0))</td>\n",
       "    </tr>\n",
       "    <tr>\n",
       "      <td style = \"text-align: center;\">0.323264</td>\n",
       "      <td style = \"text-align: center;\">0.399195</td>\n",
       "      <td style = \"text-align: center;\">0.540503</td>\n",
       "      <td style = \"text-align: center;\">Quadrangle((7.0, 0.0), ..., (7.0, 1.0))</td>\n",
       "    </tr>\n",
       "    <tr>\n",
       "      <td style = \"text-align: center;\">0.496511</td>\n",
       "      <td style = \"text-align: center;\">0.172786</td>\n",
       "      <td style = \"text-align: center;\">0.293212</td>\n",
       "      <td style = \"text-align: center;\">Quadrangle((8.0, 0.0), ..., (8.0, 1.0))</td>\n",
       "    </tr>\n",
       "    <tr>\n",
       "      <td style = \"text-align: center;\">0.753733</td>\n",
       "      <td style = \"text-align: center;\">0.303951</td>\n",
       "      <td style = \"text-align: center;\">0.657966</td>\n",
       "      <td style = \"text-align: center;\">Quadrangle((9.0, 0.0), ..., (9.0, 1.0))</td>\n",
       "    </tr>\n",
       "    <tr>\n",
       "      <td style = \"text-align: right;\">&vellip;</td>\n",
       "      <td style = \"text-align: right;\">&vellip;</td>\n",
       "      <td style = \"text-align: right;\">&vellip;</td>\n",
       "      <td style = \"text-align: right;\">&vellip;</td>\n",
       "    </tr>\n",
       "  </tbody>\n",
       "</table>\n"
      ],
      "text/plain": [
       "\u001b[1m100×4 GeoTable over 10×10 CartesianGrid{2,Float64}\u001b[0m\n",
       "┌────────────┬────────────┬────────────┬────────────────────────────────────────\n",
       "│\u001b[35;1m     R      \u001b[0m│\u001b[35;1m     G      \u001b[0m│\u001b[35;1m     B      \u001b[0m│\u001b[38;2;0;128;128;1m                geometry              \u001b[0m ⋯\n",
       "│\u001b[90m Continuous \u001b[0m│\u001b[90m Continuous \u001b[0m│\u001b[90m Continuous \u001b[0m│\u001b[90m               Quadrangle             \u001b[0m ⋯\n",
       "│\u001b[90m [NoUnits]  \u001b[0m│\u001b[90m [NoUnits]  \u001b[0m│\u001b[90m [NoUnits]  \u001b[0m│\u001b[90m                                      \u001b[0m ⋯\n",
       "├────────────┼────────────┼────────────┼────────────────────────────────────────\n",
       "│  0.907739  │  0.403089  │  0.403671  │ Quadrangle((0.0, 0.0), ..., (0.0, 1.0 ⋯\n",
       "│  0.962704  │  0.879745  │  0.139931  │ Quadrangle((1.0, 0.0), ..., (1.0, 1.0 ⋯\n",
       "│  0.990085  │ 0.00220962 │  0.460329  │ Quadrangle((2.0, 0.0), ..., (2.0, 1.0 ⋯\n",
       "│  0.162561  │  0.937889  │  0.841577  │ Quadrangle((3.0, 0.0), ..., (3.0, 1.0 ⋯\n",
       "│  0.386337  │  0.932241  │  0.62069   │ Quadrangle((4.0, 0.0), ..., (4.0, 1.0 ⋯\n",
       "│  0.321217  │  0.94052   │  0.572313  │ Quadrangle((5.0, 0.0), ..., (5.0, 1.0 ⋯\n",
       "│  0.476482  │  0.460262  │  0.793736  │ Quadrangle((6.0, 0.0), ..., (6.0, 1.0 ⋯\n",
       "│  0.323264  │  0.399195  │  0.540503  │ Quadrangle((7.0, 0.0), ..., (7.0, 1.0 ⋯\n",
       "│  0.496511  │  0.172786  │  0.293212  │ Quadrangle((8.0, 0.0), ..., (8.0, 1.0 ⋯\n",
       "│  0.753733  │  0.303951  │  0.657966  │ Quadrangle((9.0, 0.0), ..., (9.0, 1.0 ⋯\n",
       "│  0.853156  │  0.306379  │  0.314274  │ Quadrangle((0.0, 1.0), ..., (0.0, 2.0 ⋯\n",
       "│ 0.0443266  │  0.817781  │ 0.00504233 │ Quadrangle((1.0, 1.0), ..., (1.0, 2.0 ⋯\n",
       "│ 0.0983381  │  0.298864  │  0.274064  │ Quadrangle((2.0, 1.0), ..., (2.0, 2.0 ⋯\n",
       "│  0.870665  │  0.450791  │  0.411105  │ Quadrangle((3.0, 1.0), ..., (3.0, 2.0 ⋯\n",
       "│     ⋮      │     ⋮      │     ⋮      │                    ⋮                  ⋱\n",
       "└────────────┴────────────┴────────────┴────────────────────────────────────────\n",
       "\u001b[36m                                                    1 column and 86 rows omitted\u001b[0m"
      ]
     },
     "metadata": {},
     "output_type": "display_data"
    }
   ],
   "source": [
    "# A short cut\n",
    "GeoStats.georef(\n",
    "  (\n",
    "    R=rand(100),\n",
    "    G=rand(100),\n",
    "    B=rand(100)\n",
    "  ),\n",
    "  GeoStats.CartesianGrid(10, 10)\n",
    ")"
   ]
  },
  {
   "cell_type": "code",
   "execution_count": 48,
   "metadata": {},
   "outputs": [
    {
     "data": {
      "text/html": [
       "<div><div style = \"float: left;\"><span>100×3 DataFrame</span></div><div style = \"float: right;\"><span style = \"font-style: italic;\">75 rows omitted</span></div><div style = \"clear: both;\"></div></div><div class = \"data-frame\" style = \"overflow-x: scroll;\"><table class = \"data-frame\" style = \"margin-bottom: 6px;\"><thead><tr class = \"header\"><th class = \"rowNumber\" style = \"font-weight: bold; text-align: right;\">Row</th><th style = \"text-align: left;\">R</th><th style = \"text-align: left;\">G</th><th style = \"text-align: left;\">B</th></tr><tr class = \"subheader headerLastRow\"><th class = \"rowNumber\" style = \"font-weight: bold; text-align: right;\"></th><th title = \"Float64\" style = \"text-align: left;\">Float64</th><th title = \"Float64\" style = \"text-align: left;\">Float64</th><th title = \"Float64\" style = \"text-align: left;\">Float64</th></tr></thead><tbody><tr><td class = \"rowNumber\" style = \"font-weight: bold; text-align: right;\">1</td><td style = \"text-align: right;\">0.278871</td><td style = \"text-align: right;\">0.317152</td><td style = \"text-align: right;\">0.936084</td></tr><tr><td class = \"rowNumber\" style = \"font-weight: bold; text-align: right;\">2</td><td style = \"text-align: right;\">0.943539</td><td style = \"text-align: right;\">0.488189</td><td style = \"text-align: right;\">0.983204</td></tr><tr><td class = \"rowNumber\" style = \"font-weight: bold; text-align: right;\">3</td><td style = \"text-align: right;\">0.802478</td><td style = \"text-align: right;\">0.987638</td><td style = \"text-align: right;\">0.523457</td></tr><tr><td class = \"rowNumber\" style = \"font-weight: bold; text-align: right;\">4</td><td style = \"text-align: right;\">0.92139</td><td style = \"text-align: right;\">0.600542</td><td style = \"text-align: right;\">0.335026</td></tr><tr><td class = \"rowNumber\" style = \"font-weight: bold; text-align: right;\">5</td><td style = \"text-align: right;\">0.681827</td><td style = \"text-align: right;\">0.584584</td><td style = \"text-align: right;\">0.306862</td></tr><tr><td class = \"rowNumber\" style = \"font-weight: bold; text-align: right;\">6</td><td style = \"text-align: right;\">0.454518</td><td style = \"text-align: right;\">0.316822</td><td style = \"text-align: right;\">0.128493</td></tr><tr><td class = \"rowNumber\" style = \"font-weight: bold; text-align: right;\">7</td><td style = \"text-align: right;\">0.64281</td><td style = \"text-align: right;\">0.798822</td><td style = \"text-align: right;\">0.1397</td></tr><tr><td class = \"rowNumber\" style = \"font-weight: bold; text-align: right;\">8</td><td style = \"text-align: right;\">0.975295</td><td style = \"text-align: right;\">0.838444</td><td style = \"text-align: right;\">0.67438</td></tr><tr><td class = \"rowNumber\" style = \"font-weight: bold; text-align: right;\">9</td><td style = \"text-align: right;\">0.354564</td><td style = \"text-align: right;\">0.706011</td><td style = \"text-align: right;\">0.135293</td></tr><tr><td class = \"rowNumber\" style = \"font-weight: bold; text-align: right;\">10</td><td style = \"text-align: right;\">0.0951066</td><td style = \"text-align: right;\">0.275548</td><td style = \"text-align: right;\">0.0527861</td></tr><tr><td class = \"rowNumber\" style = \"font-weight: bold; text-align: right;\">11</td><td style = \"text-align: right;\">0.513779</td><td style = \"text-align: right;\">0.151594</td><td style = \"text-align: right;\">0.223044</td></tr><tr><td class = \"rowNumber\" style = \"font-weight: bold; text-align: right;\">12</td><td style = \"text-align: right;\">0.597235</td><td style = \"text-align: right;\">0.483727</td><td style = \"text-align: right;\">0.510508</td></tr><tr><td class = \"rowNumber\" style = \"font-weight: bold; text-align: right;\">13</td><td style = \"text-align: right;\">0.440146</td><td style = \"text-align: right;\">0.431427</td><td style = \"text-align: right;\">0.261961</td></tr><tr><td style = \"text-align: right;\">&vellip;</td><td style = \"text-align: right;\">&vellip;</td><td style = \"text-align: right;\">&vellip;</td><td style = \"text-align: right;\">&vellip;</td></tr><tr><td class = \"rowNumber\" style = \"font-weight: bold; text-align: right;\">89</td><td style = \"text-align: right;\">0.224011</td><td style = \"text-align: right;\">0.645076</td><td style = \"text-align: right;\">0.884121</td></tr><tr><td class = \"rowNumber\" style = \"font-weight: bold; text-align: right;\">90</td><td style = \"text-align: right;\">0.357535</td><td style = \"text-align: right;\">0.888612</td><td style = \"text-align: right;\">0.18274</td></tr><tr><td class = \"rowNumber\" style = \"font-weight: bold; text-align: right;\">91</td><td style = \"text-align: right;\">0.966251</td><td style = \"text-align: right;\">0.494838</td><td style = \"text-align: right;\">0.601748</td></tr><tr><td class = \"rowNumber\" style = \"font-weight: bold; text-align: right;\">92</td><td style = \"text-align: right;\">0.755972</td><td style = \"text-align: right;\">0.785695</td><td style = \"text-align: right;\">0.568493</td></tr><tr><td class = \"rowNumber\" style = \"font-weight: bold; text-align: right;\">93</td><td style = \"text-align: right;\">0.033156</td><td style = \"text-align: right;\">0.170467</td><td style = \"text-align: right;\">0.00376987</td></tr><tr><td class = \"rowNumber\" style = \"font-weight: bold; text-align: right;\">94</td><td style = \"text-align: right;\">0.548281</td><td style = \"text-align: right;\">0.70709</td><td style = \"text-align: right;\">0.669848</td></tr><tr><td class = \"rowNumber\" style = \"font-weight: bold; text-align: right;\">95</td><td style = \"text-align: right;\">0.0511042</td><td style = \"text-align: right;\">0.350911</td><td style = \"text-align: right;\">0.448883</td></tr><tr><td class = \"rowNumber\" style = \"font-weight: bold; text-align: right;\">96</td><td style = \"text-align: right;\">0.891803</td><td style = \"text-align: right;\">0.952309</td><td style = \"text-align: right;\">0.151312</td></tr><tr><td class = \"rowNumber\" style = \"font-weight: bold; text-align: right;\">97</td><td style = \"text-align: right;\">0.369086</td><td style = \"text-align: right;\">0.467125</td><td style = \"text-align: right;\">0.788073</td></tr><tr><td class = \"rowNumber\" style = \"font-weight: bold; text-align: right;\">98</td><td style = \"text-align: right;\">0.333227</td><td style = \"text-align: right;\">0.164119</td><td style = \"text-align: right;\">0.152328</td></tr><tr><td class = \"rowNumber\" style = \"font-weight: bold; text-align: right;\">99</td><td style = \"text-align: right;\">0.0119126</td><td style = \"text-align: right;\">0.188903</td><td style = \"text-align: right;\">0.149664</td></tr><tr><td class = \"rowNumber\" style = \"font-weight: bold; text-align: right;\">100</td><td style = \"text-align: right;\">0.876817</td><td style = \"text-align: right;\">0.915377</td><td style = \"text-align: right;\">0.656217</td></tr></tbody></table></div>"
      ],
      "text/latex": [
       "\\begin{tabular}{r|ccc}\n",
       "\t& R & G & B\\\\\n",
       "\t\\hline\n",
       "\t& Float64 & Float64 & Float64\\\\\n",
       "\t\\hline\n",
       "\t1 & 0.278871 & 0.317152 & 0.936084 \\\\\n",
       "\t2 & 0.943539 & 0.488189 & 0.983204 \\\\\n",
       "\t3 & 0.802478 & 0.987638 & 0.523457 \\\\\n",
       "\t4 & 0.92139 & 0.600542 & 0.335026 \\\\\n",
       "\t5 & 0.681827 & 0.584584 & 0.306862 \\\\\n",
       "\t6 & 0.454518 & 0.316822 & 0.128493 \\\\\n",
       "\t7 & 0.64281 & 0.798822 & 0.1397 \\\\\n",
       "\t8 & 0.975295 & 0.838444 & 0.67438 \\\\\n",
       "\t9 & 0.354564 & 0.706011 & 0.135293 \\\\\n",
       "\t10 & 0.0951066 & 0.275548 & 0.0527861 \\\\\n",
       "\t11 & 0.513779 & 0.151594 & 0.223044 \\\\\n",
       "\t12 & 0.597235 & 0.483727 & 0.510508 \\\\\n",
       "\t13 & 0.440146 & 0.431427 & 0.261961 \\\\\n",
       "\t14 & 0.197804 & 0.763736 & 0.0207369 \\\\\n",
       "\t15 & 0.95007 & 0.313361 & 0.489872 \\\\\n",
       "\t16 & 0.166852 & 0.396623 & 0.28425 \\\\\n",
       "\t17 & 0.784394 & 0.985705 & 0.813303 \\\\\n",
       "\t18 & 0.21601 & 0.194519 & 0.0356792 \\\\\n",
       "\t19 & 0.294227 & 0.591544 & 0.423955 \\\\\n",
       "\t20 & 0.594522 & 0.576645 & 0.637625 \\\\\n",
       "\t21 & 0.2686 & 0.501036 & 0.392635 \\\\\n",
       "\t22 & 0.291442 & 0.282554 & 0.760383 \\\\\n",
       "\t23 & 0.238425 & 0.426523 & 0.667376 \\\\\n",
       "\t24 & 0.381777 & 0.0994695 & 0.99997 \\\\\n",
       "\t$\\dots$ & $\\dots$ & $\\dots$ & $\\dots$ \\\\\n",
       "\\end{tabular}\n"
      ],
      "text/plain": [
       "\u001b[1m100×3 DataFrame\u001b[0m\n",
       "\u001b[1m Row \u001b[0m│\u001b[1m R         \u001b[0m\u001b[1m G        \u001b[0m\u001b[1m B          \u001b[0m\n",
       "     │\u001b[90m Float64   \u001b[0m\u001b[90m Float64  \u001b[0m\u001b[90m Float64    \u001b[0m\n",
       "─────┼─────────────────────────────────\n",
       "   1 │ 0.278871   0.317152  0.936084\n",
       "   2 │ 0.943539   0.488189  0.983204\n",
       "   3 │ 0.802478   0.987638  0.523457\n",
       "   4 │ 0.92139    0.600542  0.335026\n",
       "   5 │ 0.681827   0.584584  0.306862\n",
       "   6 │ 0.454518   0.316822  0.128493\n",
       "   7 │ 0.64281    0.798822  0.1397\n",
       "   8 │ 0.975295   0.838444  0.67438\n",
       "  ⋮  │     ⋮         ⋮          ⋮\n",
       "  94 │ 0.548281   0.70709   0.669848\n",
       "  95 │ 0.0511042  0.350911  0.448883\n",
       "  96 │ 0.891803   0.952309  0.151312\n",
       "  97 │ 0.369086   0.467125  0.788073\n",
       "  98 │ 0.333227   0.164119  0.152328\n",
       "  99 │ 0.0119126  0.188903  0.149664\n",
       " 100 │ 0.876817   0.915377  0.656217\n",
       "\u001b[36m                        85 rows omitted\u001b[0m"
      ]
     },
     "metadata": {},
     "output_type": "display_data"
    }
   ],
   "source": [
    "# he DataFrame syntax is not type stable. If you need to write type-stable code, use the functions values and domain instead:\n",
    "\n",
    "GeoStats.values(geotable)"
   ]
  },
  {
   "cell_type": "markdown",
   "metadata": {},
   "source": [
    "# PART II:  Visualisation"
   ]
  },
  {
   "cell_type": "code",
   "execution_count": 49,
   "metadata": {},
   "outputs": [
    {
     "data": {
      "text/html": [
       "<table>\n",
       "  <caption style = \"text-align: left;\">10×3 GeoTable over 10 CartesianGrid{1,Float64}</caption>\n",
       "  <thead>\n",
       "    <tr class = \"header\">\n",
       "      <th style = \"text-align: center;\">A</th>\n",
       "      <th style = \"text-align: center;\">B</th>\n",
       "      <th style = \"text-align: center;\">geometry</th>\n",
       "    </tr>\n",
       "    <tr class = \"subheader\">\n",
       "      <th style = \"text-align: center;\">Continuous</th>\n",
       "      <th style = \"text-align: center;\">Continuous</th>\n",
       "      <th style = \"text-align: center;\">Segment</th>\n",
       "    </tr>\n",
       "    <tr class = \"subheader headerLastRow\">\n",
       "      <th style = \"text-align: center;\">[NoUnits]</th>\n",
       "      <th style = \"text-align: center;\">[NoUnits]</th>\n",
       "      <th style = \"text-align: center;\"></th>\n",
       "    </tr>\n",
       "  </thead>\n",
       "  <tbody>\n",
       "    <tr>\n",
       "      <td style = \"text-align: center;\">0.3272</td>\n",
       "      <td style = \"text-align: center;\">0.232237</td>\n",
       "      <td style = \"text-align: center;\">Segment((0.0,), (1.0,))</td>\n",
       "    </tr>\n",
       "    <tr>\n",
       "      <td style = \"text-align: center;\">0.744963</td>\n",
       "      <td style = \"text-align: center;\">0.202484</td>\n",
       "      <td style = \"text-align: center;\">Segment((1.0,), (2.0,))</td>\n",
       "    </tr>\n",
       "    <tr>\n",
       "      <td style = \"text-align: center;\">0.0297896</td>\n",
       "      <td style = \"text-align: center;\">0.681498</td>\n",
       "      <td style = \"text-align: center;\">Segment((2.0,), (3.0,))</td>\n",
       "    </tr>\n",
       "    <tr>\n",
       "      <td style = \"text-align: center;\">0.389427</td>\n",
       "      <td style = \"text-align: center;\">0.601631</td>\n",
       "      <td style = \"text-align: center;\">Segment((3.0,), (4.0,))</td>\n",
       "    </tr>\n",
       "    <tr>\n",
       "      <td style = \"text-align: center;\">0.655023</td>\n",
       "      <td style = \"text-align: center;\">0.440829</td>\n",
       "      <td style = \"text-align: center;\">Segment((4.0,), (5.0,))</td>\n",
       "    </tr>\n",
       "    <tr>\n",
       "      <td style = \"text-align: center;\">0.667657</td>\n",
       "      <td style = \"text-align: center;\">0.0977414</td>\n",
       "      <td style = \"text-align: center;\">Segment((5.0,), (6.0,))</td>\n",
       "    </tr>\n",
       "    <tr>\n",
       "      <td style = \"text-align: center;\">0.0546737</td>\n",
       "      <td style = \"text-align: center;\">0.117431</td>\n",
       "      <td style = \"text-align: center;\">Segment((6.0,), (7.0,))</td>\n",
       "    </tr>\n",
       "    <tr>\n",
       "      <td style = \"text-align: center;\">0.152128</td>\n",
       "      <td style = \"text-align: center;\">0.77665</td>\n",
       "      <td style = \"text-align: center;\">Segment((7.0,), (8.0,))</td>\n",
       "    </tr>\n",
       "    <tr>\n",
       "      <td style = \"text-align: center;\">0.0441631</td>\n",
       "      <td style = \"text-align: center;\">0.419422</td>\n",
       "      <td style = \"text-align: center;\">Segment((8.0,), (9.0,))</td>\n",
       "    </tr>\n",
       "    <tr>\n",
       "      <td style = \"text-align: center;\">0.391096</td>\n",
       "      <td style = \"text-align: center;\">0.814572</td>\n",
       "      <td style = \"text-align: center;\">Segment((9.0,), (10.0,))</td>\n",
       "    </tr>\n",
       "  </tbody>\n",
       "</table>\n"
      ],
      "text/plain": [
       "\u001b[1m10×3 GeoTable over 10 CartesianGrid{1,Float64}\u001b[0m\n",
       "┌────────────┬────────────┬──────────────────────────┐\n",
       "│\u001b[35;1m     A      \u001b[0m│\u001b[35;1m     B      \u001b[0m│\u001b[38;2;0;128;128;1m         geometry         \u001b[0m│\n",
       "│\u001b[90m Continuous \u001b[0m│\u001b[90m Continuous \u001b[0m│\u001b[90m         Segment          \u001b[0m│\n",
       "│\u001b[90m [NoUnits]  \u001b[0m│\u001b[90m [NoUnits]  \u001b[0m│\u001b[90m                          \u001b[0m│\n",
       "├────────────┼────────────┼──────────────────────────┤\n",
       "│   0.3272   │  0.232237  │ Segment((0.0,), (1.0,))  │\n",
       "│  0.744963  │  0.202484  │ Segment((1.0,), (2.0,))  │\n",
       "│ 0.0297896  │  0.681498  │ Segment((2.0,), (3.0,))  │\n",
       "│  0.389427  │  0.601631  │ Segment((3.0,), (4.0,))  │\n",
       "│  0.655023  │  0.440829  │ Segment((4.0,), (5.0,))  │\n",
       "│  0.667657  │ 0.0977414  │ Segment((5.0,), (6.0,))  │\n",
       "│ 0.0546737  │  0.117431  │ Segment((6.0,), (7.0,))  │\n",
       "│  0.152128  │  0.77665   │ Segment((7.0,), (8.0,))  │\n",
       "│ 0.0441631  │  0.419422  │ Segment((8.0,), (9.0,))  │\n",
       "│  0.391096  │  0.814572  │ Segment((9.0,), (10.0,)) │\n",
       "└────────────┴────────────┴──────────────────────────┘"
      ]
     },
     "metadata": {},
     "output_type": "display_data"
    }
   ],
   "source": [
    "A=rand(10)\n",
    "B=rand(10)\n",
    "img = GeoStats.georef((; A, B))\n"
   ]
  },
  {
   "cell_type": "code",
   "execution_count": 50,
   "metadata": {},
   "outputs": [
    {
     "data": {
      "text/plain": [
       "10 CartesianGrid{1,Float64}\n",
       "  minimum: Point(0.0,)\n",
       "  maximum: Point(10.0,)\n",
       "  spacing: (1.0,)"
      ]
     },
     "metadata": {},
     "output_type": "display_data"
    }
   ],
   "source": [
    "\"\"\"The georef function will create a CartesianGrid starting at the origin whenever the domain is omitted. The size of the grid is taken as the size of the first array in the named tuple\"\"\"\n",
    "\n",
    "img.geometry\n",
    "\n"
   ]
  },
  {
   "cell_type": "code",
   "execution_count": 51,
   "metadata": {},
   "outputs": [
    {
     "name": "stdout",
     "output_type": "stream",
     "text": []
    }
   ],
   "source": [
    "viz(img.geometry, color = img.A, alpha = rand(length(img.B)))"
   ]
  },
  {
   "cell_type": "code",
   "execution_count": 52,
   "metadata": {},
   "outputs": [
    {
     "data": {
      "text/html": [
       "<table>\n",
       "  <caption style = \"text-align: left;\">4×2 GeoTable over 4 GeometrySet{2,Float32}</caption>\n",
       "  <thead>\n",
       "    <tr class = \"header\">\n",
       "      <th style = \"text-align: center;\">NAME</th>\n",
       "      <th style = \"text-align: center;\">geometry</th>\n",
       "    </tr>\n",
       "    <tr class = \"subheader\">\n",
       "      <th style = \"text-align: center;\">Categorical</th>\n",
       "      <th style = \"text-align: center;\">MultiPolygon</th>\n",
       "    </tr>\n",
       "    <tr class = \"subheader headerLastRow\">\n",
       "      <th style = \"text-align: center;\">[NoUnits]</th>\n",
       "      <th style = \"text-align: center;\"></th>\n",
       "    </tr>\n",
       "  </thead>\n",
       "  <tbody>\n",
       "    <tr>\n",
       "      <td style = \"text-align: center;\">Estuario</td>\n",
       "      <td style = \"text-align: center;\">Multi(21×PolyArea)</td>\n",
       "    </tr>\n",
       "    <tr>\n",
       "      <td style = \"text-align: center;\">Fronteiras Antigas</td>\n",
       "      <td style = \"text-align: center;\">Multi(1×PolyArea)</td>\n",
       "    </tr>\n",
       "    <tr>\n",
       "      <td style = \"text-align: center;\">Fronteiras Intermediarias</td>\n",
       "      <td style = \"text-align: center;\">Multi(1×PolyArea)</td>\n",
       "    </tr>\n",
       "    <tr>\n",
       "      <td style = \"text-align: center;\">Fronteiras Novas</td>\n",
       "      <td style = \"text-align: center;\">Multi(2×PolyArea)</td>\n",
       "    </tr>\n",
       "  </tbody>\n",
       "</table>\n"
      ],
      "text/plain": [
       "\u001b[1m4×2 GeoTable over 4 GeometrySet{2,Float32}\u001b[0m\n",
       "┌───────────────────────────┬────────────────────┐\n",
       "│\u001b[35;1m           NAME            \u001b[0m│\u001b[38;2;0;128;128;1m      geometry      \u001b[0m│\n",
       "│\u001b[90m        Categorical        \u001b[0m│\u001b[90m    MultiPolygon    \u001b[0m│\n",
       "│\u001b[90m         [NoUnits]         \u001b[0m│\u001b[90m                    \u001b[0m│\n",
       "├───────────────────────────┼────────────────────┤\n",
       "│         Estuario          │ Multi(21×PolyArea) │\n",
       "│    Fronteiras Antigas     │ Multi(1×PolyArea)  │\n",
       "│ Fronteiras Intermediarias │ Multi(1×PolyArea)  │\n",
       "│     Fronteiras Novas      │ Multi(2×PolyArea)  │\n",
       "└───────────────────────────┴────────────────────┘"
      ]
     },
     "metadata": {},
     "output_type": "display_data"
    }
   ],
   "source": [
    "using GeoIO\n",
    "\n",
    "gis = GeoIO.load(Paths * \"/data/geotable.geojson\")\n"
   ]
  },
  {
   "cell_type": "code",
   "execution_count": 53,
   "metadata": {},
   "outputs": [
    {
     "name": "stdout",
     "output_type": "stream",
     "text": []
    }
   ],
   "source": [
    "GeoStats.viz(img.geometry, color = 1:100,  axis = (; aspect = Mke.DataAspect()))\n",
    "\n",
    "GeoStats.viz!(gis.geometry, color = 1:4)\n",
    "\n",
    "pts = [GeoStats.Point(-20, -10), Point(-20, 0), Point(-40, 10)]\n",
    "viz!(pts, color = 1:3)\n",
    "\n",
    "seg = [Segment((-40, -10), (0, 0)), Segment((-40, 0), (-20, 10))]\n",
    "viz!(seg, color = 1:2)\n",
    "\n",
    "Mke.current_figure()"
   ]
  },
  {
   "cell_type": "code",
   "execution_count": 54,
   "metadata": {},
   "outputs": [
    {
     "data": {
      "image/png": "[encoded data removed]",
      "text/html": [
       "<img width=600 height=450 style='object-fit: contain; height: auto;' src=\"data:image/png;base64, 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\"/>"
      ]
     },
     "metadata": {},
     "output_type": "display_data"
    }
   ],
   "source": [
    "# Plotting X or Y with the coordinates\n",
    "\n",
    "XYZ = [[0.0 1.0 2.0]; [0.0 10.0 20.0]; [0.0 1.0 2.0]]\n",
    "\n",
    "geotable = GeoStats.georef((A=rand(3), B=rand(3)), XYZ)\n",
    "\n",
    "GeoStats.viewer(geotable)"
   ]
  },
  {
   "cell_type": "code",
   "execution_count": 55,
   "metadata": {},
   "outputs": [
    {
     "data": {
      "text/html": [
       "<table>\n",
       "  <caption style = \"text-align: left;\">4×2 GeoTable over 2×2 CartesianGrid{2,Float64}</caption>\n",
       "  <thead>\n",
       "    <tr class = \"header\">\n",
       "      <th style = \"text-align: center;\">A</th>\n",
       "      <th style = \"text-align: center;\">geometry</th>\n",
       "    </tr>\n",
       "    <tr class = \"subheader\">\n",
       "      <th style = \"text-align: center;\">Categorical</th>\n",
       "      <th style = \"text-align: center;\">Quadrangle</th>\n",
       "    </tr>\n",
       "    <tr class = \"subheader headerLastRow\">\n",
       "      <th style = \"text-align: center;\">[m]</th>\n",
       "      <th style = \"text-align: center;\"></th>\n",
       "    </tr>\n",
       "  </thead>\n",
       "  <tbody>\n",
       "    <tr>\n",
       "      <td style = \"text-align: center;\">1 m</td>\n",
       "      <td style = \"text-align: center;\">Quadrangle((0.0, 0.0), ..., (0.0, 1.0))</td>\n",
       "    </tr>\n",
       "    <tr>\n",
       "      <td style = \"text-align: center;\">2 m</td>\n",
       "      <td style = \"text-align: center;\">Quadrangle((1.0, 0.0), ..., (1.0, 1.0))</td>\n",
       "    </tr>\n",
       "    <tr>\n",
       "      <td style = \"text-align: center;\">3 m</td>\n",
       "      <td style = \"text-align: center;\">Quadrangle((0.0, 1.0), ..., (0.0, 2.0))</td>\n",
       "    </tr>\n",
       "    <tr>\n",
       "      <td style = \"text-align: center;\">4 m</td>\n",
       "      <td style = \"text-align: center;\">Quadrangle((1.0, 1.0), ..., (1.0, 2.0))</td>\n",
       "    </tr>\n",
       "  </tbody>\n",
       "</table>\n"
      ],
      "text/plain": [
       "\u001b[1m4×2 GeoTable over 2×2 CartesianGrid{2,Float64}\u001b[0m\n",
       "┌─────────────┬─────────────────────────────────────────┐\n",
       "│\u001b[35;1m      A      \u001b[0m│\u001b[38;2;0;128;128;1m                geometry                 \u001b[0m│\n",
       "│\u001b[90m Categorical \u001b[0m│\u001b[90m               Quadrangle                \u001b[0m│\n",
       "│\u001b[90m     [m]     \u001b[0m│\u001b[90m                                         \u001b[0m│\n",
       "├─────────────┼─────────────────────────────────────────┤\n",
       "│     1 m     │ Quadrangle((0.0, 0.0), ..., (0.0, 1.0)) │\n",
       "│     2 m     │ Quadrangle((1.0, 0.0), ..., (1.0, 1.0)) │\n",
       "│     3 m     │ Quadrangle((0.0, 1.0), ..., (0.0, 2.0)) │\n",
       "│     4 m     │ Quadrangle((1.0, 1.0), ..., (1.0, 2.0)) │\n",
       "└─────────────┴─────────────────────────────────────────┘"
      ]
     },
     "metadata": {},
     "output_type": "display_data"
    }
   ],
   "source": [
    "geotable = georef((; A=[1,2,3,4]u\"m\"), CartesianGrid(2, 2))"
   ]
  },
  {
   "cell_type": "code",
   "execution_count": 11,
   "metadata": {},
   "outputs": [
    {
     "data": {
      "text/plain": [
       "4-element Vector{Segment{2, Float64}}:\n",
       " Segment((0.0, 0.0), (1.0, 0.0))\n",
       " Segment((1.0, 0.0), (1.0, 1.0))\n",
       " Segment((1.0, 1.0), (0.0, 1.0))\n",
       " Segment((0.0, 1.0), (0.0, 0.0))"
      ]
     },
     "metadata": {},
     "output_type": "display_data"
    }
   ],
   "source": [
    "outer = [(0.0, 0.0), (1.0, 0.0), (1.0, 1.0), (0.0, 1.0)]\n",
    "hole1 = [(0.2, 0.2), (0.4, 0.2), (0.4, 0.4), (0.2, 0.4)]\n",
    "hole2 = [(0.6, 0.2), (0.8, 0.2), (0.8, 0.4), (0.6, 0.4)]\n",
    "poly  = PolyArea([outer, hole1, hole2])\n",
    "\n",
    "r = rings(poly)\n",
    "\n",
    "# Transform the shapes into the segments\n",
    "collect(segments(first(r)))"
   ]
  },
  {
   "cell_type": "code",
   "execution_count": null,
   "metadata": {},
   "outputs": [],
   "source": [
    "using GeoStats\n",
    "\n",
    "p = Point(0.0, 0.0)\n",
    "b = Ball((0.5, 0.5), 1.0)\n",
    "\n",
    "viz([p, b], color = [\"teal\", \"slategray3\"])\n"
   ]
  },
  {
   "cell_type": "code",
   "execution_count": null,
   "metadata": {},
   "outputs": [],
   "source": [
    "p = Point(0.0, 0.0)\n",
    "b = Ball((0.5, 0.5), 1.0)\n",
    "\n",
    "viz([p, b], color = [\"teal\", \"slategray3\"])\n"
   ]
  },
  {
   "cell_type": "code",
   "execution_count": null,
   "metadata": {},
   "outputs": [],
   "source": [
    "b1 = Box((0, 0), (1, 1))\n",
    "b2 = Box((0.5, 0.5), (2, 2))\n",
    "\n",
    "viz([b1, b2], color = [\"teal\", \"slategray3\"])\n"
   ]
  },
  {
   "cell_type": "code",
   "execution_count": null,
   "metadata": {},
   "outputs": [],
   "source": [
    "outer = [(0.0, 0.0), (1.0, 0.0), (1.0, 1.0), (0.0, 1.0)]\n",
    "hole1 = [(0.2, 0.2), (0.4, 0.2), (0.4, 0.4), (0.2, 0.4)]\n",
    "hole2 = [(0.6, 0.2), (0.8, 0.2), (0.8, 0.4), (0.6, 0.4)]\n",
    "poly  = PolyArea([outer, hole1, hole2])\n",
    "ball1 = Ball((0.5, 0.5), 0.05)\n",
    "ball2 = Ball((0.3, 0.3), 0.05)\n",
    "\n",
    "viz([poly, ball1, ball2], color = [\"slategray3\", \"teal\", \"brown\"])\n"
   ]
  },
  {
   "cell_type": "code",
   "execution_count": null,
   "metadata": {},
   "outputs": [],
   "source": [
    "s1 = Segment((0.0, 0.0), (1.0, 0.0))\n",
    "s2 = Segment((0.5, 0.0), (2.0, 0.0))\n",
    "B=s1 ∩ s2\n",
    "\n",
    "viz([B])"
   ]
  },
  {
   "cell_type": "code",
   "execution_count": null,
   "metadata": {},
   "outputs": [],
   "source": [
    "intersection(s1, s2) do I\n",
    "\tprintln(Crossing)\n",
    "\tif I == Crossing\n",
    "\t  return 1\n",
    "\telse\n",
    "\t  return 0\n",
    "\tend\n",
    " end\n"
   ]
  },
  {
   "cell_type": "code",
   "execution_count": null,
   "metadata": {},
   "outputs": [],
   "source": [
    "poly1 = Ngon((0, 1), (1, 0), (2, 1), (3, 0), (4, 1), (2, 2))\n",
    "poly2 = Ngon((1.0, 0.5), (3.5, 0.0), (3.5, 1.5), (1.0, 1.5))\n",
    "\n",
    "poly =poly1 ∩ poly2\n",
    "viz([poly1, poly2, poly], color=[:red, :blue, :green])\n"
   ]
  },
  {
   "cell_type": "code",
   "execution_count": null,
   "metadata": {},
   "outputs": [],
   "source": [
    "boundary(poly)\n",
    "perimeter(poly)"
   ]
  },
  {
   "cell_type": "code",
   "execution_count": null,
   "metadata": {},
   "outputs": [],
   "source": [
    "points=rand(Point2, 100)\n",
    "viz(convexhull(points))"
   ]
  },
  {
   "cell_type": "code",
   "execution_count": null,
   "metadata": {},
   "outputs": [],
   "source": [
    "ball = Ball((0, 0), 1)\n",
    "\n",
    "mesh = discretize(ball, RegularDiscretization(20, 50))\n",
    "viz(mesh, showsegments=true) \n"
   ]
  },
  {
   "cell_type": "code",
   "execution_count": null,
   "metadata": {},
   "outputs": [],
   "source": [
    "mesh = discretize(Box((0, 0), (1, 1)))\n",
    "viz(mesh)\n",
    "tmesh = refine(mesh, TriRefinement())\n",
    "\n",
    "viz(tmesh, showsegments = true)"
   ]
  },
  {
   "cell_type": "code",
   "execution_count": null,
   "metadata": {},
   "outputs": [],
   "source": [
    "grid = CartesianGrid(2, 3)\n",
    "\n",
    "centroid.(grid)\n",
    "topo = topology(grid)\n"
   ]
  },
  {
   "cell_type": "code",
   "execution_count": null,
   "metadata": {},
   "outputs": [],
   "source": [
    "N=10000\n",
    "a = [2randn(N÷2) .+ 6; randn(N÷2)]\n",
    "b = [3randn(N÷2); 2randn(N÷2)]\n",
    "c = randn(N)\n",
    "d = c .+ 0.6randn(N)\n",
    "table=(;a,b,c,d)\n",
    "gt = georef(table, CartesianGrid(100, 100))"
   ]
  },
  {
   "cell_type": "code",
   "execution_count": null,
   "metadata": {},
   "outputs": [],
   "source": [
    "table.a\n",
    "Mke.hist(gt.a[1,:], color = \"gray80\")\n",
    "cor(gt.a, gt.b)\n",
    "\n",
    "\n",
    "\n",
    "pairplot(values(gt))\n"
   ]
  },
  {
   "cell_type": "code",
   "execution_count": null,
   "metadata": {},
   "outputs": [],
   "source": [
    "gt |> Select(\"a\", \"b\") # select columns \"a\" and \"b\"\n",
    "gt |> Select(1:3) # select columns 1 to 3\n",
    "gt |> Select(r\"[bcd]\") # columns matching regular expressio"
   ]
  },
  {
   "cell_type": "code",
   "execution_count": null,
   "metadata": {},
   "outputs": [],
   "source": [
    "gt |> Select(\"a\" => \"A\", \"b\" => \"B\")\n",
    "gt |> Reject(\"b\") # reject column \"b\"\n",
    "\n"
   ]
  },
  {
   "cell_type": "code",
   "execution_count": null,
   "metadata": {},
   "outputs": [],
   "source": [
    "gt |> Select(\"a\") |> viewer"
   ]
  },
  {
   "cell_type": "code",
   "execution_count": null,
   "metadata": {},
   "outputs": [],
   "source": [
    "gt |> Identity()"
   ]
  }
 ],
 "metadata": {
  "kernelspec": {
   "display_name": "Julia 1.10.3",
   "language": "julia",
   "name": "julia-1.10"
  },
  "language_info": {
   "file_extension": ".jl",
   "mimetype": "application/julia",
   "name": "julia",
   "version": "1.10.3"
  }
 },
 "nbformat": 4,
 "nbformat_minor": 2
}
