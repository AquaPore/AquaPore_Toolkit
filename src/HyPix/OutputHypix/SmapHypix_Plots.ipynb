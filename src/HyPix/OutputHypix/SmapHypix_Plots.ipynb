{
 "cells": [
  {
   "cell_type": "code",
   "execution_count": 84,
   "metadata": {},
   "outputs": [],
   "source": [
    "using CSV, DataFrames, CairoMakie"
   ]
  },
  {
   "cell_type": "code",
   "execution_count": 85,
   "metadata": {},
   "outputs": [
    {
     "data": {
      "text/html": [
       "<div><div style = \"float: left;\"><span>25×3 DataFrame</span></div><div style = \"clear: both;\"></div></div><div class = \"data-frame\" style = \"overflow-x: scroll;\"><table class = \"data-frame\" style = \"margin-bottom: 6px;\"><thead><tr class = \"header\"><th class = \"rowNumber\" style = \"font-weight: bold; text-align: right;\">Row</th><th style = \"text-align: left;\">SiteName</th><th style = \"text-align: left;\">NoRf</th><th style = \"text-align: left;\">Rf</th></tr><tr class = \"subheader headerLastRow\"><th class = \"rowNumber\" style = \"font-weight: bold; text-align: right;\"></th><th title = \"String15\" style = \"text-align: left;\">String15</th><th title = \"Float64\" style = \"text-align: left;\">Float64</th><th title = \"Float64\" style = \"text-align: left;\">Float64</th></tr></thead><tbody><tr><td class = \"rowNumber\" style = \"font-weight: bold; text-align: right;\">1</td><td style = \"text-align: left;\">Awatere</td><td style = \"text-align: right;\">0.75</td><td style = \"text-align: right;\">0.75</td></tr><tr><td class = \"rowNumber\" style = \"font-weight: bold; text-align: right;\">2</td><td style = \"text-align: left;\">Balclutha</td><td style = \"text-align: right;\">0.69</td><td style = \"text-align: right;\">0.69</td></tr><tr><td class = \"rowNumber\" style = \"font-weight: bold; text-align: right;\">3</td><td style = \"text-align: left;\">Cromwell</td><td style = \"text-align: right;\">0.73</td><td style = \"text-align: right;\">0.73</td></tr><tr><td class = \"rowNumber\" style = \"font-weight: bold; text-align: right;\">4</td><td style = \"text-align: left;\">Dannevirke</td><td style = \"text-align: right;\">0.75</td><td style = \"text-align: right;\">0.75</td></tr><tr><td class = \"rowNumber\" style = \"font-weight: bold; text-align: right;\">5</td><td style = \"text-align: left;\">Darfield</td><td style = \"text-align: right;\">0.71</td><td style = \"text-align: right;\">0.8</td></tr><tr><td class = \"rowNumber\" style = \"font-weight: bold; text-align: right;\">6</td><td style = \"text-align: left;\">Dargaville</td><td style = \"text-align: right;\">0.68</td><td style = \"text-align: right;\">0.68</td></tr><tr><td class = \"rowNumber\" style = \"font-weight: bold; text-align: right;\">7</td><td style = \"text-align: left;\">Dunedin</td><td style = \"text-align: right;\">0.68</td><td style = \"text-align: right;\">0.68</td></tr><tr><td class = \"rowNumber\" style = \"font-weight: bold; text-align: right;\">8</td><td style = \"text-align: left;\">FranzJosef</td><td style = \"text-align: right;\">0.62</td><td style = \"text-align: right;\">0.6</td></tr><tr><td class = \"rowNumber\" style = \"font-weight: bold; text-align: right;\">9</td><td style = \"text-align: left;\">Greymouth</td><td style = \"text-align: right;\">0.6</td><td style = \"text-align: right;\">0.57</td></tr><tr><td class = \"rowNumber\" style = \"font-weight: bold; text-align: right;\">10</td><td style = \"text-align: left;\">Hamilton</td><td style = \"text-align: right;\">0.75</td><td style = \"text-align: right;\">0.75</td></tr><tr><td class = \"rowNumber\" style = \"font-weight: bold; text-align: right;\">11</td><td style = \"text-align: left;\">Hanmer</td><td style = \"text-align: right;\">0.55</td><td style = \"text-align: right;\">0.54</td></tr><tr><td class = \"rowNumber\" style = \"font-weight: bold; text-align: right;\">12</td><td style = \"text-align: left;\">LakeTekapo</td><td style = \"text-align: right;\">0.55</td><td style = \"text-align: right;\">0.55</td></tr><tr><td class = \"rowNumber\" style = \"font-weight: bold; text-align: right;\">13</td><td style = \"text-align: left;\">Lincoln</td><td style = \"text-align: right;\">0.63</td><td style = \"text-align: right;\">0.63</td></tr><tr><td class = \"rowNumber\" style = \"font-weight: bold; text-align: right;\">14</td><td style = \"text-align: left;\">Martinborough</td><td style = \"text-align: right;\">0.66</td><td style = \"text-align: right;\">0.66</td></tr><tr><td class = \"rowNumber\" style = \"font-weight: bold; text-align: right;\">15</td><td style = \"text-align: left;\">Middlemarch</td><td style = \"text-align: right;\">0.6</td><td style = \"text-align: right;\">0.59</td></tr><tr><td class = \"rowNumber\" style = \"font-weight: bold; text-align: right;\">16</td><td style = \"text-align: left;\">Paraparaumu</td><td style = \"text-align: right;\">0.58</td><td style = \"text-align: right;\">0.58</td></tr><tr><td class = \"rowNumber\" style = \"font-weight: bold; text-align: right;\">17</td><td style = \"text-align: left;\">Pukekohe</td><td style = \"text-align: right;\">0.82</td><td style = \"text-align: right;\">0.83</td></tr><tr><td class = \"rowNumber\" style = \"font-weight: bold; text-align: right;\">18</td><td style = \"text-align: left;\">Rangiora</td><td style = \"text-align: right;\">0.68</td><td style = \"text-align: right;\">0.74</td></tr><tr><td class = \"rowNumber\" style = \"font-weight: bold; text-align: right;\">19</td><td style = \"text-align: left;\">Stratford</td><td style = \"text-align: right;\">0.73</td><td style = \"text-align: right;\">0.73</td></tr><tr><td class = \"rowNumber\" style = \"font-weight: bold; text-align: right;\">20</td><td style = \"text-align: left;\">Turangi</td><td style = \"text-align: right;\">0.61</td><td style = \"text-align: right;\">0.59</td></tr><tr><td class = \"rowNumber\" style = \"font-weight: bold; text-align: right;\">21</td><td style = \"text-align: left;\">Waipawa</td><td style = \"text-align: right;\">0.82</td><td style = \"text-align: right;\">0.82</td></tr><tr><td class = \"rowNumber\" style = \"font-weight: bold; text-align: right;\">22</td><td style = \"text-align: left;\">Wallaceville</td><td style = \"text-align: right;\">0.57</td><td style = \"text-align: right;\">0.53</td></tr><tr><td class = \"rowNumber\" style = \"font-weight: bold; text-align: right;\">23</td><td style = \"text-align: left;\">Warkworth</td><td style = \"text-align: right;\">0.73</td><td style = \"text-align: right;\">0.73</td></tr><tr><td class = \"rowNumber\" style = \"font-weight: bold; text-align: right;\">24</td><td style = \"text-align: left;\">Winchmore</td><td style = \"text-align: right;\">0.72</td><td style = \"text-align: right;\">0.79</td></tr><tr><td class = \"rowNumber\" style = \"font-weight: bold; text-align: right;\">25</td><td style = \"text-align: left;\">Windsor</td><td style = \"text-align: right;\">0.69</td><td style = \"text-align: right;\">0.69</td></tr></tbody></table></div>"
      ],
      "text/latex": [
       "\\begin{tabular}{r|ccc}\n",
       "\t& SiteName & NoRf & Rf\\\\\n",
       "\t\\hline\n",
       "\t& String15 & Float64 & Float64\\\\\n",
       "\t\\hline\n",
       "\t1 & Awatere & 0.75 & 0.75 \\\\\n",
       "\t2 & Balclutha & 0.69 & 0.69 \\\\\n",
       "\t3 & Cromwell & 0.73 & 0.73 \\\\\n",
       "\t4 & Dannevirke & 0.75 & 0.75 \\\\\n",
       "\t5 & Darfield & 0.71 & 0.8 \\\\\n",
       "\t6 & Dargaville & 0.68 & 0.68 \\\\\n",
       "\t7 & Dunedin & 0.68 & 0.68 \\\\\n",
       "\t8 & FranzJosef & 0.62 & 0.6 \\\\\n",
       "\t9 & Greymouth & 0.6 & 0.57 \\\\\n",
       "\t10 & Hamilton & 0.75 & 0.75 \\\\\n",
       "\t11 & Hanmer & 0.55 & 0.54 \\\\\n",
       "\t12 & LakeTekapo & 0.55 & 0.55 \\\\\n",
       "\t13 & Lincoln & 0.63 & 0.63 \\\\\n",
       "\t14 & Martinborough & 0.66 & 0.66 \\\\\n",
       "\t15 & Middlemarch & 0.6 & 0.59 \\\\\n",
       "\t16 & Paraparaumu & 0.58 & 0.58 \\\\\n",
       "\t17 & Pukekohe & 0.82 & 0.83 \\\\\n",
       "\t18 & Rangiora & 0.68 & 0.74 \\\\\n",
       "\t19 & Stratford & 0.73 & 0.73 \\\\\n",
       "\t20 & Turangi & 0.61 & 0.59 \\\\\n",
       "\t21 & Waipawa & 0.82 & 0.82 \\\\\n",
       "\t22 & Wallaceville & 0.57 & 0.53 \\\\\n",
       "\t23 & Warkworth & 0.73 & 0.73 \\\\\n",
       "\t24 & Winchmore & 0.72 & 0.79 \\\\\n",
       "\t$\\dots$ & $\\dots$ & $\\dots$ & $\\dots$ \\\\\n",
       "\\end{tabular}\n"
      ],
      "text/plain": [
       "\u001b[1m25×3 DataFrame\u001b[0m\n",
       "\u001b[1m Row \u001b[0m│\u001b[1m SiteName     \u001b[0m\u001b[1m NoRf    \u001b[0m\u001b[1m Rf      \u001b[0m\n",
       "     │\u001b[90m String15     \u001b[0m\u001b[90m Float64 \u001b[0m\u001b[90m Float64 \u001b[0m\n",
       "─────┼────────────────────────────────\n",
       "   1 │ Awatere          0.75     0.75\n",
       "   2 │ Balclutha        0.69     0.69\n",
       "   3 │ Cromwell         0.73     0.73\n",
       "   4 │ Dannevirke       0.75     0.75\n",
       "   5 │ Darfield         0.71     0.8\n",
       "   6 │ Dargaville       0.68     0.68\n",
       "   7 │ Dunedin          0.68     0.68\n",
       "   8 │ FranzJosef       0.62     0.6\n",
       "  ⋮  │      ⋮           ⋮        ⋮\n",
       "  19 │ Stratford        0.73     0.73\n",
       "  20 │ Turangi          0.61     0.59\n",
       "  21 │ Waipawa          0.82     0.82\n",
       "  22 │ Wallaceville     0.57     0.53\n",
       "  23 │ Warkworth        0.73     0.73\n",
       "  24 │ Winchmore        0.72     0.79\n",
       "  25 │ Windsor          0.69     0.69\n",
       "\u001b[36m                       10 rows omitted\u001b[0m"
      ]
     },
     "metadata": {},
     "output_type": "display_data"
    }
   ],
   "source": [
    "\tPath = raw\"C:\\JOE\\MAIN\\PUB\\PAPERS\\SmapHydro\\Results\\SmapHydro_NIWA.csv\"\n",
    "\tDf = DataFrame(CSV.File(Path))"
   ]
  },
  {
   "cell_type": "code",
   "execution_count": 86,
   "metadata": {},
   "outputs": [
    {
     "data": {
      "text/plain": [
       "25-element Vector{Float64}:\n",
       " 0.75\n",
       " 0.69\n",
       " 0.73\n",
       " 0.75\n",
       " 0.8\n",
       " 0.68\n",
       " 0.68\n",
       " 0.6\n",
       " 0.57\n",
       " 0.75\n",
       " ⋮\n",
       " 0.83\n",
       " 0.74\n",
       " 0.73\n",
       " 0.59\n",
       " 0.82\n",
       " 0.53\n",
       " 0.73\n",
       " 0.79\n",
       " 0.69"
      ]
     },
     "metadata": {},
     "output_type": "display_data"
    }
   ],
   "source": [
    "\tNoRf = Df[!,:NoRf]\n",
    "\tRf= Df[!,:Rf]\n",
    "\tRf_KsNoClay = Df[!,:Rf]\n"
   ]
  },
  {
   "cell_type": "code",
   "execution_count": 91,
   "metadata": {},
   "outputs": [
    {
     "data": {
      "image/png": "[encoded data removed]"
     },
     "metadata": {},
     "output_type": "display_data"
    }
   ],
   "source": [
    "Bins = 7\n",
    "\n",
    "\n",
    "Fig1 = Figure()\n",
    "hist( Fig1[1,1], NoRf, bins=Bins, color=:blue)\n",
    "\n",
    "xlims!(0.5,0.9)\n",
    "ylims!(0.,8)\n",
    "# hist(Fig1[2,1], Rf_KsNoClay, bins = Bins, color=:green)\n",
    "# xlims!(0.5,0.9)\n",
    "# ylims!(0.,8)\n",
    "hist( Fig1[2,1], Rf, bins = Bins,  color=:yellow)\n",
    "xlims!(0.5,0.9)\n",
    "ylims!(0.,8)\n",
    "\n",
    "Fig1\n",
    "# Makie.hist(Fig1[1,1], Df[!,:Rf], bins = 10)"
   ]
  }
 ],
 "metadata": {
  "kernelspec": {
   "display_name": "Julia 1.9.1",
   "language": "julia",
   "name": "julia-1.9"
  },
  "language_info": {
   "file_extension": ".jl",
   "mimetype": "application/julia",
   "name": "julia",
   "version": "1.9.1"
  },
  "orig_nbformat": 4
 },
 "nbformat": 4,
 "nbformat_minor": 2
}
